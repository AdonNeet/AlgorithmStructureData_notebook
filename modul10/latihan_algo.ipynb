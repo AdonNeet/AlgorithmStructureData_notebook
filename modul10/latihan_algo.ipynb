{
 "cells": [
  {
   "cell_type": "markdown",
   "id": "fe993855-3c7f-4e70-a458-a7c8305c2a2c",
   "metadata": {},
   "source": [
    "# 10.1"
   ]
  },
  {
   "cell_type": "code",
   "execution_count": 1,
   "id": "13d074ce-5edc-4db0-ba29-7ea85fd7eb17",
   "metadata": {},
   "outputs": [
    {
     "name": "stdout",
     "output_type": "stream",
     "text": [
      "Jumlah adalah 50005000, memerlukan 0.00092578 detik\n",
      "Jumlah adalah 50005000, memerlukan 0.00081444 detik\n",
      "Jumlah adalah 50005000, memerlukan 0.00077653 detik\n",
      "Jumlah adalah 50005000, memerlukan 0.00077415 detik\n",
      "Jumlah adalah 50005000, memerlukan 0.00079346 detik\n",
      " \n",
      "Jumlah adalah 500000500000, memerlukan 0.05147910 detik\n",
      "Jumlah adalah 500000500000, memerlukan 0.05660510 detik\n",
      "Jumlah adalah 500000500000, memerlukan 0.05124855 detik\n",
      "Jumlah adalah 500000500000, memerlukan 0.07643580 detik\n",
      "Jumlah adalah 500000500000, memerlukan 0.07753801 detik\n"
     ]
    }
   ],
   "source": [
    "import time\n",
    "import random\n",
    "\n",
    "def jumlahkan_cara_1(n):\n",
    "    hasilnya = 0\n",
    "    for i in range(1, n+1):\n",
    "        hasilnya = hasilnya + i\n",
    "    return hasilnya\n",
    "\n",
    "for i in range(5): # mengulang lima kali\n",
    "    awal = time.time() # menandai awal kerja\n",
    "    h = jumlahkan_cara_1(10000) # menjumlah 1 sampai sepuluh ribu\n",
    "    akhir = time.time() # menandai akhir kerja, lalu mencetak\n",
    "    print(\"Jumlah adalah %d, memerlukan %9.8f detik\" % (h, akhir-awal))\n",
    "\n",
    "print(\" \")\n",
    "\n",
    "for i in range(5): # mengulang lima kali\n",
    "    awal = time.time() # menandai awal kerja\n",
    "    h = jumlahkan_cara_1(1000000) # menjumlah 1 sampai sepuluh ribu\n",
    "    akhir = time.time() # menandai akhir kerja, lalu mencetak\n",
    "    print(\"Jumlah adalah %d, memerlukan %9.8f detik\" % (h, akhir-awal))"
   ]
  },
  {
   "cell_type": "code",
   "execution_count": 2,
   "id": "1766ba1c-6068-4f49-baf3-403ed69567e7",
   "metadata": {},
   "outputs": [
    {
     "name": "stdout",
     "output_type": "stream",
     "text": [
      "Jumlah adalah 500000500000, memerlukan 0.00000167 detik\n",
      "Jumlah adalah 500000500000, memerlukan 0.00000095 detik\n",
      "Jumlah adalah 500000500000, memerlukan 0.00000072 detik\n",
      "Jumlah adalah 500000500000, memerlukan 0.00000072 detik\n",
      "Jumlah adalah 500000500000, memerlukan 0.00000024 detik\n",
      " \n",
      "Jumlah adalah 2000001000000, memerlukan 0.00000072 detik\n",
      "Jumlah adalah 2000001000000, memerlukan 0.00000072 detik\n",
      "Jumlah adalah 2000001000000, memerlukan 0.00000095 detik\n",
      "Jumlah adalah 2000001000000, memerlukan 0.00000048 detik\n",
      "Jumlah adalah 2000001000000, memerlukan 0.00000048 detik\n"
     ]
    }
   ],
   "source": [
    "def jumlahkan_cara_2(n):\n",
    "    return ( n*(n + 1) )/2\n",
    "\n",
    "for i in range(5): # mengulang lima kali\n",
    "    awal = time.time() # menandai awal kerja\n",
    "    h = jumlahkan_cara_2(1000000) # menjumlah 1 sampai sepuluh ribu\n",
    "    akhir = time.time() # menandai akhir kerja, lalu mencetak\n",
    "    print(\"Jumlah adalah %d, memerlukan %9.8f detik\" % (h, akhir-awal))\n",
    "\n",
    "print(\" \")\n",
    "\n",
    "for i in range(5): # mengulang lima kali\n",
    "    awal = time.time() # menandai awal kerja\n",
    "    h = jumlahkan_cara_2(2000000) # menjumlah 1 sampai sepuluh ribu\n",
    "    akhir = time.time() # menandai akhir kerja, lalu mencetak\n",
    "    print(\"Jumlah adalah %d, memerlukan %9.8f detik\" % (h, akhir-awal))"
   ]
  },
  {
   "cell_type": "markdown",
   "id": "a4f8eaf4-0691-4b58-9e0f-ff745c874833",
   "metadata": {},
   "source": [
    "# 10.3"
   ]
  },
  {
   "cell_type": "code",
   "execution_count": 3,
   "id": "0d12f4f8-6345-427e-abdb-0167c2f3e7f7",
   "metadata": {},
   "outputs": [
    {
     "name": "stdout",
     "output_type": "stream",
     "text": [
      "Average Case\n",
      "Mengurutkan 3000 bilangan, memerlukan 0.3108270 detik\n",
      "Mengurutkan 3000 bilangan, memerlukan 0.2984779 detik\n",
      "Mengurutkan 3000 bilangan, memerlukan 0.3205781 detik\n",
      "Mengurutkan 3000 bilangan, memerlukan 0.3127229 detik\n",
      "Mengurutkan 3000 bilangan, memerlukan 0.3112209 detik\n",
      " \n",
      "Worst Case\n",
      "Mengurutkan 3000 bilangan, memerlukan 0.6330352 detik\n",
      "Mengurutkan 3000 bilangan, memerlukan 0.6133170 detik\n",
      "Mengurutkan 3000 bilangan, memerlukan 0.6118686 detik\n",
      "Mengurutkan 3000 bilangan, memerlukan 0.6168804 detik\n",
      "Mengurutkan 3000 bilangan, memerlukan 0.6201615 detik\n",
      " \n",
      "Best Case\n",
      "Mengurutkan 3000 bilangan, memerlukan 0.0005612 detik\n",
      "Mengurutkan 3000 bilangan, memerlukan 0.0005736 detik\n",
      "Mengurutkan 3000 bilangan, memerlukan 0.0005810 detik\n",
      "Mengurutkan 3000 bilangan, memerlukan 0.0005629 detik\n",
      "Mengurutkan 3000 bilangan, memerlukan 0.0005562 detik\n"
     ]
    }
   ],
   "source": [
    "def insertionSort(arr):\n",
    "    for i in range(1, len(arr)):\n",
    "        key = arr[i]\n",
    "        j = i - 1\n",
    "        while j >= 0 and key < arr[j]:\n",
    "            arr[j + 1] = arr[j]\n",
    "            j -= 1\n",
    "        arr[j + 1] = key\n",
    "\n",
    "print(\"Average Case\")\n",
    "for i in range(5):\n",
    "    L = list(range(3000))\n",
    "    random.shuffle(L) # Mengacak posisi elemen di list\n",
    "    awal = time.time()\n",
    "    U = insertionSort(L)\n",
    "    akhir = time.time()\n",
    "    print(\"Mengurutkan %d bilangan, memerlukan %8.7f detik\" % (len(L),akhir-awal))\n",
    "\n",
    "print(' ')\n",
    "print(\"Worst Case\")\n",
    "for i in range(5):\n",
    "    L = list(range(3000))\n",
    "    L = L[::-1] # Membalik urutan elemen di list\n",
    "    awal = time.time()\n",
    "    U = insertionSort(L)\n",
    "    akhir = time.time()\n",
    "    print(\"Mengurutkan %d bilangan, memerlukan %8.7f detik\" % (len(L),akhir-awal))\n",
    "\n",
    "print(' ')\n",
    "print(\"Best Case\")\n",
    "for i in range(5):\n",
    "    L = list(range(3000))\n",
    "\n",
    "    awal = time.time()\n",
    "    U = insertionSort(L)\n",
    "    akhir = time.time()\n",
    "    print(\"Mengurutkan %d bilangan, memerlukan %8.7f detik\" % (len(L),akhir-awal))"
   ]
  },
  {
   "cell_type": "markdown",
   "id": "c5bc310e-c513-4051-89f8-6e100d0358d0",
   "metadata": {},
   "source": [
    "# 10.5 "
   ]
  },
  {
   "cell_type": "code",
   "execution_count": 4,
   "id": "4f15b535-0197-4a3a-8f73-b64c7e9b5cde",
   "metadata": {},
   "outputs": [
    {
     "name": "stdout",
     "output_type": "stream",
     "text": [
      "0.0011308440000448172\n",
      "0.009035821999987093\n",
      "0.07894969199992374\n"
     ]
    }
   ],
   "source": [
    "from timeit import timeit\n",
    "print(timeit('sqrt(2)' , 'from math import sqrt' , number=10000))\n",
    "print(timeit('sqrt(2)' , 'from math import sqrt' , number=100000))\n",
    "print(timeit('sqrt(2)' , 'from math import sqrt' , number=1000000))"
   ]
  },
  {
   "cell_type": "code",
   "execution_count": 5,
   "id": "70eef865-0c29-49fa-aeed-2987c1530a03",
   "metadata": {},
   "outputs": [
    {
     "name": "stdout",
     "output_type": "stream",
     "text": [
      "0.02324694900016766\n",
      "0.18147048100013308\n",
      "0.12281938000000991\n"
     ]
    }
   ],
   "source": [
    "print(timeit(\"1+2\"))\n",
    "print(timeit(\"sin(pi/3)\", setup=\"from math import sin, pi\"))\n",
    "print(timeit(\"sin(1.047)\", setup=\"from math import sin\"))"
   ]
  },
  {
   "cell_type": "markdown",
   "id": "f32c5dd5-96c6-448f-9b31-c6a4b44e12af",
   "metadata": {},
   "source": [
    "## Big O"
   ]
  },
  {
   "cell_type": "code",
   "execution_count": 6,
   "id": "f2e5b15e-86e2-456f-a8ed-b01fcb41b9a9",
   "metadata": {},
   "outputs": [
    {
     "data": {
      "image/png": "[encoded data removed]",
      "text/plain": [
       "<Figure size 640x480 with 1 Axes>"
      ]
     },
     "metadata": {},
     "output_type": "display_data"
    }
   ],
   "source": [
    "import timeit\n",
    "import matplotlib.pyplot as plt\n",
    "\n",
    "## Ini fungsi nested loop yang akan diuji:\n",
    "def kalangBersusuh(n):\n",
    "    for i in range(n):\n",
    "        for j in range(n):\n",
    "            i + j\n",
    "\n",
    "## Ini fungsi pengujinya:\n",
    "def ujiKalangBersusuh(n):\n",
    "    ls = []\n",
    "    jangkauan = range(1, n + 1)\n",
    "    siap = \"from __main__ import kalangBersusuh\"\n",
    "    for i in jangkauan:\n",
    "        # print('i =', i) # baris ini bisa dihidupkan atau dimatikan\n",
    "        t = timeit.timeit(\"kalangBersusuh(\" + str(i) + \")\", setup=siap, number=1)\n",
    "        ls.append(t)\n",
    "    return ls\n",
    "\n",
    "## Pemanggilan pengujian:\n",
    "n = 1000\n",
    "LS = ujiKalangBersusuh(n) # dari 1 sampai 1000.\n",
    "## LS adalah list hasil uji kecepatan, dari n sedikit ke banyak.\n",
    "\n",
    "## Menggambar grafik. Di bawah ini saja yang diulang saat menyesuaikan skala.\n",
    "plt.plot(LS) # Mem-plot hasil uji\n",
    "skala = 7700000 # <------ Setel skala ini sesuai hasilmu.\n",
    "plt.plot([x * x / skala for x in range(1, n + 1)]) # Grafik x^2 untuk pembanding.\n",
    "plt.show() # Tunjukkan plotnya\n"
   ]
  },
  {
   "cell_type": "code",
   "execution_count": null,
   "id": "8a4bd889-d1f0-4feb-8aa9-4487819d15dc",
   "metadata": {},
   "outputs": [],
   "source": []
  }
 ],
 "metadata": {
  "kernelspec": {
   "display_name": "Python 3 (ipykernel)",
   "language": "python",
   "name": "python3"
  },
  "language_info": {
   "codemirror_mode": {
    "name": "ipython",
    "version": 3
   },
   "file_extension": ".py",
   "mimetype": "text/x-python",
   "name": "python",
   "nbconvert_exporter": "python",
   "pygments_lexer": "ipython3",
   "version": "3.11.8"
  },
  "widgets": {
   "application/vnd.jupyter.widget-state+json": {
    "state": {},
    "version_major": 2,
    "version_minor": 0
   }
  }
 },
 "nbformat": 4,
 "nbformat_minor": 5
}
