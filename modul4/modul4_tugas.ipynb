{
 "cells": [
  {
   "cell_type": "markdown",
   "id": "84d39490-bf83-41a5-9a46-4caba5a57da4",
   "metadata": {},
   "source": [
    "# No 1, 2, 3, 4"
   ]
  },
  {
   "cell_type": "code",
   "execution_count": 3,
   "id": "9ec49402-7c5f-4021-a42d-7799b7e97200",
   "metadata": {
    "tags": []
   },
   "outputs": [],
   "source": [
    "from listMhs import *\n",
    "\n",
    "def cariKota(objek, target):\n",
    "    printed = set()\n",
    "    for mhs in objek.data:\n",
    "        if mhs.kotaTinggal == target and mhs.nama not in printed:\n",
    "            print(mhs.nama, 'tinggal di', target)\n",
    "            printed.add(mhs.nama)\n",
    "\n",
    "# Tugas 1 - 4\n",
    "def cariKotaIDX(objek, target):\n",
    "    founded = []\n",
    "    for i in range(0, len(objek.data)):\n",
    "        if objek.data[i].kotaTinggal == target:\n",
    "            founded.append(i)\n",
    "    print(list(founded))\n",
    "\n",
    "def sakuKecil(objek):\n",
    "    pos = 0\n",
    "    for i in range(0, len(objek.data)):\n",
    "        if i == 0:\n",
    "            continue\n",
    "        else:\n",
    "            if objek.data[i].uangSaku < objek.data[pos].uangSaku:\n",
    "                pos = i\n",
    "    print(\"Uang saku paling terkecil\", objek.data[pos].uangSaku)\n",
    "\n",
    "def sakuBesar(objek):\n",
    "    pos = 0\n",
    "    for i in range(0, len(objek.data)):\n",
    "        if i == 0:\n",
    "            continue\n",
    "        else:\n",
    "            if objek.data[i].uangSaku > objek.data[pos].uangSaku:\n",
    "                pos = i\n",
    "    print(\"Uang saku paling terbesar\", objek.data[pos].uangSaku, \"pada mahasiswa bernama\", objek.data[pos].nama)\n",
    "\n",
    "def mhsLowest(objek):\n",
    "    founded = []\n",
    "    pos = 0\n",
    "    for i in range(0, len(objek.data)):\n",
    "        if i == 0:\n",
    "            continue\n",
    "        else:\n",
    "            if objek.data[i].uangSaku < objek.data[pos].uangSaku:\n",
    "                pos = i\n",
    "    for mhs in objek.data:\n",
    "        if mhs.uangSaku == objek.data[pos].uangSaku:\n",
    "            founded.append(vars(mhs))\n",
    "    print(founded)\n",
    "\n",
    "def kurangDari(objek, uang):\n",
    "    founded = []\n",
    "    for i in range(0, len(objek.data)):\n",
    "        if objek.data[i].uangSaku < uang:\n",
    "            founded.append(objek.data[i].nama)\n",
    "        else:\n",
    "            continue\n",
    "    print(founded)\n",
    "\n",
    "def lebihDari(objek, uang):\n",
    "    founded = []\n",
    "    for i in range(0, len(objek.data)):\n",
    "        if objek.data[i].uangSaku >= uang:\n",
    "            founded.append(objek.data[i].nama)\n",
    "        else:\n",
    "            continue\n",
    "    print(founded)\n",
    "\n"
   ]
  },
  {
   "cell_type": "code",
   "execution_count": 2,
   "id": "13f11b99-6a45-4f3d-b023-1d434c3824f5",
   "metadata": {
    "tags": []
   },
   "outputs": [
    {
     "name": "stdout",
     "output_type": "stream",
     "text": [
      "Memulai skrip isi shell interaktif Python...\n",
      " \n",
      ">>> from cariMhs import *\n",
      ">>> c0 = MhsTIF('Ika', 10, 'Sukoharjo', 240000)\n",
      ">>> c1 = MhsTIF('Budi', 51, 'Sragen', 230000)\n",
      ">>> c2 = MhsTIF('Ahmad', 2, 'Surakarta', 250000)\n",
      ">>> c3 = MhsTIF('Chandra', 18, 'Surakarta', 235000)\n",
      ">>> c4 = MhsTIF('Eka', 4, 'Boyolali', 240000)\n",
      ">>> c5 = MhsTIF('Fandi', 31, 'Salatiga', 250000)\n",
      ">>> c6 = MhsTIF('Deni', 13, 'Klaten', 245000)\n",
      ">>> c7 = MhsTIF('Galuh', 5, 'Wonogiri', 230000)\n",
      ">>> c8 = MhsTIF('Janto', 23, 'Klaten', 245000)\n",
      ">>> c9 = MhsTIF('Hasan', 64, 'Karanganyar', 270000)\n",
      ">>> c10 = MhsTIF('Khalid', 29, 'Purwodadi', 265000)\n",
      ">>>  \n",
      ">>> n = [c0, c1, c2, c3, c4, c5, c6, c7, c8, c9, c10]\n",
      ">>> daftar = daftarMhs(n)\n",
      ">>> print(daftar)\n",
      "[{'nama': 'Ika', 'NIM': 10, 'kotaTinggal': 'Sukoharjo', 'uangSaku': 240000, 'listKuliah': []}, {'nama': 'Budi', 'NIM': 51, 'kotaTinggal': 'Sragen', 'uangSaku': 230000, 'listKuliah': []}, {'nama': 'Ahmad', 'NIM': 2, 'kotaTinggal': 'Surakarta', 'uangSaku': 250000, 'listKuliah': []}, {'nama': 'Chandra', 'NIM': 18, 'kotaTinggal': 'Surakarta', 'uangSaku': 235000, 'listKuliah': []}, {'nama': 'Eka', 'NIM': 4, 'kotaTinggal': 'Boyolali', 'uangSaku': 240000, 'listKuliah': []}, {'nama': 'Fandi', 'NIM': 31, 'kotaTinggal': 'Salatiga', 'uangSaku': 250000, 'listKuliah': []}, {'nama': 'Deni', 'NIM': 13, 'kotaTinggal': 'Klaten', 'uangSaku': 245000, 'listKuliah': []}, {'nama': 'Galuh', 'NIM': 5, 'kotaTinggal': 'Wonogiri', 'uangSaku': 230000, 'listKuliah': []}, {'nama': 'Janto', 'NIM': 23, 'kotaTinggal': 'Klaten', 'uangSaku': 245000, 'listKuliah': []}, {'nama': 'Hasan', 'NIM': 64, 'kotaTinggal': 'Karanganyar', 'uangSaku': 270000, 'listKuliah': []}, {'nama': 'Khalid', 'NIM': 29, 'kotaTinggal': 'Purwodadi', 'uangSaku': 265000, 'listKuliah': []}]\n",
      ">>>  \n",
      ">>> cariKotaIDX(daftar, 'Klaten')\n",
      "[6, 8]\n",
      ">>> sakuKecil(daftar)\n",
      "Uang saku paling terkecil 230000\n",
      ">>> mhsLowest(daftar)\n",
      "[{'nama': 'Budi', 'NIM': 51, 'kotaTinggal': 'Sragen', 'uangSaku': 230000, 'listKuliah': []}, {'nama': 'Galuh', 'NIM': 5, 'kotaTinggal': 'Wonogiri', 'uangSaku': 230000, 'listKuliah': []}]\n",
      ">>> kurangDari(daftar, 250000)\n",
      "['Ika', 'Budi', 'Chandra', 'Eka', 'Deni', 'Galuh', 'Janto']\n",
      " \n",
      "Keluar dari shell interaktif Python.\n"
     ]
    }
   ],
   "source": [
    "!bash soal1234.sh"
   ]
  },
  {
   "cell_type": "markdown",
   "id": "792e17db-8436-4084-ba4b-1139158fa046",
   "metadata": {},
   "source": [
    "# No 5"
   ]
  },
  {
   "cell_type": "code",
   "execution_count": 6,
   "id": "0672325e-043f-4cd2-93b7-ed56eafed340",
   "metadata": {
    "tags": []
   },
   "outputs": [],
   "source": [
    "class Node():\n",
    "    def __init__(self, data, pointer=None):\n",
    "        self.data = data\n",
    "        self.pointer = pointer\n",
    "    \n",
    "class LinkedList():\n",
    "    def __init__(self, head=None):\n",
    "        self.head = head\n",
    "\n",
    "    def PrintLinkedList(self):\n",
    "        printval = self.head\n",
    "        post = 0\n",
    "        while printval is not None:\n",
    "            print([post], printval.data, \"<- Head\") if(post == 0) else print([post], printval.data)\n",
    "            printval = printval.pointer\n",
    "            post = post + 1\n",
    "\n",
    "    def AtBegining(self, newdata):\n",
    "        NewNode = Node(newdata)\n",
    "        if self.head is None:\n",
    "            self.head = NewNode\n",
    "            return\n",
    "        NewNode.pointer = self.head\n",
    "        self.head = NewNode\n",
    "\n",
    "    def AtEnd(self, newdata):\n",
    "        NewNode = Node(newdata)\n",
    "        laste = self.head\n",
    "        while(laste.pointer != None):\n",
    "            laste = laste.pointer\n",
    "        laste.pointer = NewNode\n",
    "\n",
    "    def Inbetween(self, middle_node, newdata):\n",
    "        if middle_node is None:\n",
    "            print(\"middle_node belum di isi\")\n",
    "            return\n",
    "        NewNode = Node(newdata)\n",
    "        NewNode.pointer = middle_node.pointer\n",
    "        middle_node.pointer = NewNode\n",
    "\n",
    "    def RemoveNode(self, Removekey):\n",
    "        HeadVal = self.head\n",
    "\n",
    "        if(HeadVal.data is not None):\n",
    "            if(HeadVal.data == Removekey):\n",
    "                self.head = HeadVal.pointer\n",
    "                HeadVal = None\n",
    "                return\n",
    "            \n",
    "        while(HeadVal is not None):\n",
    "            if HeadVal.data == Removekey:\n",
    "                break    \n",
    "            prev = HeadVal\n",
    "            HeadVal = HeadVal.pointer\n",
    "        if(HeadVal == None):\n",
    "            return\n",
    "        prev.pointer = HeadVal.pointer\n",
    "        HeadVal = None\n",
    "\n",
    "    def Search(self, val):\n",
    "        current = self.head\n",
    "        post = 0\n",
    "        while current:\n",
    "            if current.data == val:\n",
    "                print([post])\n",
    "                return [post]\n",
    "            current = current.pointer\n",
    "            post = post + 1\n",
    "        print(False)\n",
    "        return False\n"
   ]
  },
  {
   "cell_type": "code",
   "execution_count": 5,
   "id": "7ce8fac8-93a2-40da-adc8-80c09edce443",
   "metadata": {
    "tags": []
   },
   "outputs": [
    {
     "name": "stdout",
     "output_type": "stream",
     "text": [
      "Memulai skrip isi shell interaktif Python...\n",
      " \n",
      ">>> from linkedList import *\n",
      ">>> # Membuat linked list, tidak boleh memiliki element dengan nilai yang sama\n",
      ">>> linked_list = LinkedList(Node(3, Node(7, Node(9, Node(11, Node(30, Node(-2, Node(10, Node(5)))))))))\n",
      ">>> linked_list.PrintLinkedList()\n",
      "[0] 3 <- Head\n",
      "[1] 7\n",
      "[2] 9\n",
      "[3] 11\n",
      "[4] 30\n",
      "[5] -2\n",
      "[6] 10\n",
      "[7] 5\n",
      ">>> linked_list.Search(-2)\n",
      "[5]\n",
      " \n",
      "Keluar dari shell interaktif Python.\n"
     ]
    }
   ],
   "source": [
    "!bash soal5.sh"
   ]
  },
  {
   "cell_type": "markdown",
   "id": "2911158c-7196-4ee6-b08e-4241163dd569",
   "metadata": {},
   "source": [
    "# No 6, 7"
   ]
  },
  {
   "cell_type": "code",
   "execution_count": 9,
   "id": "bf2d8b14-037b-4178-bc0f-8101b4dca207",
   "metadata": {
    "tags": []
   },
   "outputs": [],
   "source": [
    "# Quicksort dengan pendekatan list comprehension, efisiensi 50%\n",
    "def quicksort(arr):\n",
    "\tif len(arr) <= 1:\n",
    "\t\treturn arr\n",
    "\telse:\n",
    "\t\tpivot = arr[0]\n",
    "\t\tleft = [x for x in arr[1:] if x < pivot]\n",
    "\t\tright = [x for x in arr[1:] if x >= pivot]\n",
    "\t\treturn quicksort(left) + [pivot] + quicksort(right)\n",
    "\n",
    "def binSe(kumpulan, target):\n",
    "    # Mulai dari seluruh runtutan elemen\n",
    "    low = 0\n",
    "    high = len(kumpulan) - 1\n",
    "\n",
    "    # Secara berulang belah runtutan itu menjadi separuhnya\n",
    "    # sampai target ditemukan\n",
    "    while low <= high:\n",
    "        # Temukan pertengahan runtut itu\n",
    "        mid = (high + low) // 2\n",
    "        # Apakah pertengahannya memuat target?\n",
    "        if kumpulan[mid] == target:\n",
    "            return True\n",
    "        # Ataukah targetnya di sebelah kirinya?\n",
    "        elif target < kumpulan[mid]:\n",
    "            high = mid - 1\n",
    "        # ataukah targetnya di sebelah kanannya?\n",
    "        else:\n",
    "            low = mid + 1\n",
    "    #Jika runtutanya tidak bisa dibelah lagi, berarti targetnya tidak ada\n",
    "    return False\n",
    "      \n",
    "# Tugas 6 dan 7\n",
    "def binSeIDX(kumpulan, target):     # minusnya hanya mendeteksi satu angka saja\n",
    "    low = 0\n",
    "    high = len(kumpulan) - 1\n",
    "    while low <= high:\n",
    "        mid = (high + low) // 2\n",
    "        if kumpulan[mid] == target:\n",
    "            return [mid]\n",
    "        elif target < kumpulan[mid]:\n",
    "            high = mid - 1\n",
    "        else:\n",
    "            low = mid + 1\n",
    "    return False\n",
    "\n",
    "def binSea(kumpulan, target):\n",
    "    # Mulai dari seluruh runtutan elemen\n",
    "    low = 0\n",
    "    high = len(kumpulan) - 1\n",
    "    post = []\n",
    "\n",
    "    # Secara berulang belah runtutan itu menjadi separuhnya\n",
    "    # sampai target ditemukan\n",
    "    while low <= high:\n",
    "        # Temukan pertengahan runtut itu\n",
    "        mid = (high + low) // 2\n",
    "        # Apakah pertengahannya memuat target?\n",
    "        if kumpulan[mid] == target:\n",
    "            # Mencari indeks di sebelah kiri dari pertengahan yang memiliki nilai target\n",
    "            left_index = mid\n",
    "            while left_index >= 0 and kumpulan[left_index] == target:\n",
    "                post.append(left_index)\n",
    "                left_index -= 1\n",
    "            # Mencari indeks di sebelah kanan dari pertengahan yang memiliki nilai target\n",
    "            right_index = mid + 1\n",
    "            while right_index < len(kumpulan) and kumpulan[right_index] == target:\n",
    "                post.append(right_index)\n",
    "                right_index += 1\n",
    "            return post\n",
    "        # Ataukah targetnya di sebelah kirinya?\n",
    "        elif target < kumpulan[mid]:\n",
    "            high = mid - 1\n",
    "        # ataukah targetnya di sebelah kanannya?\n",
    "        else:\n",
    "            low = mid + 1\n",
    "    \n",
    "    #Jika runtutanya tidak bisa dibelah lagi, berarti targetnya tidak ada\n",
    "    if len(post) != 0:\n",
    "        return post\n",
    "    else:\n",
    "        return False\n",
    "\n",
    "# Contoh penggunaan\n",
    "# kumpulan = [2, 3, 5, 6, 6, 6, 8, 9, 9, 10, 11, 12, 13, 13, 14]\n",
    "# target = 6\n",
    "# print(binSe(kumpulan, target))\n"
   ]
  },
  {
   "cell_type": "code",
   "execution_count": 7,
   "id": "3c43c7c7-8226-416f-931a-c7633802bc96",
   "metadata": {
    "tags": []
   },
   "outputs": [
    {
     "name": "stdout",
     "output_type": "stream",
     "text": [
      "Memulai skrip isi shell interaktif Python...\n",
      " \n",
      ">>> from binSearch import *\n",
      ">>> arr1 = [1, 7, 4, 1, 10, 9, -2]\n",
      ">>> sorted_arr = quicksort(arr1)  # Sorted Array dalam urutan meningkat\n",
      ">>> print(sorted_arr)\n",
      "[-2, 1, 1, 4, 7, 9, 10]\n",
      ">>> cek1 = binSea(sorted_arr, 4) # Cek 4 dalam arr\n",
      ">>> print(cek1)\n",
      "[3]\n",
      ">>> cek2 = binSea(sorted_arr, 1) # Cek 1 dalam arr\n",
      ">>> print(cek2)\n",
      "[1, 2]\n",
      ">>>  \n",
      ">>> arr2 = [2, 3, 5, 6, 6, 6, 8, 9, 9, 10, 11, 12, 13, 13, 14]\n",
      ">>> target = 6\n",
      ">>> cek3 = binSea(arr2, target) # Cek 6 dalam arr\n",
      ">>> print(cek3)\n",
      "[3, 4, 5]\n",
      " \n",
      "Keluar dari shell interaktif Python.\n"
     ]
    }
   ],
   "source": [
    "!bash soal67.sh"
   ]
  },
  {
   "cell_type": "markdown",
   "id": "257b8636-f6fb-4f8f-9d79-a703e1aabb45",
   "metadata": {
    "tags": []
   },
   "source": [
    "# No 8"
   ]
  },
  {
   "cell_type": "code",
   "execution_count": 11,
   "id": "e023f8d1-ca9c-4d5c-be78-96c92807d420",
   "metadata": {
    "tags": []
   },
   "outputs": [
    {
     "name": "stdout",
     "output_type": "stream",
     "text": [
      "Note: \n",
      "disarankan jarak angka tidak terlalu jauh\n",
      "\n"
     ]
    },
    {
     "name": "stdin",
     "output_type": "stream",
     "text": [
      "Masukkan batas bawah:  1\n",
      "Masukkan batas atas:  100\n"
     ]
    },
    {
     "data": {
      "image/png": "[encoded data removed]",
      "text/plain": [
       "<Figure size 1000x600 with 1 Axes>"
      ]
     },
     "metadata": {},
     "output_type": "display_data"
    }
   ],
   "source": [
    "import matplotlib.pyplot as plt\n",
    "import math\n",
    "\n",
    "def rounded_log2(x):\n",
    "    result = math.log(x, 2)  # Menghitung logaritma basis 2 dari x\n",
    "    rounded_result = math.ceil(result) # bulatkan ke atas\n",
    "    return rounded_result\n",
    "\n",
    "def draw_binary_search_tree(low, high, parent_x, parent_y, x_offset, y_offset, level):\n",
    "    if low > high:\n",
    "        return\n",
    "    \n",
    "    # hitung posisi node sekarang\n",
    "    x = (low + high) // 2\n",
    "    y = depth - level  \n",
    "    \n",
    "    # gambar node sekarang\n",
    "    plt.text(x, y, str(x), ha='center', bbox=dict(facecolor='white', edgecolor='none', boxstyle='circle'))\n",
    "    \n",
    "    # Draw edge to parent\n",
    "    if parent_x is not None:\n",
    "        plt.plot([parent_x, x], [parent_y, y], 'bo-')\n",
    "    \n",
    "    # Pemanggilan rekursi untuk anak sebelah kanan dan kiri\n",
    "    draw_binary_search_tree(low, x - 1, x, y, x_offset / 2, y_offset, level + 1)\n",
    "    draw_binary_search_tree(x + 1, high, x, y, x_offset / 2, y_offset, level + 1)\n",
    "\n",
    "def main():\n",
    "    print(\"Note: \\ndisarankan jarak angka tidak terlalu jauh\\n\")\n",
    "    low = int(input(\"Masukkan batas bawah: \"))  # Batas bawah\n",
    "    high = int(input(\"Masukkan batas atas: \"))  # Batas atas, semakin banyak jumlah angka semakin tidak terlihat pohon-nya\n",
    "    global depth\n",
    "    depth = rounded_log2((high-low)+1)\n",
    "    plt.figure(figsize=(10, 6))\n",
    "    draw_binary_search_tree(low, high, None, 6, 2, 2, 1)  # level dimulai dari 1\n",
    "    plt.title('Binary Search Tree')\n",
    "    plt.xlabel('Value')\n",
    "    plt.ylabel('Level')\n",
    "    plt.gca().invert_yaxis()  # Flip y-axis to start from top\n",
    "    plt.show()\n",
    "\n",
    "if __name__ == \"__main__\":\n",
    "    main()\n"
   ]
  },
  {
   "cell_type": "markdown",
   "id": "83d50307-66e8-48ba-878a-2359c95f1a06",
   "metadata": {},
   "source": [
    "### Binary search berdasar pada logika logaritma 2, dimana setiap percabangan hanya memiliki 2 cabang saja, binary search menerapkan percabangan di setiap sentral pada masing-masing rentang, 50, 25, 12, 6, 3, 1 \n",
    "### Sehingga kita dapat menentukan banyaknya jumlah penebakan terbaik dengan log2(jumlah angka)\n",
    "### Dari binary serach tree diatas menjelaskan bahwa masing-masing node mewakili satu angka pada rentang angka yang disediakan"
   ]
  },
  {
   "cell_type": "code",
   "execution_count": null,
   "id": "44fbba14-950e-4b6b-ae4e-b92f06a1a217",
   "metadata": {},
   "outputs": [],
   "source": []
  }
 ],
 "metadata": {
  "kernelspec": {
   "display_name": "Python 3 (ipykernel)",
   "language": "python",
   "name": "python3"
  },
  "language_info": {
   "codemirror_mode": {
    "name": "ipython",
    "version": 3
   },
   "file_extension": ".py",
   "mimetype": "text/x-python",
   "name": "python",
   "nbconvert_exporter": "python",
   "pygments_lexer": "ipython3",
   "version": "3.11.8"
  },
  "widgets": {
   "application/vnd.jupyter.widget-state+json": {
    "state": {},
    "version_major": 2,
    "version_minor": 0
   }
  }
 },
 "nbformat": 4,
 "nbformat_minor": 5
}
