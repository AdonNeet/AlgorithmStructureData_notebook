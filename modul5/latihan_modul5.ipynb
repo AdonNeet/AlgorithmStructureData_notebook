{
 "cells": [
  {
   "cell_type": "markdown",
   "id": "bcef6d8a-989c-419e-9f77-95b5c708dddb",
   "metadata": {},
   "source": [
    "# Swap Routine"
   ]
  },
  {
   "cell_type": "code",
   "execution_count": 1,
   "id": "ae5ec126-7d74-4652-9d46-9b7487f9f015",
   "metadata": {},
   "outputs": [
    {
     "name": "stdout",
     "output_type": "stream",
     "text": [
      "Before\n",
      " [50, 20, 70, 10] \n",
      "\n",
      "After\n",
      " [50, 10, 70, 20]\n"
     ]
    }
   ],
   "source": [
    "def swap(A, p, q):\n",
    "    tmp = A[p]\n",
    "    A[p] = A[q]\n",
    "    A[q] = tmp\n",
    "\n",
    "if __name__ == \"__main__\":\n",
    "    K = [50, 20, 70, 10]\n",
    "    print(\"Before\\n\", K, \"\\n\")\n",
    "    swap(K, 1, 3)\n",
    "    print(\"After\\n\", K)"
   ]
  },
  {
   "cell_type": "markdown",
   "id": "1f33146b-2ce3-4ff7-9c2f-d6d278c27366",
   "metadata": {},
   "source": [
    "# Bubble Sort"
   ]
  },
  {
   "cell_type": "code",
   "execution_count": 2,
   "id": "f86c22a4-e725-495b-9209-27d7c660b755",
   "metadata": {},
   "outputs": [
    {
     "name": "stdout",
     "output_type": "stream",
     "text": [
      "Before:\n",
      " [10, 51, 2, 18, 4, 31, 13, 5, 23, 64, 29]\n",
      "After:\n",
      " [2, 4, 5, 10, 13, 18, 23, 29, 31, 51, 64]\n"
     ]
    }
   ],
   "source": [
    "def swap(A, p, q):\n",
    "    tmp = A[p]\n",
    "    A[p] = A[q]\n",
    "    A[q] = tmp\n",
    "\n",
    "def bubbleSort(A):\n",
    "    n = len(A)\n",
    "    for i in range(n-1):        #-> Lakukan operasi gelembung sebanyak n-1\n",
    "        for j in range(n-i-1):  #-> Dorong elemen terbesar ke ujung kanan\n",
    "            if A[j] > A[j+1]:   #-> Jika di kiri lebih besar dari di kanannya,\n",
    "                swap(A,j,j+1)   #-> tukar posisi elemen ke j dengan ke j+1\n",
    "\n",
    "if __name__ == \"__main__\":\n",
    "    L = [10, 51, 2, 18, 4, 31, 13, 5, 23, 64, 29]\n",
    "    print(\"Before:\\n\", L)\n",
    "    bubbleSort(L)\n",
    "    print(\"After:\\n\", L)"
   ]
  },
  {
   "cell_type": "markdown",
   "id": "308d9488-6eca-41e9-999a-e672a870379f",
   "metadata": {},
   "source": [
    "# Selection Sort"
   ]
  },
  {
   "cell_type": "markdown",
   "id": "fa0945dd-e3d7-4646-9d04-f5d949532d57",
   "metadata": {},
   "source": [
    "### Find lowest"
   ]
  },
  {
   "cell_type": "code",
   "execution_count": 3,
   "id": "0bad74c6-07e5-4da4-ad48-af76b8db8895",
   "metadata": {},
   "outputs": [
    {
     "name": "stdout",
     "output_type": "stream",
     "text": [
      "Posisi idx nilai terkecil mulai dari idx 2:\n",
      " 3\n"
     ]
    }
   ],
   "source": [
    "def cariPosisiYangTerkecil(A, dariSini, sampaiSini):\n",
    "    posisiYangTerkecil = dariSini           #-> anggap ini yang terkecil\n",
    "    for i in range(dariSini, sampaiSini):   #-> cari di sisa list\n",
    "        if A[i] < A[posisiYangTerkecil]:    #-> kalau menemukan yang lebih kecil,\n",
    "            posisiYangTerkecil = i          #-> anggapan dirubah\n",
    "    return posisiYangTerkecil\n",
    "\n",
    "if __name__ == \"__main__\":\n",
    "    A = [18, 13, 44, 25, 66, 107, 78, 89]\n",
    "    j = cariPosisiYangTerkecil(A, 2, len(A))\n",
    "    print(\"Posisi idx nilai terkecil mulai dari idx 2:\\n\", j)"
   ]
  },
  {
   "cell_type": "markdown",
   "id": "e14c63e3-80a2-49fd-9e3b-fbcceab361fb",
   "metadata": {},
   "source": [
    "### Implemented in Selection"
   ]
  },
  {
   "cell_type": "code",
   "execution_count": 4,
   "id": "cc766731-3c44-4c7b-ab94-de524a80ef24",
   "metadata": {},
   "outputs": [
    {
     "name": "stdout",
     "output_type": "stream",
     "text": [
      "Before:\n",
      " [10, 51, 2, 18, 4, 31, 13, 5, 23, 64, 29]\n",
      "After:\n",
      " [2, 4, 5, 10, 13, 18, 23, 29, 31, 51, 64]\n"
     ]
    }
   ],
   "source": [
    "def swap(A, p, q):\n",
    "    tmp = A[p]\n",
    "    A[p] = A[q]\n",
    "    A[q] = tmp\n",
    "\n",
    "def cariPosisiYangTerkecil(A, dariSini, sampaiSini):\n",
    "    posisiYangTerkecil = dariSini           #-> anggap ini yang terkecil\n",
    "    for i in range(dariSini, sampaiSini):   #-> cari di sisa list\n",
    "        if A[i] < A[posisiYangTerkecil]:    #-> kalau menemukan yang lebih kecil,\n",
    "            posisiYangTerkecil = i          #-> anggapan dirubah\n",
    "    return posisiYangTerkecil\n",
    "\n",
    "def selectionSort(A):\n",
    "    n = len(A)\n",
    "    for i in range(n-1):\n",
    "        indexKecil = cariPosisiYangTerkecil(A, i, n)\n",
    "        if indexKecil != i:\n",
    "            swap(A, i, indexKecil)\n",
    "\n",
    "if __name__ == \"__main__\":\n",
    "    L = [10, 51, 2, 18, 4, 31, 13, 5, 23, 64, 29]\n",
    "    print(\"Before:\\n\", L)\n",
    "    selectionSort(L)\n",
    "    print(\"After:\\n\", L)"
   ]
  },
  {
   "cell_type": "markdown",
   "id": "fc5266c5-c775-4b7b-bcae-930c11befcf2",
   "metadata": {},
   "source": [
    "# Insertion Sort"
   ]
  },
  {
   "cell_type": "code",
   "execution_count": 5,
   "id": "d1428b74-de06-4297-a556-fcb501cf54bf",
   "metadata": {},
   "outputs": [
    {
     "name": "stdout",
     "output_type": "stream",
     "text": [
      "Before:\n",
      " [10, 51, 2, 18, 4, 31, 13, 5, 23, 64, 29]\n",
      "After:\n",
      " [2, 4, 5, 10, 13, 18, 23, 29, 31, 51, 64]\n"
     ]
    }
   ],
   "source": [
    "def insertionSort(A):\n",
    "    n = len(A)\n",
    "    for i in range(1, n):\n",
    "        nilai = A[i]\n",
    "        pos = i\n",
    "        while pos > 0 and nilai < A[pos - 1]:   # -> Cari posisi yang tepat\n",
    "            A[pos] = A[pos - 1] # dan geser ke kanan terus\n",
    "            pos = pos - 1       # nilai-nilai yang lebih besar\n",
    "        A[pos] = nilai # -> Pada posisi ini tempatkan nilai elemen ke i.\n",
    "\n",
    "if __name__ == \"__main__\":\n",
    "    L = [10, 51, 2, 18, 4, 31, 13, 5, 23, 64, 29]\n",
    "    print(\"Before:\\n\", L)\n",
    "    insertionSort(L)\n",
    "    print(\"After:\\n\", L)"
   ]
  }
 ],
 "metadata": {
  "kernelspec": {
   "display_name": "Python 3 (ipykernel)",
   "language": "python",
   "name": "python3"
  },
  "language_info": {
   "codemirror_mode": {
    "name": "ipython",
    "version": 3
   },
   "file_extension": ".py",
   "mimetype": "text/x-python",
   "name": "python",
   "nbconvert_exporter": "python",
   "pygments_lexer": "ipython3",
   "version": "3.11.8"
  }
 },
 "nbformat": 4,
 "nbformat_minor": 5
}
