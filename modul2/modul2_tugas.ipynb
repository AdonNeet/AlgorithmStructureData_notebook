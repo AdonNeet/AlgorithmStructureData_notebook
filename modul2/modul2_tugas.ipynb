{
 "cells": [
  {
   "cell_type": "markdown",
   "id": "65802cd1-32b8-466e-8ae5-2ffdeee95a8c",
   "metadata": {},
   "source": [
    "# No 1 "
   ]
  },
  {
   "cell_type": "code",
   "execution_count": 1,
   "id": "ba080379-3dce-4d00-a72a-9198005747c6",
   "metadata": {
    "tags": []
   },
   "outputs": [],
   "source": [
    "class Pesan(object):\n",
    "    \"\"\"\n",
    "    Sebuah class bernama Pesan.\n",
    "    Untuk memahami konsep Class dan Object.\n",
    "    \"\"\"\n",
    "    def __init__(self, sebuahString):\n",
    "        self.teks = sebuahString\n",
    "    \n",
    "    def cetakIni(self):\n",
    "        print(self.teks)\n",
    "    \n",
    "    def cetakPakaiHurufKapital(self):\n",
    "        print(self.teks.upper())\n",
    "    \n",
    "    def cetakPakaiHurufKecil(self):\n",
    "        print(self.teks.lower())\n",
    "    \n",
    "    def jumKar(self):\n",
    "        return len(self.teks)\n",
    "    \n",
    "    def cetakJumlahKarakterku(self):\n",
    "        print('Kalimatku mempunyai', len(self.teks), 'karakter.')\n",
    "    \n",
    "    def perbarui(self, stringBaru):\n",
    "        self.teks = stringBaru\n",
    "\n",
    "    def apakahTerkandung(self, kata):\n",
    "        if kata in self.teks.lower():\n",
    "            return True\n",
    "        else:\n",
    "            return False\n",
    "\n",
    "    def hitungKonsonan(self):\n",
    "        length = self.jumKar()\n",
    "        ans = 0\n",
    "        for char in self.teks:\n",
    "            if(char == 'a' or char == 'i' or char == 'u' or char == 'e' or char == 'o'):\n",
    "                ans += 1;\n",
    "            elif(char == 'A' or char == 'I' or char == 'U' or char == 'E' or char == 'O'):\n",
    "                ans += 1;\n",
    "        return length-ans\n",
    "\n",
    "    def hitungVokal(self):\n",
    "        ans = 0\n",
    "        for char in self.teks:\n",
    "            if(char == 'a' or char == 'i' or char == 'u' or char == 'e' or char == 'o'):\n",
    "                ans += 1;\n",
    "            elif(char == 'A' or char == 'I' or char == 'U' or char == 'E' or char == 'O'):\n",
    "                ans += 1;\n",
    "        return ans\n"
   ]
  },
  {
   "cell_type": "code",
   "execution_count": 2,
   "id": "470e2b39-5b4e-42b5-a9a7-4863b0c2fa42",
   "metadata": {
    "tags": []
   },
   "outputs": [
    {
     "name": "stdout",
     "output_type": "stream",
     "text": [
      "Memulai skrip isi shell interaktif Python...\n",
      " \n",
      ">>> from pesan import *\n",
      ">>> p9 = Pesan('indonesia adalah negeri yang indah')\n",
      ">>> p9.apakahTerkandung('ind')\n",
      "True\n",
      ">>> p9.apakahTerkandung('eka')\n",
      "False\n",
      ">>> \n",
      ">>> \n",
      ">>> p10 = Pesan('SurakArta')\n",
      ">>> p10.hitungKonsonan()\n",
      "5\n",
      ">>> \n",
      ">>> p10.hitungVokal()\n",
      "4\n",
      "Keluar dari shell interaktif Python.\n"
     ]
    }
   ],
   "source": [
    "!bash tugas1.sh"
   ]
  },
  {
   "cell_type": "markdown",
   "id": "24ed4306-aa20-44ab-b21e-af4b8eab39d1",
   "metadata": {},
   "source": [
    "# No 2, 4, 5"
   ]
  },
  {
   "cell_type": "code",
   "execution_count": 3,
   "id": "aa8888ef-fa4b-4851-a2da-9f682a6d222f",
   "metadata": {
    "tags": []
   },
   "outputs": [],
   "source": [
    "# L200220194\n",
    "from LatOOP3 import *\n",
    "\n",
    "class Mahasiswa(Manusia):\n",
    "    \"\"\"Class Mahasiswa yang dibangun dari class Manusia.\"\"\"\n",
    "    def __init__(self, nama, NIM, kota, us):\n",
    "        \"\"\"Metode inisiasi ini menutupi metode inisiasi di class Manusia.\"\"\"\n",
    "        self.nama = nama\n",
    "        self.NIM = NIM\n",
    "        self.kotaTinggal = kota\n",
    "        self.uangSaku = us\n",
    "        self.listKuliah = []\n",
    "\n",
    "    def __str__(self):\n",
    "        s = self.nama + ', NIM ' + str(self.NIM) \\\n",
    "            + '. Tinggal di ' + self.kotaTinggal \\\n",
    "            + '. Uang saku Rp ' + str(self.uangSaku) \\\n",
    "            + ' tiap bulannya.'\n",
    "        return s\n",
    "\n",
    "    def ambilNama(self):\n",
    "        return self.nama\n",
    "\n",
    "    def ambilNIM(self):\n",
    "        return self.NIM\n",
    "\n",
    "    def ambilUangSaku(self):\n",
    "        return self.uangSaku\n",
    "\n",
    "    def makan(self, s):\n",
    "        \"\"\"Metode ini menutupi metode 'makan' dari class Manusia.\n",
    "        Mahasiswa makan sambil belajar.\"\"\"\n",
    "        print(\"Saya baru saja makan\", s, \"sambil belajar.\")\n",
    "        self.keadaan = 'kenyang'\n",
    "\n",
    "    def ambilKotaTinggal(self):\n",
    "        return self.kotaTinggal\n",
    "\n",
    "    def perbaruiKotaTinggal(self, kota):\n",
    "        self.kotaTinggal = kota\n",
    "\n",
    "    def tambahUangSaku(self, uang):\n",
    "        self.uangSaku += uang\n",
    "\n",
    "    def ambilKuliah(self, mk):\n",
    "        mk = str(mk)\n",
    "        self.listKuliah = self.listKuliah + [mk]\n",
    "\n",
    "    def hapusKuliah(self, mk):\n",
    "        mk = str(mk)\n",
    "        self.listKuliah.remove(mk)\n",
    "\n",
    "class MhsTIF(Mahasiswa):  # Perhatikan class induknya: Mahasiswa\n",
    "    \"\"\"Class MhsTIF yang dibangun dari class Mahasiswa\"\"\"\n",
    "    def katakanPy(self):\n",
    "        print('Python is cool.')\n",
    "\n"
   ]
  },
  {
   "cell_type": "code",
   "execution_count": 4,
   "id": "49057f1c-4616-4e81-a308-4ead86af6c4e",
   "metadata": {
    "tags": []
   },
   "outputs": [
    {
     "name": "stdout",
     "output_type": "stream",
     "text": [
      "Memulai skrip isi shell interaktif Python...\n",
      " \n",
      ">>> from dataMhs import *\n",
      ">>> m1 = Mahasiswa('Jamil',234,'Surakarta',250000)\n",
      ">>> m2 = Mahasiswa('Andi',365,'Magelang',275000) \n",
      ">>> m3 = Mahasiswa('Sri', 676,'Yogyakarta',240000)\n",
      ">>> \n",
      ">>> m1.ambilKotaTinggal()\n",
      "Surakarta\n",
      ">>> \n",
      ">>> m2.perbaruiKotaTinggal('Sleman')\n",
      ">>> m2.ambilKotaTinggal()\n",
      "Sleman\n",
      ">>> \n",
      ">>> m3.ambilUangSaku()\n",
      "240000\n",
      ">>> m3.tambahUangSaku(50000)\n",
      ">>> m3.ambilUangSaku()\n",
      "290000\n",
      "Keluar dari shell interaktif Python.\n"
     ]
    }
   ],
   "source": [
    "!bash tugas2.sh"
   ]
  },
  {
   "cell_type": "code",
   "execution_count": 8,
   "id": "bc3b8f21-c242-4c19-95c6-5f22444cc03a",
   "metadata": {
    "tags": []
   },
   "outputs": [
    {
     "name": "stdout",
     "output_type": "stream",
     "text": [
      "Memulai skrip isi shell interaktif Python...\n",
      " \n",
      ">>> from dataMhs import *\n",
      ">>> m1 = Mahasiswa('Jamil',234,'Surakarta',250000)\n",
      ">>> m1.listKuliah\n",
      "[]\n",
      ">>> m1.ambilKuliah('Matematika Diskrit')\n",
      ">>> m1.listKuliah\n",
      "['Matematika Diskrit']\n",
      ">>> m1.ambilKuliah('Algoritma dan Struktur Data')\n",
      ">>> m1.listKuliah\n",
      "['Matematika Diskrit', 'Algoritma dan Struktur Data']\n",
      "Keluar dari shell interaktif Python.\n"
     ]
    }
   ],
   "source": [
    "!bash tugas4.sh"
   ]
  },
  {
   "cell_type": "code",
   "execution_count": 10,
   "id": "c26e7d88-6b15-49e2-9873-a489e7293909",
   "metadata": {
    "tags": []
   },
   "outputs": [
    {
     "name": "stdout",
     "output_type": "stream",
     "text": [
      "Memulai skrip isi shell interaktif Python...\n",
      " \n",
      ">>> from dataMhs import *\n",
      ">>> m1 = Mahasiswa('Jamil',234,'Surakarta',250000)\n",
      ">>> m1.listKuliah\n",
      "[]\n",
      ">>> m1.ambilKuliah('Matematika Dasar')\n",
      ">>> m1.ambilKuliah('Algoritma dan Struktur Data')\n",
      ">>> m1.ambilKuliah('Matematika Diskrit')\n",
      ">>> m1.listKuliah\n",
      "['Matematika Diskrit', 'Algoritma dan Struktur Data', 'Matematika Dasar']\n",
      ">>> m1.hapusKuliah('Matematika Dasar')\n",
      ">>> m1.listKuliah\n",
      "['Matematika Diskrit', 'Algoritma dan Struktur Data']\n",
      "Keluar dari shell interaktif Python.\n"
     ]
    }
   ],
   "source": [
    "!bash tugas5.sh"
   ]
  },
  {
   "cell_type": "markdown",
   "id": "b2b541ff-f577-41c2-af5a-c9463eb60700",
   "metadata": {},
   "source": [
    "# No 3 "
   ]
  },
  {
   "cell_type": "code",
   "execution_count": 6,
   "id": "e154e45b-d947-4f27-9972-bd06f3aee956",
   "metadata": {
    "tags": []
   },
   "outputs": [
    {
     "name": "stdout",
     "output_type": "stream",
     "text": [
      "Program input data mahasiswa secara interaktifSilahkan masukkan data yang diminta :D\n"
     ]
    },
    {
     "name": "stdin",
     "output_type": "stream",
     "text": [
      "Masukkan nama      :  Adon\n",
      "Masukkan nim       :  194\n",
      "Masukkan kota      :  Kudus\n",
      "Masukkan uang saku :  10000\n"
     ]
    },
    {
     "name": "stdout",
     "output_type": "stream",
     "text": [
      "\n",
      "Berikut merupakan data mahasiswa yang telah dimasukkan\n",
      "Adon, NIM 194. Tinggal di Kudus. Uang saku Rp 10000 tiap bulannya.\n"
     ]
    }
   ],
   "source": [
    "# L200220194\n",
    "from dataMhs import *\n",
    "\n",
    "def masukkan():\n",
    "    print(\n",
    "            \"Program input data mahasiswa secara interaktif\" \\\n",
    "            + \"Silahkan masukkan data yang diminta :D\"\n",
    "          )\n",
    "    nama = str(input(\"Masukkan nama      : \"))\n",
    "    nim =      input(\"Masukkan nim       : \")\n",
    "    kota = str(input(\"Masukkan kota      : \"))\n",
    "    n =        input(\"Masukkan uang saku : \")\n",
    "    tempA = Mahasiswa(nama, nim, kota, n)\n",
    "    print(\"\\nBerikut merupakan data mahasiswa yang telah dimasukkan\")\n",
    "    print(tempA)\n",
    "    return tempA\n",
    "\n",
    "\n",
    "def main():\n",
    "    global m1\n",
    "    m1 = masukkan()\n",
    "    \n",
    "\n",
    "if __name__ == \"__main__\":\n",
    "    main()\n"
   ]
  },
  {
   "cell_type": "markdown",
   "id": "24f24510-61fb-4c7f-aadd-e4f4aa53b3f4",
   "metadata": {},
   "source": [
    "# No 6"
   ]
  },
  {
   "cell_type": "code",
   "execution_count": 12,
   "id": "f25b6f53-8169-446d-887a-66033f1df4aa",
   "metadata": {
    "tags": []
   },
   "outputs": [],
   "source": [
    "# L200220194\n",
    "from LatOOP3 import *\n",
    "\n",
    "class SiswaSMA(Manusia):\n",
    "    def __init__(self, nama, NIM, major, kota, us):\n",
    "        \"\"\"Metode inisiasi ini menutupi metode inisiasi di class Manusia.\"\"\"\n",
    "        self.nama = nama\n",
    "        self.NIM = NIM\n",
    "        self.kotaTinggal = kota\n",
    "        self.uangSaku = us\n",
    "        self.jurusan = major\n",
    "        self.hobi = []\n",
    "    def __str__(self):\n",
    "        s = 'Nama ' + self.cekNama() + ', NIM ' + str(self.cekNIM()) \\\n",
    "            + '. Tinggal di ' + self.cekKotaTinggal() \\\n",
    "            + '. Jurusan ' + self.cekJurusan() \\\n",
    "            + '. Uang saku Rp ' + str(self.cekUangSaku()) \\\n",
    "            + ' tiap bulannya.'\n",
    "        return s\n",
    "    def cekNama(self):\n",
    "        return self.nama\n",
    "    def cekNIM(self):\n",
    "        return self.NIM\n",
    "    def cekKotaTinggal(self):\n",
    "        return self.kotaTinggal\n",
    "    def gantiTempat(self, kota):\n",
    "        self.kotaTinggal = kota\n",
    "    def cekUangSaku(self):\n",
    "        return self.uangSaku\n",
    "    def addUangSaku(self, n):\n",
    "        self.uangSaku += n\n",
    "    def cekJurusan(self):\n",
    "        return self.jurusan\n",
    "    def addHobi(self, keg):\n",
    "        self.hobi = self.hobi + [str(keg)]\n",
    "    def delHobi(self, keg):\n",
    "        self.hobi.remove(str(keg))  \n",
    "\n"
   ]
  },
  {
   "cell_type": "code",
   "execution_count": 11,
   "id": "88854542-34c9-43d3-b7b4-13a888d291ab",
   "metadata": {
    "tags": []
   },
   "outputs": [
    {
     "name": "stdout",
     "output_type": "stream",
     "text": [
      "Memulai skrip isi shell interaktif Python...\n",
      " \n",
      ">>> from SMA import *\n",
      ">>> A = SiswaSMA('Adon', 177013, 'MIPA', 'Kudus', 100000)\n",
      ">>> print(A)\n",
      "Nama Adon, NIM 177013. Tinggal di Kudus. Jurusan MIPA. Uang saku Rp 100000 tiap bulannya.\n",
      ">>> A.hobi\n",
      "[]\n",
      ">>> A.addHobi('bersepeda')\n",
      ">>> A.hobi\n",
      "['bersepeda']\n",
      ">>> A.addUangSaku(50000)\n",
      ">>> A.cekUangSaku()\n",
      "150000\n",
      ">>> A.addHobi('ngewibu')\n",
      ">>> A.delHobi('bersepeda')\n",
      ">>> A.hobi\n",
      "['ngewibu']\n",
      ">>> A.gantiTempat('Isekai')\n",
      ">>> A.cekKotaTinggal()\n",
      "Isekai\n",
      "Keluar dari shell interaktif Python.\n"
     ]
    }
   ],
   "source": [
    "!bash tugas6.sh"
   ]
  },
  {
   "cell_type": "markdown",
   "id": "2028d7c4-b67a-44e8-bef2-b896ac8b9e35",
   "metadata": {},
   "source": [
    "# No 7 "
   ]
  },
  {
   "cell_type": "code",
   "execution_count": 23,
   "id": "157ffffb-2bfe-450c-af9e-e45ba97d8362",
   "metadata": {
    "tags": []
   },
   "outputs": [
    {
     "name": "stdout",
     "output_type": "stream",
     "text": [
      "from LatOOP5 import *\n",
      "a = MhsTIF('Jamil',234,'Surakarta',250000)\n",
      "True True False\n"
     ]
    }
   ],
   "source": [
    "# L200220194\n",
    "from LatOOP5 import *\n",
    "\n",
    "def main():\n",
    "    print(\"from LatOOP5 import *\")\n",
    "    print(\"a = MhsTIF('Jamil',234,'Surakarta',250000)\")\n",
    "    global a\n",
    "    a = MhsTIF('Jamil',234,'Surakarta',250000)\n",
    "    x = isinstance(a, MhsTIF)\n",
    "    y = isinstance(a, Mahasiswa)\n",
    "    z = isinstance(a, Manusia)\n",
    "    print(x, y, z)\n",
    "if __name__ == \"__main__\":\n",
    "    main()\n"
   ]
  }
 ],
 "metadata": {
  "kernelspec": {
   "display_name": "Python 3 (ipykernel)",
   "language": "python",
   "name": "python3"
  },
  "language_info": {
   "codemirror_mode": {
    "name": "ipython",
    "version": 3
   },
   "file_extension": ".py",
   "mimetype": "text/x-python",
   "name": "python",
   "nbconvert_exporter": "python",
   "pygments_lexer": "ipython3",
   "version": "3.11.8"
  },
  "widgets": {
   "application/vnd.jupyter.widget-state+json": {
    "state": {},
    "version_major": 2,
    "version_minor": 0
   }
  }
 },
 "nbformat": 4,
 "nbformat_minor": 5
}
