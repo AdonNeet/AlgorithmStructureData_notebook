{
 "cells": [
  {
   "cell_type": "code",
   "execution_count": 1,
   "id": "a96871e9-625b-4518-8140-e74c862c24ea",
   "metadata": {},
   "outputs": [
    {
     "name": "stdout",
     "output_type": "stream",
     "text": [
      "Memulai skrip isi shell interaktif Python...\n",
      " \n",
      ">>> import ModulePythonPertamaku\n",
      ">>> ModulePythonPertamaku.ucapkanSalam()\n",
      "Assalamu `alaikum!\n",
      ">>> ModulePythonPertamaku.kuadraktan(5)\n",
      "25\n",
      ">>> ModulePythonPertamakku.buah\n",
      "Mangga\n",
      ">>> \n",
      ">>>\n",
      ">>> import ModulePythonPertamaku as mpp\n",
      ">>> mpp.ucapkanSalam()\n",
      "Assalamu `alaikum!\n",
      ">>> mpp.daftarBaju\n",
      "['batik', 'loreng', 'resmi berdasi']\n",
      ">>> mpp.jumlahBaju\n",
      "3\n",
      ">>> \n",
      ">>> \n",
      ">>> from ModulePythonPertamaku import kuadratkan, daftarBaju\n",
      ">>> kuadratkan(6)\n",
      "36\n",
      ">>> daftarBaju\n",
      "['batik', 'loreng', 'resmi berdasi']\n",
      ">>> \n",
      ">>> \n",
      ">>> from ModulePythonPertamaku import ucapkanSalam as ucap\n",
      ">>>  ucap()\n",
      "Assalamu `alaikum!\n",
      "Keluar dari shell interaktif Python.\n"
     ]
    }
   ],
   "source": [
    "!bash LatOOP1.sh"
   ]
  },
  {
   "cell_type": "code",
   "execution_count": 2,
   "id": "9915e911-d2bf-4bf5-af47-e46690896c28",
   "metadata": {},
   "outputs": [
    {
     "name": "stdout",
     "output_type": "stream",
     "text": [
      "Memulai skrip isi shell interaktif Python...\n",
      " \n",
      ">>> from LatOOP2 import *\n",
      ">>> pesanA = Pesan('Aku suka kuliah ini')\n",
      ">>> pesanB = Pesan('Surakarta: the Spirit of Java')\n",
      ">>>\n",
      ">>> pesanA.cetakIni()\n",
      "Aku suka kuliah ini\n",
      ">>> pesanA.cetakJumlahKarakterku()\n",
      "Kalimatku mempunyai 19 karakter.\n",
      ">>> pesanB.cetakJumlahKarakterku()\n",
      "Kalimatku mempunyai 29 karakter.\n",
      ">>> pesanA.cetakPakaiHurufKapital()\n",
      "AKU SUKA KULIAH INI\n",
      ">>> pesanA.cetakPakaiHurufKecil()\n",
      "aku suka kuliah ini\n",
      ">>> pesanA.perbarui('Aku senang struktur data')\n",
      ">>> pesanA.cetakIni()\n",
      "Aku senang struktur data\n",
      "Keluar dari shell interaktif Python.\n"
     ]
    }
   ],
   "source": [
    "!bash LatOOP2.sh"
   ]
  },
  {
   "cell_type": "code",
   "execution_count": 3,
   "id": "81de8670-1182-4c09-a1b7-30d4964b5587",
   "metadata": {},
   "outputs": [
    {
     "name": "stdout",
     "output_type": "stream",
     "text": [
      "Memulai skrip isi shell interaktif Python...\n",
      " \n",
      ">>> from LatOOP3 import *\n",
      ">>> p2 = Manusia('Budi')\n",
      ">>> p2.ucakpanSalam()\n",
      "Salaam, namaku Budi\n",
      ">>> \n",
      ">>> ak = Manusia('Abdul Karim')\n",
      ">>> ak.ucapkanSalam()\n",
      "Salaam, namaku Abdul Karim\n",
      ">>> ak.keadaan\n",
      "lapar\n",
      ">>> ak.makan('nasi goreng')\n",
      "Saya baru saja makan nasi goreng\n",
      ">>> ak.keadaan\n",
      "kenyang\n",
      ">>> ak.olahraga('renang')\n",
      "Saya baru saja latihan renang\n",
      ">>> ak.keadaan\n",
      "lapar\n",
      ">>> ak.makan('bakso')\n",
      "Saya baru saja makan bakso\n",
      ">>> ak.keadaan\n",
      "kenyang\n",
      ">>> ak.mengalikanDenganDua(8)\n",
      "16\n",
      "Keluar dari shell interaktif Python.\n"
     ]
    }
   ],
   "source": [
    "!bash LatOOP3.sh"
   ]
  },
  {
   "cell_type": "code",
   "execution_count": 4,
   "id": "753c5876-49d3-4d7c-aa92-992cd164a0b9",
   "metadata": {},
   "outputs": [
    {
     "name": "stdout",
     "output_type": "stream",
     "text": [
      "Memulai skrip isi shell interaktif Python...\n",
      " \n",
      ">>> from LatOOP4 import *\n",
      ">>> m1 = Mahasiswa('Jamil',234,'Surakarta',250000)\n",
      ">>> m2 = Mahasiswa('Andi',365,'Magelang',275000) \n",
      ">>> m3 = Mahasiswa('Sri', 676,'Yogyakarta',240000)\n",
      ">>>\n",
      ">>> m1.ambilNama()\n",
      "Jamil\n",
      ">>> m2.ambilNIM()\n",
      "365\n",
      ">>> m3.ucapkanSalam()\n",
      "Salaam, namaku Sri\n",
      ">>> m3.keadaan\n",
      "lapar\n",
      ">>> m3.makan('gado-gado')\n",
      "Saya baru saja makan gado-gado sambil belajar.\n",
      ">>> m3.keadaan\n",
      "kenyang\n",
      ">>> print(m3)\n",
      "Sri, NIM 676. Tinggal di Yogyakarta. Uang saku Rp 240000 tiap bulannya.\n",
      " \n",
      "Keluar dari shell interaktif Python.\n"
     ]
    }
   ],
   "source": [
    "!bash LatOOP4.sh"
   ]
  },
  {
   "cell_type": "code",
   "execution_count": 5,
   "id": "80cf7372-bdba-4d59-8b04-39931d81da48",
   "metadata": {},
   "outputs": [
    {
     "name": "stdout",
     "output_type": "stream",
     "text": [
      "Memulai skrip isi shell interaktif Python...\n",
      " \n",
      ">>> from LatOOP5 import *\n",
      ">>> m4 = MhsTIF('Badu',334,'Sragen',230000)\n",
      ">>> m4.katakanPy()\n",
      "Python is cool.\n",
      ">>> print(m4)\n",
      "Badu, NIM 334. Tinggal di Sragen. Uang saku Rp 230000 tiap bulannya.\n",
      ">>> m4.keadaan\n",
      "lapar\n",
      ">>> m4.makan('pecel')\n",
      "Saya baru saja makan pecel sambil belajar.\n",
      ">>> m4.keadaan\n",
      "kenyang\n",
      ">>> m4.ucapkanSalam()\n",
      "Salaam, namaku Badu\n",
      "Keluar dari shell interaktif Python.\n"
     ]
    }
   ],
   "source": [
    "!bash LatOOP5.sh"
   ]
  },
  {
   "cell_type": "code",
   "execution_count": 6,
   "id": "13297dad-40b0-4344-a550-a31776ca2c76",
   "metadata": {},
   "outputs": [
    {
     "name": "stdout",
     "output_type": "stream",
     "text": [
      "Memulai skrip isi shell interaktif Python...\n",
      " \n",
      ">>> from LatOOP4 import *\n",
      ">>> m1 = Mahasiswa('Jamil',234,'Surakarta',250000)\n",
      ">>> m2 = Mahasiswa('Andi',365,'Magelang',275000) \n",
      ">>> m3 = Mahasiswa('Sri', 676,'Yogyakarta',240000)\n",
      ">>> for i in daftar: print(i.NIM)\n",
      "\n",
      "234\n",
      "365\n",
      "676\n",
      ">>> for i in daftar: print(i)\n",
      "\n",
      "Jamil, NIM 234. Tinggal di Surakarta. Uang saku Rp 250000 tiap bulannya.\n",
      "Andi, NIM 365. Tinggal di Magelang. Uang saku Rp 275000 tiap bulannya.\n",
      "Sri, NIM 676. Tinggal di Yogyakarta. Uang saku Rp 240000 tiap bulannya.\n",
      " \n",
      "Keluar dari shell interaktif Python.\n"
     ]
    }
   ],
   "source": [
    "!bash LatOOP6.sh"
   ]
  },
  {
   "cell_type": "code",
   "execution_count": null,
   "id": "04e99cf6-7c74-4aa2-83eb-fb08998ec571",
   "metadata": {},
   "outputs": [],
   "source": []
  }
 ],
 "metadata": {
  "kernelspec": {
   "display_name": "Python 3 (ipykernel)",
   "language": "python",
   "name": "python3"
  },
  "language_info": {
   "codemirror_mode": {
    "name": "ipython",
    "version": 3
   },
   "file_extension": ".py",
   "mimetype": "text/x-python",
   "name": "python",
   "nbconvert_exporter": "python",
   "pygments_lexer": "ipython3",
   "version": "3.11.8"
  },
  "widgets": {
   "application/vnd.jupyter.widget-state+json": {
    "state": {},
    "version_major": 2,
    "version_minor": 0
   }
  }
 },
 "nbformat": 4,
 "nbformat_minor": 5
}
