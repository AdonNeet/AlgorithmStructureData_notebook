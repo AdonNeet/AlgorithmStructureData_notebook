{
 "cells": [
  {
   "cell_type": "markdown",
   "id": "45ebf2b8-842e-4fe4-a194-3fdde38dffb1",
   "metadata": {
    "tags": []
   },
   "source": [
    "# No 1"
   ]
  },
  {
   "cell_type": "code",
   "execution_count": 2,
   "id": "ab7c4241-4390-4609-8557-c71d37fb9ba6",
   "metadata": {
    "tags": []
   },
   "outputs": [
    {
     "name": "stdout",
     "output_type": "stream",
     "text": [
      "\n",
      "*\n",
      "**\n",
      "***\n",
      "****\n",
      "*****\n"
     ]
    }
   ],
   "source": [
    "def cetakSiku(x):\n",
    "\tglobal tempe;\n",
    "\ttempe = \"\";\n",
    "\tfor i in range(0, x+1):\n",
    "\t\tfor j in range (0, i):\n",
    "\t\t\ttempe += \"*\";\n",
    "\t\tprint(tempe);\n",
    "\t\ttempe = \"\";\n",
    "\n",
    "cetakSiku(5);"
   ]
  },
  {
   "cell_type": "markdown",
   "id": "82ba532f-129e-4a30-9ac0-1d42444ac4a6",
   "metadata": {},
   "source": [
    "# No 2"
   ]
  },
  {
   "cell_type": "code",
   "execution_count": 3,
   "id": "37df20ba-dd98-4eb8-89e0-15114250c6c9",
   "metadata": {
    "tags": []
   },
   "outputs": [
    {
     "name": "stdout",
     "output_type": "stream",
     "text": [
      "@@@@@\n",
      "@   @\n",
      "@   @\n",
      "@@@@@\n"
     ]
    }
   ],
   "source": [
    "tempA = \"\";\n",
    "\n",
    "def gambarPersegiEmpat(y, x):\n",
    "\tglobal tempA;\n",
    "\tfor i in range (0, y):\n",
    "\t\tfor j in range (0, x):\n",
    "\t\t\tif(i == 0 or i == y-1 or j == 0 or j == x-1):\n",
    "\t\t\t\ttempA += \"@\";\n",
    "\t\t\telse:\n",
    "\t\t\t\ttempA += \" \";\n",
    "\t\tprint(tempA);\n",
    "\t\ttempA = \"\";\n",
    "\t\t\n",
    "\t\t\t\n",
    "gambarPersegiEmpat(4,5);"
   ]
  },
  {
   "cell_type": "markdown",
   "id": "018fd713-3f3a-4869-84f7-cb2c211895d5",
   "metadata": {},
   "source": [
    "# No 3 "
   ]
  },
  {
   "cell_type": "code",
   "execution_count": 4,
   "id": "baef5a84-622b-4de1-b7f0-8d00f4de1a12",
   "metadata": {
    "tags": []
   },
   "outputs": [
    {
     "name": "stdout",
     "output_type": "stream",
     "text": [
      "(9, 4)\n"
     ]
    }
   ],
   "source": [
    "length = 0;\n",
    "ans = 0;\n",
    "\n",
    "def jumlahHurufVokal(teks):\n",
    "\tglobal length, ans;\n",
    "\tfor char in teks:\n",
    "\t\tif(char == 'a' or char == 'i' or char == 'u' or char == \n",
    "'e' or char == 'o'):\n",
    "\t\t\tans += 1;\n",
    "\t\tlength += 1;\n",
    "\tprint(\"(\"+str(length)+\", \"+str(ans)+\")\");\n",
    "\n",
    "\n",
    "jumlahHurufVokal(str(\"Surakarta\"));\n",
    "\t"
   ]
  },
  {
   "cell_type": "code",
   "execution_count": 5,
   "id": "67803246-ec40-43d5-a184-e6bba52f5fc0",
   "metadata": {
    "tags": []
   },
   "outputs": [
    {
     "name": "stdout",
     "output_type": "stream",
     "text": [
      "(9, 5)\n"
     ]
    }
   ],
   "source": [
    "length = 0;\n",
    "ans = 0;\n",
    "\n",
    "def jumlahHurufKonsonan(teks):\n",
    "\tteks = str(teks);\n",
    "\tglobal length, ans;\n",
    "\tfor char in teks:\n",
    "\t\tif(char == 'a' or char == 'i' or char == 'u' or char == \n",
    "'e' or char == 'o'):\n",
    "\t\t\tans += 1;\n",
    "\t\tlength += 1;\n",
    "\tans = length - ans;\n",
    "\tprint(\"(\"+str(length)+\", \"+str(ans)+\")\");\n",
    "\n",
    "\n",
    "jumlahHurufKonsonan(\"Surakarta\");\n",
    "\t"
   ]
  },
  {
   "cell_type": "markdown",
   "id": "ade8a8f5-4522-4fe8-9995-ef0912be1b08",
   "metadata": {},
   "source": [
    "# No 4"
   ]
  },
  {
   "cell_type": "code",
   "execution_count": 6,
   "id": "14602c12-1287-4151-8537-5e118492ebc0",
   "metadata": {
    "tags": []
   },
   "outputs": [
    {
     "name": "stdout",
     "output_type": "stream",
     "text": [
      "3.0\n",
      "6.333333333333333\n"
     ]
    }
   ],
   "source": [
    "def rerata(x):\n",
    "\tlength = 0;\n",
    "\ttempA = 0;\n",
    "\tfor i in x:\n",
    "\t\ttempA += i;\n",
    "\t\tlength += 1;\n",
    "\tprint(tempA/length);\n",
    "\n",
    "\n",
    "\n",
    "rerata([1,2,3,4,5]);\n",
    "g = [3,4,5,4,3,4,5,2,2,10,11,23];\n",
    "rerata(g);"
   ]
  },
  {
   "cell_type": "markdown",
   "id": "74e578fd-8a9a-40b2-b8ee-2af8df751b63",
   "metadata": {},
   "source": [
    "# No 5 "
   ]
  },
  {
   "cell_type": "code",
   "execution_count": 9,
   "id": "f8813744-6f10-4f20-9e6a-1982e2cc7072",
   "metadata": {
    "tags": []
   },
   "outputs": [
    {
     "name": "stdout",
     "output_type": "stream",
     "text": [
      "Merupakan bilangan prima\n",
      "Merupakan bilangan prima\n",
      "Bukan merupakan bilangan prima\n",
      "Merupakan bilangan prima\n"
     ]
    }
   ],
   "source": [
    "from math import sqrt as sq\n",
    "\n",
    "def apakahPrima(n):\n",
    "\tn = int(n) ; # Kalau pecahan, dibuang pecahannya.\n",
    "\tassert n>=0; # Hanya menerima bilangan non-negatif.\n",
    "\tprimaKecil = [2,3,5,7,11]; # Kalau angkanya kecil, akan\n",
    "\tbukanPrKecil = [0,1,4,6,8,9,10]; \t# tertangkap di sini.\n",
    "\tif n in primaKecil:\n",
    "\t\tprint(\"Merupakan bilangan prima\");\n",
    "\t\treturn True;\n",
    "\telif n in bukanPrKecil:\n",
    "\t\tprint(\"Bukan merupakan bilangan prima\");\n",
    "\t\treturn False;\n",
    "\telse:\n",
    "\t\tfor i in range(2,int(sq(n))+1): #Cukup sampai akar nya.\n",
    "\t\t\tif(n%i == 0 and n != 1):\n",
    "\t\t\t\tprint(\"Bukan merupakan bilangan prima\");\n",
    "\t\t\t\t# return False;\n",
    "\t\tprint(\"Merupakan bilangan prima\");\n",
    "\t\t# return True\n",
    "\n",
    "apakahPrima(31)\n",
    "apakahPrima(97)\n",
    "apakahPrima(123)"
   ]
  },
  {
   "cell_type": "markdown",
   "id": "2ddb42c7-e8ec-440d-8965-c22466674445",
   "metadata": {},
   "source": [
    "# No 6 "
   ]
  },
  {
   "cell_type": "code",
   "execution_count": 10,
   "id": "25f83900-8066-4de3-b5a8-afa9d1a143fa",
   "metadata": {
    "tags": []
   },
   "outputs": [
    {
     "name": "stdout",
     "output_type": "stream",
     "text": [
      "(2, 3, 5, 7, 11, 13, 17, 19, 23, 29, 31, 37, 41, 43, 47, 53, 59, 61, 67, 71, 73, 79, 83, 89, 97, 101, 103, 107, 109, 113, 127, 131, 137, 139, 149, 151, 157, 163, 167, 173, 179, 181, 191, 193, 197, 199, 211, 223, 227, 229, 233, 239, 241, 251, 257, 263, 269, 271, 277, 281, 283, 293, 307, 311, 313, 317, 331, 337, 347, 349, 353, 359, 367, 373, 379, 383, 389, 397, 401, 409, 419, 421, 431, 433, 439, 443, 449, 457, 461, 463, 467, 479, 487, 491, 499, 503, 509, 521, 523, 541, 547, 557, 563, 569, 571, 577, 587, 593, 599, 601, 607, 613, 617, 619, 631, 641, 643, 647, 653, 659, 661, 673, 677, 683, 691, 701, 709, 719, 727, 733, 739, 743, 751, 757, 761, 769, 773, 787, 797, 809, 811, 821, 823, 827, 829, 839, 853, 857, 859, 863, 877, 881, 883, 887, 907, 911, 919, 929, 937, 941, 947, 953, 967, 971, 977, 983, 991, 997)\n"
     ]
    }
   ],
   "source": [
    "from math import sqrt;\n",
    "\n",
    "def cetakPrima(n):\n",
    "\tn = int(n);\n",
    "\tans = [];\n",
    "\tassert n >= 0;\n",
    "\tfor i in range(1, n):\n",
    "\t\tcek = 0;\n",
    "\t\tfor j in range(2, int(sqrt(i)+1)):\n",
    "\t\t\tif(i%j == 0):\n",
    "\t\t\t\tcek += 1;\n",
    "\t\t\t\tbreak;\n",
    "\t\tif(cek == 0 and i != 1):\n",
    "\t\t\tans = ans + [i];\n",
    "\t\telse:\n",
    "\t\t\tcontinue;\n",
    "\tprint(tuple(ans));\n",
    "\t\t\t\t\n",
    "\n",
    "cetakPrima(1000);"
   ]
  },
  {
   "cell_type": "markdown",
   "id": "ae6055c3-f195-4f0a-a45c-52fb60d1313f",
   "metadata": {},
   "source": [
    "# No 7"
   ]
  },
  {
   "cell_type": "code",
   "execution_count": 11,
   "id": "f0ba0dfd-0301-40ba-9b25-6e8035428670",
   "metadata": {
    "tags": []
   },
   "outputs": [
    {
     "name": "stdout",
     "output_type": "stream",
     "text": [
      "(2, 2, 5, 5)\n"
     ]
    }
   ],
   "source": [
    "def faktorPrima(n):\t# roda faktorisasi [50% dari O(sqrt(n))]\n",
    "\tans = [];\n",
    "\tn = int(n);\n",
    "\twhile n%2 == 0:\n",
    "\t\tans = ans + [2];\n",
    "\t\tn /= 2;\n",
    "\ttempA = 3 * 3;\n",
    "\tif tempA <= n:\n",
    "\t\tfor d in range(3, tempA, 2):\n",
    "\t\t\twhile n % d == 0:\n",
    "\t\t\t\tans = ans + [d];\n",
    "\t\t\t\tn /= d;\n",
    "\t\t\ttempA = (d+2) * (d+2);\n",
    "\t\t\tif tempA > n:\n",
    "\t\t\t\tbreak;\n",
    "\tif n > 1:\n",
    "\t\tans = ans + [n];\n",
    "\tprint(tuple(ans));\n",
    "\n",
    "faktorPrima(100);"
   ]
  },
  {
   "cell_type": "markdown",
   "id": "e0fb915a-549e-405f-8eee-b5e71baaad99",
   "metadata": {},
   "source": [
    "# No 8"
   ]
  },
  {
   "cell_type": "code",
   "execution_count": 12,
   "id": "1a713f9c-afc6-406b-8e35-6037b749111e",
   "metadata": {
    "tags": []
   },
   "outputs": [
    {
     "name": "stdout",
     "output_type": "stream",
     "text": [
      "True\n"
     ]
    }
   ],
   "source": [
    "def apakahTerkandung(x, teks):\n",
    "\tif x in teks:\n",
    "\t\tprint(\"True\");\n",
    "\telse:\n",
    "\t\tprint(\"False\");\n",
    "\n",
    "\n",
    "h = \"do\";\n",
    "k = \"Indonesia tannah air beta\";\n",
    "apakahTerkandung(h, k);"
   ]
  },
  {
   "cell_type": "markdown",
   "id": "3d081f48-68e8-4cae-b22c-2f660679be35",
   "metadata": {
    "jp-MarkdownHeadingCollapsed": true,
    "tags": []
   },
   "source": [
    "# No 9 "
   ]
  },
  {
   "cell_type": "code",
   "execution_count": 13,
   "id": "d1867163-83dd-4ec6-a57f-4842582f2efc",
   "metadata": {
    "tags": []
   },
   "outputs": [
    {
     "name": "stdout",
     "output_type": "stream",
     "text": [
      "1\n",
      "2\n",
      "Python\n",
      "4\n",
      "UMS\n",
      "Python\n",
      "7\n",
      "8\n",
      "Python\n",
      "UMS\n",
      "11\n",
      "Python\n",
      "13\n",
      "14\n",
      "Python UMS\n",
      "16\n",
      "17\n",
      "Python\n",
      "19\n",
      "UMS\n",
      "Python\n",
      "22\n",
      "23\n",
      "Python\n",
      "UMS\n",
      "26\n",
      "Python\n",
      "28\n",
      "29\n",
      "Python UMS\n",
      "31\n",
      "32\n",
      "Python\n",
      "34\n",
      "UMS\n",
      "Python\n",
      "37\n",
      "38\n",
      "Python\n",
      "UMS\n",
      "41\n",
      "Python\n",
      "43\n",
      "44\n",
      "Python UMS\n",
      "46\n",
      "47\n",
      "Python\n",
      "49\n",
      "UMS\n",
      "Python\n",
      "52\n",
      "53\n",
      "Python\n",
      "UMS\n",
      "56\n",
      "Python\n",
      "58\n",
      "59\n",
      "Python UMS\n",
      "61\n",
      "62\n",
      "Python\n",
      "64\n",
      "UMS\n",
      "Python\n",
      "67\n",
      "68\n",
      "Python\n",
      "UMS\n",
      "71\n",
      "Python\n",
      "73\n",
      "74\n",
      "Python UMS\n",
      "76\n",
      "77\n",
      "Python\n",
      "79\n",
      "UMS\n",
      "Python\n",
      "82\n",
      "83\n",
      "Python\n",
      "UMS\n",
      "86\n",
      "Python\n",
      "88\n",
      "89\n",
      "Python UMS\n",
      "91\n",
      "92\n",
      "Python\n",
      "94\n",
      "UMS\n",
      "Python\n",
      "97\n",
      "98\n",
      "Python\n",
      "UMS\n"
     ]
    }
   ],
   "source": [
    "for i in range (1,101):\n",
    "\tif(i%15 == 0):\n",
    "\t\tprint(\"Python UMS\");\n",
    "\telif(i%5 == 0):\n",
    "\t\tprint(\"UMS\");\n",
    "\telif(i%3  == 0):\n",
    "\t\tprint(\"Python\");\n",
    "\telse: \n",
    "\t\tprint(str(i));\n"
   ]
  },
  {
   "cell_type": "markdown",
   "id": "6d8ffef1-4661-48e0-a32d-afc0dd9c7e41",
   "metadata": {},
   "source": [
    "# No 10 "
   ]
  },
  {
   "cell_type": "code",
   "execution_count": 14,
   "id": "35bf43a7-b927-4d3d-8f11-b74a42f07096",
   "metadata": {
    "tags": []
   },
   "outputs": [
    {
     "name": "stdout",
     "output_type": "stream",
     "text": [
      "Determinannya negatif. Persamaan tidak mempunyai akar real.\n",
      "(3.0, 2.0)\n"
     ]
    }
   ],
   "source": [
    "from math import sqrt as akar\n",
    "\n",
    "def selesaikanABC(a,b,c):\n",
    "\ta = float(a);\n",
    "\tb = float(b);\n",
    "\tc = float(c);\n",
    "\tD = b**2 - 4*a*c;\n",
    "\tif(D > 0):\n",
    "\t\tx1 = (-b + akar(D))/(2*a);\n",
    "\t\tx2 = (-b - akar(D))/(2*a);\n",
    "\t\thasil = (x1,x2);\n",
    "\telse:\n",
    "\t\thasil = \"Determinannya negatif. Persamaan tidak mempunyai akar real.\";\n",
    "\treturn hasil\n",
    "\n",
    "\n",
    "print(selesaikanABC(1,2,3));\n",
    "print(selesaikanABC(1,-5,6));"
   ]
  },
  {
   "cell_type": "markdown",
   "id": "bf830f19-eee5-4d8d-a876-f9f032efc94f",
   "metadata": {},
   "source": [
    "# No 11"
   ]
  },
  {
   "cell_type": "code",
   "execution_count": 15,
   "id": "4e771a1c-963c-4b2b-ba39-75cbe8cc969c",
   "metadata": {
    "tags": []
   },
   "outputs": [
    {
     "name": "stdout",
     "output_type": "stream",
     "text": [
      "False\n",
      "False\n",
      "False\n",
      "True\n",
      "True\n",
      "True\n"
     ]
    }
   ],
   "source": [
    "def apakahKabisat(year):\n",
    "\tif(year%4 == 0):\n",
    "\t\tif(year%400 == 0):\n",
    "\t\t\treturn True;\n",
    "\t\telif(year%100 == 0):\n",
    "\t\t\treturn False;\n",
    "\t\telse:\n",
    "\t\t\treturn True;\n",
    "\telse:\n",
    "\t\treturn False;\n",
    "\t\t\n",
    "\n",
    "\n",
    "print(apakahKabisat(1974));\n",
    "print(apakahKabisat(1900));\n",
    "print(apakahKabisat(2100));\n",
    "print(apakahKabisat(2004));\n",
    "print(apakahKabisat(112104));\n",
    "print(apakahKabisat(2400));"
   ]
  },
  {
   "cell_type": "markdown",
   "id": "62d111c9-07e2-4e0a-bf4e-ef9de6ceb5c7",
   "metadata": {},
   "source": [
    "# No 12 "
   ]
  },
  {
   "cell_type": "code",
   "execution_count": 18,
   "id": "e66bf2fd-05cf-4bf7-bf94-045b7df900c2",
   "metadata": {
    "tags": []
   },
   "outputs": [
    {
     "name": "stdout",
     "output_type": "stream",
     "text": [
      "Permainan tebak angka.\n",
      "Saya menyimpan sebuah angka bulat antara 1 sampai 100. Coba tebak.\n"
     ]
    },
    {
     "name": "stdin",
     "output_type": "stream",
     "text": [
      "Masukkan tebakan ke-1:>  50\n"
     ]
    },
    {
     "name": "stdout",
     "output_type": "stream",
     "text": [
      "Itu terlalu besar. Coba lagi.\n"
     ]
    },
    {
     "name": "stdin",
     "output_type": "stream",
     "text": [
      "Masukkan tebakan ke-2:>  25\n"
     ]
    },
    {
     "name": "stdout",
     "output_type": "stream",
     "text": [
      "Itu terlalu kecil. Coba lagi.\n"
     ]
    },
    {
     "name": "stdin",
     "output_type": "stream",
     "text": [
      "Masukkan tebakan ke-3:>  37\n"
     ]
    },
    {
     "name": "stdout",
     "output_type": "stream",
     "text": [
      "Itu terlalu kecil. Coba lagi.\n"
     ]
    },
    {
     "name": "stdin",
     "output_type": "stream",
     "text": [
      "Masukkan tebakan ke-4:>  43\n"
     ]
    },
    {
     "name": "stdout",
     "output_type": "stream",
     "text": [
      "Itu terlalu besar. Coba lagi.\n"
     ]
    },
    {
     "name": "stdin",
     "output_type": "stream",
     "text": [
      "Masukkan tebakan ke-5:>  40\n"
     ]
    },
    {
     "name": "stdout",
     "output_type": "stream",
     "text": [
      "Itu terlalu besar. Coba lagi.\n"
     ]
    },
    {
     "name": "stdin",
     "output_type": "stream",
     "text": [
      "Masukkan tebakan ke-6:>  39\n"
     ]
    },
    {
     "name": "stdout",
     "output_type": "stream",
     "text": [
      "Itu terlalu besar. Coba lagi.\n"
     ]
    },
    {
     "name": "stdin",
     "output_type": "stream",
     "text": [
      "Masukkan tebakan ke-7:>  38\n"
     ]
    },
    {
     "name": "stdout",
     "output_type": "stream",
     "text": [
      "Ya. Anda benar.\n"
     ]
    }
   ],
   "source": [
    "import random\n",
    "\n",
    "def main():\n",
    "    # Membangkitkan angka random antara 1 sampai 100\n",
    "    angka_rahasia = random.randint(1, 100)\n",
    "\n",
    "    print(\"Permainan tebak angka.\")\n",
    "    print(\"Saya menyimpan sebuah angka bulat antara 1 sampai 100. Coba tebak.\")\n",
    "\n",
    "    # Menebak angka\n",
    "    tebakan_ke = 0\n",
    "    while True:\n",
    "        tebakan_ke += 1\n",
    "        tebakan = int(input(f\"Masukkan tebakan ke-{tebakan_ke}:> \"))\n",
    "\n",
    "        if tebakan < angka_rahasia:\n",
    "            print(\"Itu terlalu kecil. Coba lagi.\")\n",
    "        elif tebakan > angka_rahasia:\n",
    "            print(\"Itu terlalu besar. Coba lagi.\")\n",
    "        else:\n",
    "            print(\"Ya. Anda benar.\")\n",
    "            break\n",
    "\n",
    "if __name__ == \"__main__\":\n",
    "    main()\n"
   ]
  },
  {
   "cell_type": "markdown",
   "id": "3d3dcd92-982a-43d1-8be5-3a9efd062c9c",
   "metadata": {},
   "source": [
    "# No 13 "
   ]
  },
  {
   "cell_type": "code",
   "execution_count": 16,
   "id": "a68797c3-8d99-415a-b2d8-c351bd00c16e",
   "metadata": {
    "tags": []
   },
   "outputs": [
    {
     "name": "stdout",
     "output_type": "stream",
     "text": [
      "Sepuluh\n",
      "Seribu empat ratus dua puluh \n",
      "Tiga juta seratus dua puluh lima ribu tujuh ratus lima puluh \n"
     ]
    }
   ],
   "source": [
    "def decode(angka):\n",
    "    if angka < 0 or angka >= 1000000000:\n",
    "        return \"Input harus berupa bilangan bulat positif yang lebih kecil dari satu milyar.\"\n",
    "    elif angka == 0:\n",
    "        return \"\"\n",
    "    elif angka < 10:\n",
    "        return [\"\", \"satu\", \"dua\", \"tiga\", \"empat\", \"lima\", \"enam\", \"tujuh\", \"delapan\", \"sembilan\"][angka]\n",
    "    elif angka < 20:\n",
    "        return [\"sepuluh\", \"sebelas\", \"dua belas\", \"tiga belas\", \"empat belas\", \"lima belas\", \"enam belas\", \"tujuh belas\", \"delapan belas\", \"sembilan belas\"][angka - 10]\n",
    "    elif angka < 100:\n",
    "        return (\"\" if angka // 10 == 1 else decode(angka // 10)) + \" puluh \" + decode(angka % 10)\n",
    "    elif angka < 1000:\n",
    "        return decode(angka // 100) + \" ratus \" + decode(angka % 100)\n",
    "    elif angka < 1000000:\n",
    "        return decode(angka // 1000) + \" ribu \" + decode(angka % 1000)\n",
    "    else:\n",
    "        return decode(angka // 1000000) + \" juta \" + decode(angka % 1000000)\n",
    "\n",
    "def katakan(angka):\n",
    "\tans = decode(angka);\n",
    "\tif \"satu ratus\" in ans:\n",
    "\t\tans = ans.replace(\"satu ratus\", \"seratus\");\n",
    "\tif \"satu ribu\" in ans:\n",
    "\t\tans = ans.replace(\"satu ribu\", \"seribu\");\n",
    "\tif \"satu puluh\" in ans:\n",
    "\t\tans = ans.replace(\"satu puluh\", \"sepuluh\");\n",
    "\treturn ans.capitalize();\n",
    "\n",
    "\n",
    "\n",
    "print(katakan(10));\n",
    "print(katakan(1420));\n",
    "print(katakan(3125750));\n"
   ]
  },
  {
   "cell_type": "markdown",
   "id": "246d1aae-0dba-40b7-854d-f57d02f88f96",
   "metadata": {},
   "source": [
    "# No 14 "
   ]
  },
  {
   "cell_type": "code",
   "execution_count": 17,
   "id": "34a2f770-3dbb-4766-a1f4-719d226c3ba1",
   "metadata": {
    "tags": []
   },
   "outputs": [
    {
     "name": "stdout",
     "output_type": "stream",
     "text": [
      "Rp 2.560.000\n"
     ]
    }
   ],
   "source": [
    "def formatRupiah(num):\n",
    "\tnum = str(num);\n",
    "\tans = \"\";\n",
    "\tpost = 0;\n",
    "\tfor i in num[::-1]:\n",
    "\t\tif(post%3 == 0 and post != 0):\n",
    "\t\t\tans = \".\" + ans;\n",
    "\t\tans = i + ans;\n",
    "\t\tpost += 1;\n",
    "\tans = \"Rp \" + ans;\n",
    "\tprint(ans);\n",
    "\n",
    "formatRupiah(2560000);"
   ]
  }
 ],
 "metadata": {
  "kernelspec": {
   "display_name": "Python 3 (ipykernel)",
   "language": "python",
   "name": "python3"
  },
  "language_info": {
   "codemirror_mode": {
    "name": "ipython",
    "version": 3
   },
   "file_extension": ".py",
   "mimetype": "text/x-python",
   "name": "python",
   "nbconvert_exporter": "python",
   "pygments_lexer": "ipython3",
   "version": "3.11.8"
  },
  "widgets": {
   "application/vnd.jupyter.widget-state+json": {
    "state": {},
    "version_major": 2,
    "version_minor": 0
   }
  }
 },
 "nbformat": 4,
 "nbformat_minor": 5
}
