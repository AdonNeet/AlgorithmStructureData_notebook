{
 "cells": [
  {
   "cell_type": "markdown",
   "id": "3c3277d7-df75-4636-9f96-e0c408cd6dfc",
   "metadata": {},
   "source": [
    "# Review 1"
   ]
  },
  {
   "cell_type": "code",
   "execution_count": 1,
   "id": "54671aea-c23d-45db-8dc8-8f3f9a71ed56",
   "metadata": {},
   "outputs": [
    {
     "name": "stdout",
     "output_type": "stream",
     "text": [
      "Nilai a =  4\n",
      "Nilai b =  5\n",
      "Sekarang, c =  4  +  5  =  9\n",
      "\n",
      "Sudah selesai.\n"
     ]
    }
   ],
   "source": [
    "a = 4\n",
    "b = 5\n",
    "c = a + b\n",
    "print('Nilai a = ', a)\n",
    "print('Nilai b = ', b)\n",
    "print('Sekarang, c = ', a, ' + ', b, ' = ', c)\n",
    "print('')\n",
    "print('Sudah selesai.')\n"
   ]
  },
  {
   "cell_type": "markdown",
   "id": "2933fa56-c0d7-4fb4-b4b0-b2ba12dddcd5",
   "metadata": {},
   "source": [
    "# Review 2"
   ]
  },
  {
   "cell_type": "code",
   "execution_count": 2,
   "id": "f6b076b2-d3f6-45b7-b67a-8ab1e6c6803e",
   "metadata": {},
   "outputs": [
    {
     "name": "stdout",
     "output_type": "stream",
     "text": [
      "Kita perlu bicara sebentar...\n"
     ]
    },
    {
     "name": "stdin",
     "output_type": "stream",
     "text": [
      "Siapa namamu? (ketik di sini)>  Adon\n"
     ]
    },
    {
     "name": "stdout",
     "output_type": "stream",
     "text": [
      "Selamat belajar,  Adon\n"
     ]
    },
    {
     "name": "stdin",
     "output_type": "stream",
     "text": [
      "Masukkan sebuah angka antara 1 sampai 100 >  6\n"
     ]
    },
    {
     "name": "stdout",
     "output_type": "stream",
     "text": [
      "Adon, tahukah kamu bahwa  6  kuadrat adalah  36 ?\n"
     ]
    }
   ],
   "source": [
    "print('Kita perlu bicara sebentar...')\n",
    "nm = input('Siapa namamu? (ketik di sini)> ')\n",
    "print('Selamat belajar, ', nm)\n",
    "angkaStr = input('Masukkan sebuah angka antara 1 sampai 100 > ')\n",
    "a = int(angkaStr)\n",
    "kuadratnya = a*a\n",
    "print(nm + ', tahukah kamu bahwa ', a, ' kuadrat adalah ',  kuadratnya, '?')"
   ]
  },
  {
   "cell_type": "markdown",
   "id": "dd12c3b7-9a20-4d93-870e-e1918f22fbec",
   "metadata": {},
   "source": [
    "# Review 3"
   ]
  },
  {
   "cell_type": "code",
   "execution_count": 3,
   "id": "5c094121-704b-4ded-af45-e8001e86225c",
   "metadata": {},
   "outputs": [],
   "source": [
    "def ucapkanSalam():\n",
    "    print(\"Assalamu 'alaikum!\")\n",
    "\n",
    "def sapa(nama): \n",
    "    ucapkanSalam()  # Ini memanggil fungsi ucapkanSalam() di atas.\n",
    "    print('Halo', nama)\n",
    "    print('Selamat belajar!')\n",
    "\n",
    "def kuadratkan(b):\n",
    "    h = b*b\n",
    "    return h\n",
    "\n"
   ]
  },
  {
   "cell_type": "code",
   "execution_count": 4,
   "id": "03d87c1b-06bd-4f34-a202-55c3b832ed01",
   "metadata": {},
   "outputs": [
    {
     "name": "stdout",
     "output_type": "stream",
     "text": [
      "Assalamu 'alaikum!\n"
     ]
    }
   ],
   "source": [
    "ucapkanSalam()"
   ]
  },
  {
   "cell_type": "code",
   "execution_count": 5,
   "id": "07dd81ad-acf7-4fd0-b290-fdf8117bebc0",
   "metadata": {},
   "outputs": [
    {
     "name": "stdout",
     "output_type": "stream",
     "text": [
      "Assalamu 'alaikum!\n",
      "Halo Adon\n",
      "Selamat belajar!\n"
     ]
    }
   ],
   "source": [
    "sapa('Adon')"
   ]
  },
  {
   "cell_type": "code",
   "execution_count": 6,
   "id": "cfd31a2c-dd55-4ab5-9a53-d86b52f10954",
   "metadata": {},
   "outputs": [
    {
     "data": {
      "text/plain": [
       "36"
      ]
     },
     "execution_count": 6,
     "metadata": {},
     "output_type": "execute_result"
    }
   ],
   "source": [
    "kuadratkan(6)"
   ]
  },
  {
   "cell_type": "markdown",
   "id": "ed26c805-18ca-4db6-a754-043011a4f406",
   "metadata": {},
   "source": [
    "# Review 4"
   ]
  },
  {
   "cell_type": "code",
   "execution_count": 7,
   "id": "0a81cb56-43dc-4bdc-8a9c-65c2406f5e06",
   "metadata": {},
   "outputs": [],
   "source": [
    "from math import sqrt as akar\n",
    "\n",
    "def selesaikanABC(a,b,c):\n",
    "    a = float(a) # mengubah jenis integer menjadi float\n",
    "    b = float(b)\n",
    "    c = float(c)\n",
    "    D = b**2 - 4*a*c\n",
    "    x1 = (-b + akar(D))/(2*a)\n",
    "    x2 = (-b - akar(D))/(2*a)\n",
    "    hasil = (x1,x2) # tuple yang terdiri dari dua elemen\n",
    "    return hasil\n"
   ]
  },
  {
   "cell_type": "code",
   "execution_count": 8,
   "id": "6fce20ff-f7b6-4c2c-8bcc-dc2bc7b232e8",
   "metadata": {},
   "outputs": [
    {
     "data": {
      "text/plain": [
       "(3.0, 2.0)"
      ]
     },
     "execution_count": 8,
     "metadata": {},
     "output_type": "execute_result"
    }
   ],
   "source": [
    "selesaikanABC(1, -5, 6)"
   ]
  },
  {
   "cell_type": "markdown",
   "id": "c3f84373-453b-477d-97d0-1898054dcfba",
   "metadata": {},
   "source": [
    "# Review 5"
   ]
  },
  {
   "cell_type": "code",
   "execution_count": 9,
   "id": "285e729d-3613-4ac1-a55e-12038c920d64",
   "metadata": {},
   "outputs": [],
   "source": [
    "def apakahGenap(x):\n",
    "    if (x%2 == 0):\n",
    "        return True\n",
    "    else:\n",
    "        return False\n"
   ]
  },
  {
   "cell_type": "code",
   "execution_count": 10,
   "id": "e91cd4b8-bf09-4272-8d85-6c2770ee27ae",
   "metadata": {},
   "outputs": [
    {
     "data": {
      "text/plain": [
       "True"
      ]
     },
     "execution_count": 10,
     "metadata": {},
     "output_type": "execute_result"
    }
   ],
   "source": [
    "apakahGenap(10)"
   ]
  },
  {
   "cell_type": "code",
   "execution_count": 11,
   "id": "a9a98c2f-2c8e-4ed2-8846-9d2c597c1768",
   "metadata": {},
   "outputs": [
    {
     "data": {
      "text/plain": [
       "False"
      ]
     },
     "execution_count": 11,
     "metadata": {},
     "output_type": "execute_result"
    }
   ],
   "source": [
    "apakahGenap(7)"
   ]
  },
  {
   "cell_type": "markdown",
   "id": "8db5bac9-22af-4fa1-a72d-c8d8b527c80c",
   "metadata": {},
   "source": [
    "# Review 6"
   ]
  },
  {
   "cell_type": "code",
   "execution_count": 12,
   "id": "c448ec71-10dd-4e6f-8431-7a13cef4204b",
   "metadata": {},
   "outputs": [],
   "source": [
    "def tigaAtauLima(x):\n",
    "    if (x % 3 == 0 and x % 5 == 0):\n",
    "        print('Bilangan itu adalah kelipatan 3 dan 5 sekaligus')\n",
    "    elif x % 3 == 0:\n",
    "        print('Bilangan itu adalah kelipatan 3')\n",
    "    elif x % 5 == 0:\n",
    "        print('Bilangan itu adalah kelipatan 5')\n",
    "    else:\n",
    "        print('Bilangan itu bukan kelipatan 3 maupun 5')\n",
    "\n"
   ]
  },
  {
   "cell_type": "code",
   "execution_count": 13,
   "id": "6243de3c-c149-40c4-a0c8-d581c72357fb",
   "metadata": {},
   "outputs": [
    {
     "name": "stdout",
     "output_type": "stream",
     "text": [
      "Bilangan itu adalah kelipatan 5\n"
     ]
    }
   ],
   "source": [
    "tigaAtauLima(5)"
   ]
  },
  {
   "cell_type": "code",
   "execution_count": 14,
   "id": "d82e6fef-2285-4d27-aba9-f2707d1ef3f0",
   "metadata": {},
   "outputs": [
    {
     "name": "stdout",
     "output_type": "stream",
     "text": [
      "Bilangan itu adalah kelipatan 3 dan 5 sekaligus\n"
     ]
    }
   ],
   "source": [
    "tigaAtauLima(15)"
   ]
  },
  {
   "cell_type": "code",
   "execution_count": 15,
   "id": "c6b75710-a99b-4dc2-8b82-514fbfe0ceff",
   "metadata": {},
   "outputs": [
    {
     "name": "stdout",
     "output_type": "stream",
     "text": [
      "Bilangan itu adalah kelipatan 3\n"
     ]
    }
   ],
   "source": [
    "tigaAtauLima(3)"
   ]
  },
  {
   "cell_type": "markdown",
   "id": "7d3a8c67-47a1-4fcb-af28-52da87da0d8f",
   "metadata": {},
   "source": [
    "# Review 7"
   ]
  },
  {
   "cell_type": "code",
   "execution_count": 16,
   "id": "88c1ac0a-e4e8-4a5e-984d-0632762b9a49",
   "metadata": {},
   "outputs": [
    {
     "name": "stdout",
     "output_type": "stream",
     "text": [
      "emailnya Santi adalah santi@ums.ac.id\n"
     ]
    }
   ],
   "source": [
    "staff = {'Santi': 'santi@ums.ac.id',\n",
    "         'Jokowi': 'jokowi@solokab.go.id',\n",
    "         'Endang': 'Endang@yahoo.com',\n",
    "         'Sulastri': 'Sulastri3@gmail.com'}\n",
    "\n",
    "yangDicari = 'Santi'\n",
    "if yangDicari in staff:\n",
    "    print('emailnya', yangDicari, 'adalah', staff[yangDicari])\n",
    "else:\n",
    "    print('Tidak ada yang namanya', yangDicari)\n",
    "\n"
   ]
  },
  {
   "cell_type": "markdown",
   "id": "0b3b2442-83ff-48a3-bf0f-dc2ca5e6e344",
   "metadata": {},
   "source": [
    "# Review 8"
   ]
  },
  {
   "cell_type": "code",
   "execution_count": 17,
   "id": "c42d2d01-8012-435c-872f-9d6ce8af21a7",
   "metadata": {},
   "outputs": [
    {
     "name": "stdout",
     "output_type": "stream",
     "text": [
      "0\n",
      "1\n",
      "2\n",
      "3\n",
      "4\n",
      "5\n",
      "6\n",
      "7\n",
      "8\n",
      "9\n"
     ]
    }
   ],
   "source": [
    "for i in range(0, 10):\n",
    "    print(i)\n"
   ]
  },
  {
   "cell_type": "markdown",
   "id": "8664dc00-b177-40ee-8e69-3124cf9edd5d",
   "metadata": {},
   "source": [
    "# Review 9"
   ]
  },
  {
   "cell_type": "code",
   "execution_count": 18,
   "id": "a982c652-9130-4663-8589-49af2b430bbd",
   "metadata": {},
   "outputs": [
    {
     "name": "stdout",
     "output_type": "stream",
     "text": [
      "4\n",
      "3\n",
      "2\n",
      "5\n",
      "6\n",
      " \n",
      "I\n",
      "n\n",
      "i\n",
      " \n",
      "B\n",
      "u\n",
      "d\n",
      "i\n"
     ]
    }
   ],
   "source": [
    "s2 = \"Ini Budi\"\n",
    "s1 = [4, 3, 2, 5, 6]\n",
    "\n",
    "for i in s1:\n",
    "    print(i)\n",
    "print(\" \")\n",
    "\n",
    "for j in s2:\n",
    "    print(j)\n"
   ]
  },
  {
   "cell_type": "markdown",
   "id": "5b1335d4-2ccc-4f2d-a1cb-654f50a94c68",
   "metadata": {},
   "source": [
    "# Review 10"
   ]
  },
  {
   "cell_type": "code",
   "execution_count": 19,
   "id": "c20b5421-fde4-4b0f-bf8a-6d6387278e48",
   "metadata": {},
   "outputs": [
    {
     "name": "stdout",
     "output_type": "stream",
     "text": [
      "nama <----> joko\n",
      "umur <----> 21\n",
      "asal <----> surakarta\n"
     ]
    }
   ],
   "source": [
    "dd = {'nama': 'joko', 'umur': 21, 'asal': 'surakarta'}\n",
    "for kunci in dd:\n",
    "    print(kunci, '<---->', dd[kunci])\n",
    "\n"
   ]
  },
  {
   "cell_type": "markdown",
   "id": "e0da18d4-ac83-4a29-97db-a70c328c4564",
   "metadata": {},
   "source": [
    "# Review 11"
   ]
  },
  {
   "cell_type": "code",
   "execution_count": 20,
   "id": "ef915a19-9d9c-4ad8-a4b6-9569d02e0188",
   "metadata": {},
   "outputs": [
    {
     "name": "stdout",
     "output_type": "stream",
     "text": [
      "0 0\n",
      "1 1\n",
      "2 4\n",
      "3 9\n",
      "4 16\n",
      "5 25\n",
      "6 36\n",
      "7 49\n",
      "8 64\n",
      "9 81\n",
      "10 100\n",
      "11 121\n",
      "12 144\n",
      "13 169\n",
      "14 196\n"
     ]
    }
   ],
   "source": [
    "bil = 0\n",
    "while(bil*bil<200):\n",
    "    print(bil, bil*bil)\n",
    "    bil = bil + 1\n"
   ]
  }
 ],
 "metadata": {
  "kernelspec": {
   "display_name": "Python 3 (ipykernel)",
   "language": "python",
   "name": "python3"
  },
  "language_info": {
   "codemirror_mode": {
    "name": "ipython",
    "version": 3
   },
   "file_extension": ".py",
   "mimetype": "text/x-python",
   "name": "python",
   "nbconvert_exporter": "python",
   "pygments_lexer": "ipython3",
   "version": "3.11.8"
  }
 },
 "nbformat": 4,
 "nbformat_minor": 5
}
