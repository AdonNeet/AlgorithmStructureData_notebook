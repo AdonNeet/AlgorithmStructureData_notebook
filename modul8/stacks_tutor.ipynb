{
 "cells": [
  {
   "cell_type": "markdown",
   "id": "bcbf70fa-e3ae-426d-b8d4-099c79dcf2a9",
   "metadata": {},
   "source": [
    "# Menggunakan list"
   ]
  },
  {
   "cell_type": "code",
   "execution_count": 1,
   "id": "166e0a43-e056-489b-9060-69b500609d0b",
   "metadata": {},
   "outputs": [],
   "source": [
    "class Stack(object):\n",
    "    def __init__(self):  # Membuat stack kosong.\n",
    "        self.items = []  # List untuk menyimpan stack.\n",
    "\n",
    "    def isEmpty(self):  # Mengembalikan True kalau kosong, selain itu False.\n",
    "        return len(self) == 0\n",
    "\n",
    "    def __len__(self):  # Mengembalikan banyaknya item di stack.\n",
    "        return len(self.items)\n",
    "\n",
    "    def peek(self):  # Mengembalikan nilai posisi atas tanpa menghapus.\n",
    "        assert not self.isEmpty(), \"Stack kosong. Tidak bisa diintip.\"\n",
    "        return self.items[-1]\n",
    "\n",
    "    def pop(self):  # Mengembalikan nilai posisi atas lalu menghapus.\n",
    "        assert not self.isEmpty(), \"Stack kosong. Tidak bisa di-pop.\"\n",
    "        return self.items.pop()\n",
    "\n",
    "    def push(self, data):  # Mendorong item baru ke stack.\n",
    "        self.items.append(data)\n"
   ]
  },
  {
   "cell_type": "markdown",
   "id": "0d89aa27-a229-49c2-856d-fc2339e0df25",
   "metadata": {},
   "source": [
    "# Menggunakan Linked List"
   ]
  },
  {
   "cell_type": "code",
   "execution_count": 4,
   "id": "a153cb38-a46b-4404-8f32-398aabedea2f",
   "metadata": {},
   "outputs": [],
   "source": [
    "class StackLL(object):\n",
    "    def __init__(self):\n",
    "        self.top = None\n",
    "        self.size = 0\n",
    "\n",
    "    def isEmpty(self):\n",
    "        return self.top is None\n",
    "\n",
    "    def __len__(self):\n",
    "        return self.size\n",
    "\n",
    "    def peek(self):\n",
    "        assert not self.isEmpty(), \"Tidak bisa diintip. Stack kosong.\"\n",
    "        return self.top.item\n",
    "\n",
    "    def pop(self):\n",
    "        assert not self.isEmpty(), \"Tidak bisa pop dari stack kosong.\"\n",
    "        node = self.top\n",
    "        self.top = self.top.next\n",
    "        self.size -= 1\n",
    "        return node.item\n",
    "\n",
    "    def push(self, data):\n",
    "        self.top = _StackNode(data, self.top)\n",
    "        self.size += 1\n",
    "\n",
    "class _StackNode(object):  # Ini adalah kelas privat\n",
    "    def __init__(self, data, link):  # untuk menyimpan data. Dia\n",
    "        self.item = data  # dipanggil oleh class StackLL\n",
    "        self.next = link  # di atas.\n"
   ]
  }
 ],
 "metadata": {
  "kernelspec": {
   "display_name": "Python 3 (ipykernel)",
   "language": "python",
   "name": "python3"
  },
  "language_info": {
   "codemirror_mode": {
    "name": "ipython",
    "version": 3
   },
   "file_extension": ".py",
   "mimetype": "text/x-python",
   "name": "python",
   "nbconvert_exporter": "python",
   "pygments_lexer": "ipython3",
   "version": "3.11.8"
  },
  "widgets": {
   "application/vnd.jupyter.widget-state+json": {
    "state": {},
    "version_major": 2,
    "version_minor": 0
   }
  }
 },
 "nbformat": 4,
 "nbformat_minor": 5
}
