{
 "cells": [
  {
   "cell_type": "markdown",
   "id": "4244c69f-44ee-4310-a94c-0863cf8a01d1",
   "metadata": {},
   "source": [
    "# Queue"
   ]
  },
  {
   "cell_type": "code",
   "execution_count": 11,
   "id": "c8e3298d-b595-4166-b051-a5804b4593e7",
   "metadata": {},
   "outputs": [
    {
     "name": "stdout",
     "output_type": "stream",
     "text": [
      "28\n",
      "19\n",
      "45\n",
      "13\n",
      "7\n",
      "98\n"
     ]
    }
   ],
   "source": [
    "class Queue(object):\n",
    "    def __init__(self):\n",
    "        self.qlist = []\n",
    "\n",
    "    def isEmpty(self):\n",
    "        return len(self) == 0\n",
    "\n",
    "    def __len__(self):\n",
    "        return len(self.qlist)\n",
    "\n",
    "    def enqueue(self, data):\n",
    "        self.qlist.append(data)\n",
    "\n",
    "    def dequeue(self):\n",
    "        assert not self.isEmpty(), \"Antrian sedang kosong.\"\n",
    "        return self.qlist.pop(0)\n",
    "\n",
    "if __name__ == \"__main__\": \n",
    "    Q = Queue()\n",
    "    Q.enqueue( 28 )\n",
    "    Q.enqueue( 19 )\n",
    "    Q.enqueue( 45 )\n",
    "    Q.enqueue( 13 )\n",
    "    Q.enqueue( 7 )\n",
    "    print(Q.dequeue())\n",
    "    print(Q.dequeue())\n",
    "    print(Q.dequeue())\n",
    "    print(Q.dequeue())\n",
    "    print(Q.dequeue())\n",
    "    # print(Q.dequeue())\n",
    "    Q.enqueue(98)\n",
    "    Q.enqueue(54)\n",
    "    print(Q.dequeue())"
   ]
  },
  {
   "cell_type": "code",
   "execution_count": 14,
   "id": "3793d336-af4d-4fb0-8b8e-953e3df51312",
   "metadata": {},
   "outputs": [
    {
     "name": "stdout",
     "output_type": "stream",
     "text": [
      "Jeruk\n",
      "Tomat\n",
      "Mangga\n"
     ]
    }
   ],
   "source": [
    "class PriorityQueue(object):\n",
    "    def __init__(self):\n",
    "        self.qlist = []\n",
    "\n",
    "    def __len__(self):\n",
    "        return len(self.qlist)\n",
    "\n",
    "    def isEmpty(self):\n",
    "        return len(self) == 0\n",
    "\n",
    "    def enqueue(self, data, priority):\n",
    "        entry = _PriorityQEntry(data, priority)  #\n",
    "        self.qlist.append(entry)\n",
    "\n",
    "    def dequeue(self):\n",
    "        assert not self.isEmpty(), \"Antrian sedang kosong.\"\n",
    "        idx_mostPriority = 0 # algoritma mencari nilai terkecil (prioritas)\n",
    "        for i in range(1, len(self.qlist)):\n",
    "            if self.qlist[i].priority < self.qlist[idx_mostPriority].priority:\n",
    "                idx_mostPriorityx = i\n",
    "        return self.qlist.pop(idx_mostPriority).item\n",
    "\n",
    "class _PriorityQEntry(object):\n",
    "    def __init__(self, data, priority):\n",
    "        self.item = data\n",
    "        self.priority = priority\n",
    "\n",
    "if __name__ == \"__main__\": \n",
    "    S = PriorityQueue()\n",
    "    S.enqueue(\"Jeruk\", 4)\n",
    "    S.enqueue(\"Tomat\", 2)\n",
    "    S.enqueue(\"Mangga\", 0)\n",
    "    S.enqueue(\"Duku\", 5)\n",
    "    S.enqueue(\"Pepaya\", 2)\n",
    "    print(S.dequeue())\n",
    "    print(S.dequeue())\n",
    "    print(S.dequeue())"
   ]
  },
  {
   "cell_type": "code",
   "execution_count": null,
   "id": "274f2286-90de-4fa4-ad58-d7296c6d33d2",
   "metadata": {},
   "outputs": [],
   "source": []
  }
 ],
 "metadata": {
  "kernelspec": {
   "display_name": "Python 3 (ipykernel)",
   "language": "python",
   "name": "python3"
  },
  "language_info": {
   "codemirror_mode": {
    "name": "ipython",
    "version": 3
   },
   "file_extension": ".py",
   "mimetype": "text/x-python",
   "name": "python",
   "nbconvert_exporter": "python",
   "pygments_lexer": "ipython3",
   "version": "3.11.8"
  },
  "widgets": {
   "application/vnd.jupyter.widget-state+json": {
    "state": {},
    "version_major": 2,
    "version_minor": 0
   }
  }
 },
 "nbformat": 4,
 "nbformat_minor": 5
}
