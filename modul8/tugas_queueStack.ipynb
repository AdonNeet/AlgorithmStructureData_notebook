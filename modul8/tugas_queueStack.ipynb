{
 "cells": [
  {
   "cell_type": "markdown",
   "id": "8c9acaa7-657a-474f-911c-904fd6dfc933",
   "metadata": {},
   "source": [
    "# No 1\n",
    "Buatlah program untuk mengubah representasi suatu bilangan dari basis sepuluh ke basis dua. Berikut ini contoh pemanggilannya."
   ]
  },
  {
   "cell_type": "code",
   "execution_count": 1,
   "id": "5f1a1cf1-8c5c-422a-bf2c-7eb0c7cfa03a",
   "metadata": {},
   "outputs": [
    {
     "name": "stdout",
     "output_type": "stream",
     "text": [
      "C\n",
      "1F\n",
      "E5\n",
      "FF\n",
      "7B1F\n"
     ]
    }
   ],
   "source": [
    "class StackArr(object):\n",
    "    def __init__(self): \n",
    "        self.items = []\n",
    "\n",
    "    def isEmpty(self): \n",
    "        return len(self) == 0\n",
    "\n",
    "    def __len__(self):  \n",
    "        return len(self.items)\n",
    "\n",
    "    def pop(self):  \n",
    "        if(self.isEmpty()): return 0  \n",
    "        return self.items.pop()\n",
    "\n",
    "    def push(self, data):  \n",
    "        self.items.append(data)\n",
    "\n",
    "def cetakHexa(n):\n",
    "    hexDict = \"0123456789ABCDEF\"\n",
    "    stackMap = StackArr()\n",
    "    result = \"\"\n",
    "    while n > 0:\n",
    "        remainder = n % 16\n",
    "        stackMap.push(hexDict[remainder])\n",
    "        n = n // 16\n",
    "    for i in range(len(stackMap)):\n",
    "        result += stackMap.pop()\n",
    "    print(result)\n",
    "\n",
    "if __name__ == '__main__': \n",
    "    cetakHexa(12)\n",
    "    cetakHexa(31)     \n",
    "    cetakHexa(229)  \n",
    "    cetakHexa(255) \n",
    "    cetakHexa(31519)\n"
   ]
  },
  {
   "cell_type": "markdown",
   "id": "a92a1f79-6b23-4393-8b2d-2f7f0542733f",
   "metadata": {},
   "source": [
    "# No 2 \n",
    "Eksekusi program berikut dengan pensil dan kertas, dan tunjukkan isi stack-nya pada setiap langkah."
   ]
  },
  {
   "cell_type": "code",
   "execution_count": 2,
   "id": "055b97b5-56fd-4ced-8665-fce6ff3fd90b",
   "metadata": {},
   "outputs": [],
   "source": [
    "class Stack(object):\n",
    "    def __init__(self):  # Membuat stack kosong.\n",
    "        self.items = []  # List untuk menyimpan stack.\n",
    "\n",
    "    def isEmpty(self):  # Mengembalikan True kalau kosong, selain itu False.\n",
    "        return len(self) == 0\n",
    "\n",
    "    def __len__(self):  # Mengembalikan banyaknya item di stack.\n",
    "        return len(self.items)\n",
    "\n",
    "    def peek(self):  # Mengembalikan nilai posisi atas tanpa menghapus.\n",
    "        assert not self.isEmpty(), \"Stack kosong. Tidak bisa diintip.\"\n",
    "        return self.items[-1]\n",
    "\n",
    "    def pop(self):  # Mengembalikan nilai posisi atas lalu menghapus.\n",
    "        assert not self.isEmpty(), \"Stack kosong. Tidak bisa di-pop.\"\n",
    "        temp = self.items.pop()\n",
    "        print(\"# Pop\", temp, \":\", self.items)\n",
    "        del temp\n",
    "            \n",
    "\n",
    "    def push(self, data):  # Mendorong item baru ke stack.\n",
    "        self.items.append(data)\n",
    "        print(\"# Push\", data, \":\", self.items)\n"
   ]
  },
  {
   "cell_type": "code",
   "execution_count": 3,
   "id": "fb2b44be-477f-4c39-ba9c-f761823b0755",
   "metadata": {},
   "outputs": [
    {
     "name": "stdout",
     "output_type": "stream",
     "text": [
      "# Push 0 : [0]\n",
      "# Push 3 : [0, 3]\n",
      "# Push 6 : [0, 3, 6]\n",
      "# Push 9 : [0, 3, 6, 9]\n",
      "# Push 12 : [0, 3, 6, 9, 12]\n",
      "# Push 15 : [0, 3, 6, 9, 12, 15]\n"
     ]
    }
   ],
   "source": [
    "nilai = Stack()\n",
    "for i in range(16):\n",
    "    if i % 3 == 0:\n",
    "        nilai.push(i)"
   ]
  },
  {
   "cell_type": "markdown",
   "id": "294033b8-e742-4635-8ba4-629a54cd7bdf",
   "metadata": {},
   "source": [
    "# No 3 \n",
    "Eksekusi program berikut dengan pensil dan kertas, dan tunjukkan isi stack-nya pada\n",
    "setiap langkah."
   ]
  },
  {
   "cell_type": "code",
   "execution_count": 4,
   "id": "5f10a0fa-83a8-4923-9b6b-ccf3c09d56f0",
   "metadata": {},
   "outputs": [
    {
     "name": "stdout",
     "output_type": "stream",
     "text": [
      "# Push 0 : [0]\n",
      "# Push 3 : [0, 3]\n",
      "# Pop 3 : [0]\n",
      "# Push 6 : [0, 6]\n",
      "# Pop 6 : [0]\n",
      "# Push 9 : [0, 9]\n",
      "# Push 12 : [0, 9, 12]\n",
      "# Push 15 : [0, 9, 12, 15]\n"
     ]
    }
   ],
   "source": [
    "nilai = Stack()\n",
    "for i in range(16) :\n",
    "    if i % 3 == 0 :\n",
    "        nilai.push(i)\n",
    "    elif i % 4 == 0 :\n",
    "        nilai.pop()"
   ]
  },
  {
   "cell_type": "markdown",
   "id": "401e3a0d-87e2-4d6f-a397-825ce5594d7a",
   "metadata": {},
   "source": [
    "# No 4 \n",
    "Tulis dua metode berikut ke class Queue dan class PriorityQueue di atas\n",
    "\n",
    "\n",
    "• Metode untuk mengetahui item yang paling depan tanpa menghapusnya\n",
    "\n",
    "\n",
    "def getFrontMost(self):\n",
    "\n",
    "• Metode untuk mengetahui item yang paling belakang tanpa menghapusnya\n",
    "\n",
    "\n",
    "def getRearMost(self):"
   ]
  },
  {
   "cell_type": "code",
   "execution_count": 5,
   "id": "747a81e1-ec9b-4e8a-be23-2b235073f0d0",
   "metadata": {},
   "outputs": [
    {
     "name": "stdout",
     "output_type": "stream",
     "text": [
      "28\n",
      "7\n"
     ]
    }
   ],
   "source": [
    "class Queue(object):\n",
    "    def __init__(self):\n",
    "        self.qlist = []\n",
    "\n",
    "    def isEmpty(self):\n",
    "        return len(self) == 0\n",
    "\n",
    "    def __len__(self):\n",
    "        return len(self.qlist)\n",
    "\n",
    "    def enqueue(self, data):\n",
    "        self.qlist.append(data)\n",
    "\n",
    "    def dequeue(self):\n",
    "        assert not self.isEmpty(), \"Antrian sedang kosong.\"\n",
    "        return self.qlist.pop(0)\n",
    "\n",
    "    def getFrontMost(self): \n",
    "        assert not self.isEmpty(), \"Antrian sedang kosong.\"\n",
    "        return self.qlist[0]\n",
    "\n",
    "    def getRearMost(self): \n",
    "        assert not self.isEmpty(), \"Antrian sedang kosong.\"\n",
    "        return self.qlist[-1]\n",
    "\n",
    "if __name__ == \"__main__\": \n",
    "    Q = Queue()\n",
    "    Q.enqueue(28)\n",
    "    Q.enqueue(19)\n",
    "    Q.enqueue(45)\n",
    "    Q.enqueue(13)\n",
    "    Q.enqueue(7)\n",
    "    print(Q.getFrontMost())\n",
    "    print(Q.getRearMost())"
   ]
  },
  {
   "cell_type": "code",
   "execution_count": 6,
   "id": "7a5c59fd-f418-4715-a2ee-73c4846fdfde",
   "metadata": {},
   "outputs": [
    {
     "name": "stdout",
     "output_type": "stream",
     "text": [
      "Jeruk\n",
      "Pepaya\n"
     ]
    }
   ],
   "source": [
    "class PriorityQueue(object):\n",
    "    def __init__(self):\n",
    "        self.qlist = []\n",
    "\n",
    "    def __len__(self):\n",
    "        return len(self.qlist)\n",
    "\n",
    "    def isEmpty(self):\n",
    "        return len(self) == 0\n",
    "\n",
    "    def enqueue(self, data, priority):\n",
    "        entry = _PriorityQEntry(data, priority)  #\n",
    "        self.qlist.append(entry)\n",
    "\n",
    "    def dequeue(self):\n",
    "        pass\n",
    "        # soal no 5\n",
    "\n",
    "    def getFrontMost(self): \n",
    "        assert not self.isEmpty(), \"Antrian sedang kosong.\"\n",
    "        return self.qlist[0].item\n",
    "\n",
    "    def getRearMost(self): \n",
    "        assert not self.isEmpty(), \"Antrian sedang kosong.\"\n",
    "        return self.qlist[-1].item\n",
    "\n",
    "class _PriorityQEntry(object):\n",
    "    def __init__(self, data, priority):\n",
    "        self.item = data\n",
    "        self.priority = priority\n",
    "\n",
    "if __name__ == \"__main__\": \n",
    "    S = PriorityQueue()\n",
    "    S.enqueue(\"Jeruk\", 4)\n",
    "    S.enqueue(\"Tomat\", 2)\n",
    "    S.enqueue(\"Mangga\", 0)\n",
    "    S.enqueue(\"Duku\", 5)\n",
    "    S.enqueue(\"Pepaya\", 2)\n",
    "    print(S.getFrontMost())\n",
    "    print(S.getRearMost())"
   ]
  },
  {
   "cell_type": "markdown",
   "id": "8ebcef27-94ce-45b7-8217-0c27da7a91dc",
   "metadata": {},
   "source": [
    "# No 5 \n",
    "Pada class PriorityQueue di atas, metode dequeue() belum diimplementasikan. Tulislah metode dequeue()"
   ]
  },
  {
   "cell_type": "code",
   "execution_count": 7,
   "id": "0139bee2-acc8-4876-8c0d-4c7310cbf5cb",
   "metadata": {},
   "outputs": [
    {
     "name": "stdout",
     "output_type": "stream",
     "text": [
      "Jeruk\n",
      "Tomat\n",
      "Mangga\n"
     ]
    }
   ],
   "source": [
    "class PriorityQueue(object):\n",
    "    def __init__(self):\n",
    "        self.qlist = []\n",
    "\n",
    "    def __len__(self):\n",
    "        return len(self.qlist)\n",
    "\n",
    "    def isEmpty(self):\n",
    "        return len(self) == 0\n",
    "\n",
    "    def enqueue(self, data, priority):\n",
    "        entry = _PriorityQEntry(data, priority)  #\n",
    "        self.qlist.append(entry)\n",
    "\n",
    "    def dequeue(self):\n",
    "        assert not self.isEmpty(), \"Antrian sedang kosong.\"\n",
    "        idx_mostPriority = 0\n",
    "        for i in range(1, len(self.qlist)):\n",
    "            if self.qlist[i].priority < self.qlist[idx_mostPriority].priority:\n",
    "                idx_mostPriorityx = i\n",
    "        return self.qlist.pop(idx_mostPriority).item\n",
    "\n",
    "    def getFrontMost(self): \n",
    "        assert not self.isEmpty(), \"Antrian sedang kosong.\"\n",
    "        return self.qlist[0].item\n",
    "\n",
    "    def getRearMost(self): \n",
    "        assert not self.isEmpty(), \"Antrian sedang kosong.\"\n",
    "        return self.qlist[-1].item\n",
    "\n",
    "class _PriorityQEntry(object):\n",
    "    def __init__(self, data, priority):\n",
    "        self.item = data\n",
    "        self.priority = priority\n",
    "\n",
    "if __name__ == \"__main__\": \n",
    "    S = PriorityQueue()\n",
    "    S.enqueue(\"Jeruk\", 4)\n",
    "    S.enqueue(\"Tomat\", 2)\n",
    "    S.enqueue(\"Mangga\", 0)\n",
    "    S.enqueue(\"Duku\", 5)\n",
    "    S.enqueue(\"Pepaya\", 2)\n",
    "    print(S.dequeue())\n",
    "    print(S.dequeue())\n",
    "    print(S.dequeue())"
   ]
  },
  {
   "cell_type": "code",
   "execution_count": null,
   "id": "77b36acd-3c54-4f5c-a10c-4514eadef334",
   "metadata": {},
   "outputs": [],
   "source": []
  }
 ],
 "metadata": {
  "kernelspec": {
   "display_name": "Python 3 (ipykernel)",
   "language": "python",
   "name": "python3"
  },
  "language_info": {
   "codemirror_mode": {
    "name": "ipython",
    "version": 3
   },
   "file_extension": ".py",
   "mimetype": "text/x-python",
   "name": "python",
   "nbconvert_exporter": "python",
   "pygments_lexer": "ipython3",
   "version": "3.11.8"
  },
  "widgets": {
   "application/vnd.jupyter.widget-state+json": {
    "state": {},
    "version_major": 2,
    "version_minor": 0
   }
  }
 },
 "nbformat": 4,
 "nbformat_minor": 5
}
