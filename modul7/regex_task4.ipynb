{
 "cells": [
  {
   "cell_type": "markdown",
   "id": "45ce7ecf-879f-4b79-b126-eecff67ceb31",
   "metadata": {},
   "source": [
    "# Meng-ekstrak data dari berkas .html \n",
    "Tugasmu di sini adalah membuat sebuah list\n",
    "of tuples yang memuat nama-nama negara beserta Innovation index -nya. Kunjungilah halaman en.wikipedia.org/wiki/Knowledge_Economic_Index. Pastikan halaman itu\n",
    "memuat sebuah tabel besar hasil penelitian. Kerjakan langkah-langkah berikut.\n",
    "- Simpanlah halaman itu sebagai berkas html murni, dengan nama KEI.html5.\n",
    "- Bukalah berkas KEI.html itu dengan Notepad++ atau Notepad. Perhatikan segmen segmen di file itu yang mempunyai isi seperti di bawah\n",
    "  \n",
    "> ```html\n",
    "> &#160;</span><a href=\"/wiki/Belgium\" title=\"Belgium\">Belgium</a></td>\n",
    "> <td>8.73</td>\n",
    "> <td>8.70</td>\n",
    "> <td>8.82</td>\n",
    "> <td>8.96</td>\n",
    "> <td>9.14</td>\n",
    "> <td>8.02</td>\n",
    "> <td>16</td>\n",
    "> </tr>\n",
    "> <tr>\n",
    "> ```\n",
    "\n",
    "- Akses file itu menggunakan f=open(’KEI.html’, ’r’, encoding=’latin1’) dan baca file menggunakan teks = f.read(). Lalu tutup aksesnya menggunakan f.close().\n",
    "- Sebagai awalan, ekstraklah semua nama-nama negara yang ada di berkas itu memakai regex, dengan memperhatikan pola di sekitaran nama-nama negara6.\n",
    "- Sekarang ekstraklah kolom “Innovation” untuk semua negara di tabel itu (untuk\n",
    "contoh Belgium di atas, kolom ini adalah kolom yang angkanya 8.96 ) memakai\n",
    "regex7. Sebagai tambahan, ubahlah string ’8.96’ menjadi float.\n",
    "- Dengan konsep group (memakai tanda kurung (...) di tempat yang tepat, lihat\n",
    "Section 7.4 di halaman 70), ekstraklah nama negara beserta Innovation Index -nya,\n",
    "lalu buatlah kode seperlunya untuk memodifikasinya, sehingga akhirnya kamu mempunyai list of tuples seperti berikut\n",
    "[(’Belgium’, 8.96), (’Malaysia’, 6.83), (’Indonesia’, 3.32), ... ]"
   ]
  },
  {
   "cell_type": "markdown",
   "id": "2d0bfd83-81bd-4d00-b9c4-b738ec25298b",
   "metadata": {},
   "source": [
    "## Ekstrak nama-nama negara"
   ]
  },
  {
   "cell_type": "code",
   "execution_count": 12,
   "id": "79a74aef-8dd1-455c-bccc-92ad76e33589",
   "metadata": {},
   "outputs": [
    {
     "name": "stdout",
     "output_type": "stream",
     "text": [
      "[('Denmark', '9.58'), ('Sweden', '9.52'), ('Finland', '9.37'), ('Netherlands', '9.32'), ('Norway', '9.27'), ('Canada', '9.21'), ('Switzerland', '9.15'), ('United Kingdom', '9.09'), ('United States', '9.08'), ('Australia', '9.05'), ('Ireland', '8.92'), ('Austria', '8.89'), ('Iceland', '8.88'), ('Germany', '8.87'), ('New Zealand', '8.87'), ('Belgium', '8.73'), ('Taiwan', '8.69'), ('Luxembourg', '8.65'), ('Japan', '8.56'), ('France', '8.47'), ('Estonia', '8.34'), ('Slovenia', '8.25'), ('Spain', '8.24'), ('Singapore', '8.24'), ('Israel', '8.22'), (' China', '8.20'), ('Italy', '7.86'), ('Hungary', '7.85'), ('Czech Republic', '7.83'), ('Lithuania', '7.68'), ('South Korea', '7.68'), ('Latvia', '7.64'), ('Cyprus', '7.55'), ('Portugal', '7.52'), ('Greece', '7.38'), ('Poland', '7.38'), ('Slovakia', '7.33'), ('Barbados', '7.25'), ('Croatia', '7.19'), ('Chile', '6.92'), ('Bulgaria', '6.80'), ('United Arab Emirates', '6.66'), ('Romania', '6.37'), ('Uruguay', '6.35'), ('Qatar', '6.15'), ('Dominica', '6.07'), ('Costa Rica', '6.06'), ('Malaysia', '6.06'), ('Russian Federation', '5.40'), ('Bahrain', '6.02'), ('Kuwait', '6.01'), ('Ukraine', '5.80'), ('Argentina', '5.49'), ('Trinidad and Tobago', '5.64'), ('Brazil', '5.57'), ('Turkey', '5.61'), ('South Africa', '5.55'), ('Jordan', '5.53'), ('Armenia', '5.51'), ('Mexico', '5.45'), ('Thailand', '5.44'), ('Oman', '5.37'), ('Macedonia', '5.33'), ('Mauritius', '5.18'), ('Saudi Arabia', '5.15'), ('Jamaica', '5.04'), ('Moldova', '5.04'), ('Kazakhstan', '5.01'), ('Belarus', '4.93'), ('Lebanon', '4.86'), ('Tunisia', '4.73'), ('Panama', '4.69'), ('Georgia', '4.69'), ('Peru', '4.64'), ('Mongolia', '4.50'), ('Colombia', '4.42'), ('China', '4.35'), ('Guyana', '4.31'), ('Philippines', '4.25'), ('Venezuela', '4.23'), ('Namibia', '4.19'), ('Sri Lanka', '4.16'), ('Albania', '4.04'), ('Egypt', '4.03'), ('Botswana', '3.96'), ('Dominican Republic', '3.92'), ('El Salvador', '3.91'), ('Azerbaijan', '3.81'), ('Kyrgyzstan', '3.74'), ('Paraguay', '3.62'), ('Ecuador', '3.46'), ('Morocco', '3.45'), ('Bolivia', '3.42'), ('Iran', '3.39'), ('Uzbekistan', '3.28'), ('Algeria', '3.25'), ('Cape Verde', '3.24'), ('Indonesia', '3.23'), ('Honduras', '3.21'), ('India', '3.12'), ('Guatemala', '3.11'), ('Vietnam', '3.02'), ('Swaziland', '2.93'), ('Syrian Arab Republic', '2.90'), ('Nicaragua', '2.87'), ('Kenya', '2.82'), ('Tajikistan', '2.79'), ('Senegal', '2.63'), ('Zimbabwe', '2.51'), ('Ghana', '2.50'), ('Uganda', '2.46'), ('Madagascar', '2.37'), ('Mauritania', '2.35'), ('Tanzania', '2.28'), ('Pakistan', '2.24'), ('Lesotho', '2.15'), ('Benin', '2.10'), ('Nigeria', '2.04'), ('Yemen', '1.80'), ('Mali', '1.78'), ('Mozambique', '1.71'), ('Angola', '1.70'), ('Cameroon', '1.69'), ('Burkina Faso', '1.64'), ('Nepal', '1.61'), ('Malawi', '1.55'), ('Laos', '1.53'), ('Bangladesh', '1.49'), ('Myanmar', '1.48'), ('Rwanda', '1.34'), ('Ethiopia', '1.18'), ('Djibouti', '1.15'), ('Eritrea', '1.07'), ('Sierra Leone', '0.91'), ('Bosnia and Herzegovina', 'n/a'), ('Serbia and Montenegro', 'n/a'), ('Haiti', 'n/a'), ('Ivoire', 'n/a'), ('Sudan', 'n/a'), ('Zambia', 'n/a')]\n",
      " \n",
      "Jumlah Negara: 140\n"
     ]
    }
   ],
   "source": [
    "import re\n",
    "\n",
    "# Baca berkas HTML\n",
    "with open('KEI.html', 'r', encoding='utf-8') as f:\n",
    "    html_content = f.read()\n",
    "\n",
    "# Buat regex dengan negative lookahead untuk menghindari frasa yang dikecualikan\n",
    "# country_pattern = re.compile(r'<a href=\"[^\"]*\" title=\"([^\"]*)\">.*?</td>\\s*<td>(\\d+\\.\\d+)</td>')\n",
    "country_pattern = re.compile(r'([A-Za-z\\s]*?)</a></td>\\s*<td>(n/a|\\d+\\.\\d+)</td>')\n",
    "\n",
    "# Ekstrak nama-nama negara\n",
    "countries = country_pattern.findall(html_content)\n",
    "print(countries)\n",
    "print(\" \")\n",
    "print(\"Jumlah Negara:\", len(countries))\n"
   ]
  },
  {
   "cell_type": "code",
   "execution_count": null,
   "id": "0285466f-7c6b-4a4a-96ec-965d06d12336",
   "metadata": {},
   "outputs": [],
   "source": []
  },
  {
   "cell_type": "code",
   "execution_count": null,
   "id": "ece18494-e892-4d4d-8cc6-b7d8d2c38ce6",
   "metadata": {},
   "outputs": [],
   "source": []
  }
 ],
 "metadata": {
  "kernelspec": {
   "display_name": "Python 3 (ipykernel)",
   "language": "python",
   "name": "python3"
  },
  "language_info": {
   "codemirror_mode": {
    "name": "ipython",
    "version": 3
   },
   "file_extension": ".py",
   "mimetype": "text/x-python",
   "name": "python",
   "nbconvert_exporter": "python",
   "pygments_lexer": "ipython3",
   "version": "3.11.8"
  },
  "widgets": {
   "application/vnd.jupyter.widget-state+json": {
    "state": {},
    "version_major": 2,
    "version_minor": 0
   }
  }
 },
 "nbformat": 4,
 "nbformat_minor": 5
}
