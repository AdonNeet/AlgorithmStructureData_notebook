{
 "cells": [
  {
   "cell_type": "markdown",
   "id": "4261d26b-7e29-494b-bd7a-04578616890c",
   "metadata": {},
   "source": [
    "# Meng-ekstrak kata depan ‘di’ dan tempat yang ditunjuknya.\n",
    "Di sini tugasmu adalah mengekstrak – masih dari berkas Indonesia.txt – kata depan ‘di’ beserta satu kata yang mengikutinya. Misal, dari string \n",
    "\n",
    "> Saya dilahirkan dan dibesarkan di sini, di Indonesia, sebuah negeri indah\n",
    "permai di mana para saudagar di masa lampau berdatangan.\n",
    "\n",
    "akan ter-ekstrak (’di sini’, ’di Indonesia’, ’di mana’, ’di masa’)"
   ]
  },
  {
   "cell_type": "code",
   "execution_count": 1,
   "id": "5902548d-0a17-4ab3-afac-f8d371274c22",
   "metadata": {},
   "outputs": [
    {
     "name": "stdout",
     "output_type": "stream",
     "text": [
      "['di halaman', 'di ASEAN', 'di Asia', 'di antara', 'di dunia', 'di dunia', 'di dunia', 'di dunia', 'di dunia', 'di Asia', 'di wilayah', 'di Pulau', 'di Pulau', 'di Pulau', 'di Pulau', 'di Palembang', 'di kepulauan', 'di Maluku', 'di bawah', 'di akhir', 'di mana', 'di dunia', 'di India', 'di wilayah', 'di media', 'di luar', 'di Belanda', 'di dataran', 'di Nusantara', 'di sana', 'di timur', 'di daerah', 'di Nusantara', 'di daerah', 'di Kabupaten', 'di dalamnya', 'di Pulau', 'di daerah', 'di kalangan', 'di wilayah', 'di wilayah', 'di wilayah', 'di Jawa', 'di Nusantara', 'di Nusantara', 'di Asia', 'di Selat', 'di dunia', 'di daerah', 'di Jawa', 'di Nusantara', 'di Nusantara', 'di Nusantara', 'di Pulau', 'di bawah', 'di Nusantara', 'di Nusantara', 'di Nusantara', 'di Aceh', 'di wilayah', 'di Nusantara', 'di antaranya', 'di Pulau', 'di Sumatra', 'di wilayah', 'di wilayah', 'di Nusantara', 'di Jawa', 'di Pulau', 'di Jawa', 'di Pulau', 'di Pulau', 'di Pulau', 'di Sulawesi', 'di saat', 'di Sulawesi', 'di wilayah', 'di Kepulauan', 'di Kepulauan', 'di Papua', 'di wilayah', 'di Kabupaten', 'di Kabupaten', 'di Kepulauan', 'di Nusantara', 'di antaranya', 'di bawah', 'di kerajaan', 'di Sulawesi', 'di Pulau', 'di wilayah', 'di negara', 'di wilayah', 'di Nusantara', 'di Nusantara', 'di Dunia', 'di bawah', 'di Kepulauan', 'di Melaka', 'di Nusantara', 'di Ternate', 'di Kepulauan', 'di bawah', 'di Kepulauan', 'di Maluku', 'di Maluku', 'di Maluku', 'di Nusantara', 'di Banten', 'di Teluk', 'di Sunda', 'di Kepulauan', 'di antara', 'di tangan', 'di saat', 'di Kepulauan', 'di Nusantara', 'di Benua', 'di bawah', 'di perairan', 'di sepanjang', 'di antaranya', 'di Nusantara', 'di antara', 'di seluruh', 'di luar', 'di kawasan', 'di Banten', 'di Maluku', 'di Nusantara', 'di Nusantara', 'di antaranya', 'di Sukadana', 'di dalam', 'di Sumatra', 'di beberapa', 'di Nusantara', 'di antaranya', 'di dunia', 'di Pulau', 'di Mataram', 'di Batavia', 'di kalangan', 'di bawah', 'di Hindia', 'di bawah', 'di bawah', 'di Batavia', 'di Jawa', 'di Jawa', 'di Surabaya', 'di Batavia', 'di Pulau', 'di Jawa', 'di Hindia', 'di seluruh', 'di anak', 'di Jawa', 'di Salatiga', 'di Tuntang', 'di Nusantara', 'di Buitenzorg', 'di tubuh', 'di bidang', 'di Keraton', 'di Sleman', 'di Magelang', 'di Trowulan', 'di Pulau', 'di Hindia', 'di Nusantara', 'di Pulau', 'di Nusantara', 'di Nusantara', 'di London', 'di Hindia', 'di Nusantara', 'di bawah', 'di depan', 'di Ambon', 'di negeri', 'di negara', 'di Hindia', 'di Nusantara', 'di Timur', 'di London', 'di Semenanjung', 'di Pulau', 'di Nusantara', 'di London', 'di Nusantara', 'di Pulau', 'di Jawa', 'di sekitar', 'di setiap', 'di Tegalrejo', 'di bawah', 'di Jawa', 'di Jawa', 'di tanah', 'di ambang', 'di tanah', 'di Hindia', 'di Sumatra', 'di wilayah', 'di seputar', 'di Bukittinggi', 'di Batusangkar', 'di Kusamba', 'di Bali', 'di wilayah', 'di Buleleng', 'di bawah', 'di Bali', 'di bawah', 'di Kusamba', 'di kerajaan', 'di Bone', 'di beberapa', 'di Pulau', 'di Bali', 'di Museum', 'di antara', 'di antara', 'di pihak', 'di Benua', 'di dekat', 'di Aceh', 'di pedalaman', 'di Tiro', 'di tanah', 'di bawah', 'di pos', 'di suatu', 'di antara', 'di sekitanya', 'di sekitar', 'di antara', 'di perairan', 'di Australia', 'di sekitar', 'di sekitar', 'di wilayah', 'di antaranya', 'di Meulaboh', 'di pesisir', 'di kediaman', 'di Bali', 'di Bali', 'di Bali', 'di tanah', 'di tanah', 'di Aceh', 'di tanah', 'di negeri', 'di Nusantara', 'di daerah', 'di Keresidenan', 'di Pantai', 'di perairan', 'di negara', 'di dalam', 'di tanah', 'di Nusantara', 'di negara', 'di Maluku', 'di Kalimantan', 'di Sumatra', 'di bawah', 'di tanah', 'di Hindia', 'di tanah', 'di Batavia', 'di sana', 'di sana', 'di ranah', 'di ranah', 'di pengasingan', 'di Hindia', 'di perantauan', 'di Hindia', 'di antara', 'di Vrijmetselaarsloge', 'di Batavia', 'di Labuan', 'di kediaman', 'di Jawa', 'di daerah', 'di Pulau', 'di Silungkang', 'di Keresidenan', 'di Minangkabau', 'di Jawa', 'di Hindia', 'di Hindia', 'di Jawa', 'di dalam', 'di depan', 'di dapat', 'di bawah', 'di Nederlandsch', 'di Surabaya', 'di Technische', 'di Bandung', 'di Landraad', 'di hadapan', 'di tiga', 'di Batavia', 'di Gedung', 'di Oost', 'di Indonesische', 'di hadapan', 'di depan', 'di Hindia', 'di Ende', 'di masa', 'di Belanda', 'di Pulau', 'di koran', 'di koran', 'di Yogyakarta', 'di Belanda', 'di Eropa', 'di Belanda', 'di Semarang', 'di Bandung', 'di Pendopo', 'di Yogyakarta', 'di bawah', 'di belakang', 'di bawah', 'di luar', 'di dunia', 'di dalam', 'di bawah', 'di Yogyakarta', 'di Sidoarjo', 'di Indonesia', 'di Taman', 'di dunia', 'di Asia', 'di antara', 'di antara', 'di sekitar', 'di Indonesia', 'di Indonesia', 'di Provinsi', 'di Sumatera', 'di Indonesia', 'di dunia', 'di Indonesia', 'di Kalimantan', 'di Indonesia', 'di wilayah', 'di darat', 'di wilayah', 'di wilayah', 'di wilayah', 'di Indonesia', 'di Indonesia', 'di antaranya', 'di daerah', 'di Indonesia', 'di Indonesia', 'di antara', 'di antara', 'di Maluku', 'di antaranya', 'di Indonesia', 'di Indonesia', 'di antara', 'di Bumi', 'di antaranya', 'di Indonesia', 'di Bumi', 'di langit', 'di antaranya', 'di beberapa', 'di bawah', 'di Indonesia', 'di dunia', 'di Indonesia', 'di Istana', 'di luar', 'di dunia', 'di Asia', 'di awal', 'di Kuta', 'di atas', 'di sebagian', 'di Indonesia', 'di Indonesia', 'di Indonesia', 'di antaranya', 'di dalam', 'di bawah', 'di antaranya', 'di Indonesia', 'di IndonesiaJakartaJakartaYogyakartaYogyakartaBukittinggiBukittinggiNusantaraNusantara', 'di Daerah', 'di Jakarta', 'di Yogyakarta', 'di Jakarta', 'di Jakarta', 'di Indonesia', 'di Titik', 'di bawah', 'di Indonesia', 'di luar', 'di dunia', 'di tahun', 'di dunia', 'di Pulau', 'di dunia', 'di Papua', 'di kawasan', 'di luar', 'di Malaysia', 'di suatu', 'di Indonesia', 'di Indonesia', 'di Indonesia', 'di Indonesia', 'di hampir', 'di Indonesia', 'di Pulau', 'di beberapa', 'di Indonesia', 'di Kota', 'di Little', 'di Indonesia', 'di Indonesia', 'di samping', 'di Indonesia', 'di bawah', 'di sejumlah', 'di Indonesia', 'di madrasah', 'di Indonesia', 'di Indonesia', 'di Jakarta', 'di Indonesia', 'di dunia', 'di mana', 'di Indonesia', 'di Karangasem', 'di Indonesia', 'di antaranya', 'di Jawa', 'di Indonesia', 'di Indonesia', 'di negara', 'di Nusantara', 'di antara', 'di Indonesia', 'di Jakarta', 'di Indonesia', 'di Indonesia', 'di Indonesia', 'di Yogyakarta', 'di luar', 'di sekolah', 'di sekolah', 'di Indonesia', 'di Pulau', 'di tingkat', 'di tingkat', 'di bawah', 'di tingkat', 'di antaranya', 'di daerah', 'di seluruh', 'di setiap', 'di Kalimantan', 'di Jakarta', 'di Institut', 'di Indonesia', 'di Indonesia', 'di Indonesia', 'di Indonesia', 'di Indonesia', 'di Flores', 'di Sumba', 'di Indonesia', 'di Indonesia', 'di mana', 'di Piala', 'di Prancis', 'di Indonesia', 'di Indonesia', 'di daerah', 'di Indonesia', 'di Indonesia', 'di daerah', 'di warung', 'di berbagai', 'di Indonesia', 'di warung', 'di tempat', 'di atas', 'di pasar', 'di nusantara', 'di Bandung', 'di teater', 'di Indonesia', 'di Indonesia', 'di Indonesia', 'di Indonesia', 'di Indonesia', 'di dunia', 'di Indonesia', 'di Indonesia', 'di Indonesia', 'di Indonesia', 'di Indonesia', 'di Nusantara', 'di Bali', 'di Indonesia', 'di Nusantara', 'di Indonesia', 'di Aceh', 'di Pulau', 'di Pulau', 'di Tanah', 'di Indonesia', 'di Sulawesi', 'di Sulawesi', 'di Tobelo', 'di Indonesia', 'di Indonesia', 'di Indonesia', 'di Tanah', 'di Sumatera', 'di Kabupaten', 'di Sumatera', 'di Belanda', 'di Indonesia', 'di Gereja', 'di Ende', 'di Bengkulu', 'di Banda', 'di Sukabumi', 'di Wilayah', 'di Indonesia', 'di Indonesia', 'di Sebagian', 'di Titik', 'di Indonesia', 'di Indonesia', 'di berbagai', 'di Indonesia', 'di Indonesia', 'di Wayback', 'di Piala', 'di Wayback', 'di dekat', 'di sekitar', 'di Wikimedia', 'di OpenStreetMap', 'di Wayback', 'di Wayback', 'di Encyclopædia', 'di Wayback', 'di Wikidata', 'di AsiaNegara', 'di Asia', 'di mana', 'di AsiaPendirian', 'di Asia', 'di bawah']\n"
     ]
    }
   ],
   "source": [
    "import re\n",
    "\n",
    "with open('Indonesia.txt', 'r', encoding='utf-8') as f:\n",
    "    teks = f.read()\n",
    "p = r'\\bdi\\s\\w+'\n",
    "ans = re.findall(p, teks)\n",
    "\n",
    "print(ans)"
   ]
  }
 ],
 "metadata": {
  "kernelspec": {
   "display_name": "Python 3 (ipykernel)",
   "language": "python",
   "name": "python3"
  },
  "language_info": {
   "codemirror_mode": {
    "name": "ipython",
    "version": 3
   },
   "file_extension": ".py",
   "mimetype": "text/x-python",
   "name": "python",
   "nbconvert_exporter": "python",
   "pygments_lexer": "ipython3",
   "version": "3.11.8"
  },
  "widgets": {
   "application/vnd.jupyter.widget-state+json": {
    "state": {},
    "version_major": 2,
    "version_minor": 0
   }
  }
 },
 "nbformat": 4,
 "nbformat_minor": 5
}
