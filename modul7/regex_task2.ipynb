{
 "cells": [
  {
   "cell_type": "markdown",
   "id": "604933ab-4f4f-4e60-8f74-56729684d287",
   "metadata": {},
   "source": [
    "# Meng-ekstrak kata-kata dengan awalan ‘di’\n",
    "Sama seperti di atas, tapi yang kamu ekstrak adalah kata-kata dengan awalan ‘di’. Perhatikan, yang dimaksud di sini adalah awalan ‘di’ (menunjukkan kata kerja pasif), bukan kata depan ‘di’ (menunjukkan keterangan tempat), yang kita bahas di nomer di bawah."
   ]
  },
  {
   "cell_type": "code",
   "execution_count": 1,
   "id": "3fb0381d-d8a2-44e6-abb8-0aac3c38766c",
   "metadata": {},
   "outputs": [
    {
     "name": "stdout",
     "output_type": "stream",
     "text": [
      "['dilindungi', 'dilindungi', 'diizinkan', 'diskusikan', 'dilakukan', 'dilintasi', 'dikenal', 'dipakai', 'disebut', 'dicalonkan', 'dipilih', 'dipengaruhi', 'diperkenalkan', 'ditulis', 'die', 'dijuluki', 'diperdebatkan', 'disebut', 'dikatakan', 'diaspora', 'ditambah', 'dimiliki', 'diduga', 'dikonfirmasi', 'diperdebatkan', 'diduga', 'dipegang', 'diperkirakan', 'diakui', 'dipastikan', 'diperkirakan', 'digantikan', 'dipimpin', 'dinasti', 'ditaklukkan', 'dipimpin', 'ditumpas', 'ditaklukkan', 'dibawa', 'diketahui', 'didirikan', 'diperkenalkan', 'diakui', 'diperkirakan', 'dihapuskan', 'diperkirakan', 'dibubarkan', 'dibawa', 'dibawa', 'dibawa', 'diawali', 'digantikan', 'dibawa', 'diusir', 'dibawa', 'dikuasai', 'dibutuhkan', 'dimulainya', 'dipimpin', 'disambut', 'dilakukan', 'ditentang', 'dipasangkan', 'dilaksanakan', 'dipimpin', 'ditunjuk', 'diserang', 'dipimpin', 'dikirim', 'ditambah', 'diperdagangkan', 'dianggap', 'dimiliki', 'dipimpin', 'dilakukan', 'dibentuk', 'diberi', 'diharapkan', 'diberikan', 'disebut', 'dipersiapkan', 'ditunjuk', 'diplomatik', 'diplomatik', 'digunakan', 'dividen', 'diplomatik', 'dipaksa', 'diangkatnya', 'diminta', 'diintervensi', 'diserahkan', 'diredam', 'dibuat', 'diakibatkan', 'ditambah', 'diambil', 'diselamatkan', 'dinasionalisasi', 'diduduki', 'dibuat', 'dikenal', 'dimaksudkan', 'dipimpin', 'diredam', 'ditunjuk', 'dikuasai', 'diri', 'dipandang', 'dikenal', 'ditemukan', 'digali', 'dilupakan', 'diterbitkan', 'diperkirakan', 'dikeluarkan', 'diperkirakan', 'diperkirakan', 'dikembalikan', 'diklaim', 'dikirim', 'disebut', 'dilakukan', 'diserang', 'dilancarkan', 'ditangkapnya', 'dihukum', 'disebut', 'dikalahkan', 'dipimpin', 'dilumpuhkan', 'ditangkap', 'diasingkan', 'dihapuskan', 'direbut', 'dilakukan', 'diawali', 'ditentang', 'didesak', 'ditunda', 'dilanjutkan', 'ditandatangani', 'diteruskan', 'diteruskan', 'diratifikasi', 'diredam', 'dipimpin', 'direbut', 'ditarik', 'dikerahkan', 'dibangun', 'ditambah', 'ditangkap', 'diasingkan', 'dipindahkan', 'disadari', 'diserap', 'dilakukan', 'disebut', 'ditanami', 'dibandingkan', 'diberlakukan', 'dirugikan', 'dihasut', 'dimulai', 'diredam', 'dihukum', 'dianggap', 'dikerahkan', 'dikuasai', 'diri', 'dikenal', 'diri', 'dikuasai', 'diri', 'dihadang', 'diperparah', 'dikuasai', 'diambil', 'dikepalai', 'ditangkap', 'diasingkan', 'dikerahkan', 'ditarik', 'dikerahkan', 'ditundukkan', 'direbut', 'disimpan', 'ditunjuk', 'diangkat', 'diri', 'diasingkan', 'diangkat', 'dipimpin', 'disepakati', 'ditandatangani', 'dihalangi', 'dikuasai', 'disepakati', 'diri', 'diri', 'diangkat', 'dipandang', 'dipandang', 'dinyatakan', 'diperkirakan', 'dingin', 'diakibatkan', 'dipercaya', 'diri', 'dipercayakan', 'dirinya', 'dinas', 'diam', 'diam', 'diterimanya', 'diri', 'dinas', 'dilengkapi', 'didapat', 'diredam', 'diredam', 'diredam', 'diri', 'diri', 'direbut', 'diajak', 'ditundukkan', 'diri', 'dianggap', 'diangkat', 'ditangkap', 'dilakukan', 'disebut', 'dijarah', 'dikenal', 'ditundukkan', 'dilakukan', 'dikenal', 'dimenangkan', 'dianeksasi', 'dimasukkan', 'dilakukan', 'dikemukakan', 'dirayakan', 'dinilai', 'diikuti', 'diketahui', 'didirikan', 'ditunjuk', 'dimulai', 'didirikan', 'dikenal', 'ditolak', 'ditolak', 'dinilai', 'diterbitkan', 'diterbitkan', 'ditangkap', 'diterbitkan', 'ditangkap', 'diasingkan', 'didukung', 'diri', 'didominasi', 'didominasi', 'dikeluarkan', 'diubah', 'diubah', 'dibentuk', 'digunakan', 'disebut', 'dipimpin', 'diadakan', 'diri', 'dikritik', 'disebut', 'diperkenalkan', 'dilakukan', 'dimulai', 'diturunkan', 'dilakukan', 'dikerahkan', 'dipadamkan', 'ditetapkan', 'dilakukan', 'diangkat', 'ditangkap', 'diadili', 'diduga', 'diri', 'diberi', 'ditahan', 'ditangkap', 'dibebaskan', 'dikeluarkan', 'dibentuk', 'diberi', 'dilebur', 'ditangkap', 'diadili', 'dirinya', 'dikenal', 'disebut', 'diadakan', 'diketuai', 'diperdengarkan', 'dinyanyikan', 'ditunjuk', 'dibuat', 'disetujui', 'dikenal', 'ditangkap', 'diri', 'disebut', 'diharapkan', 'ditunjuk', 'ditimbulkan', 'disingkat', 'dibebaskan', 'dilema', 'diangkat', 'dikumpulkan', 'ditangkap', 'dijebloskan', 'diasingkan', 'dipindahkan', 'ditangkap', 'dijebloskan', 'diasingkan', 'dipindahkan', 'dipindahkan', 'diberi', 'dimulai', 'diubah', 'dibatasi', 'diperparah', 'disaksikan', 'diduduki', 'diperlukan', 'diberikan', 'dibuat', 'dikenal', 'dikenal', 'disebut', 'dirinya', 'dijadikan', 'dicurigai', 'dibunuh', 'dicabut', 'dinamakan', 'disebut', 'disusun', 'dipanggil', 'dia', 'dipaksa', 'diselenggarakan', 'dimenangkan', 'disapa', 'diri', 'diri', 'dilanda', 'disusul', 'dibakukan', 'diukur', 'dipengaruhi', 'ditimbulkan', 'dipercaya', 'dingin', 'dikelompokkan', 'disebut', 'disebut', 'digunakan', 'disebabkan', 'ditutupi', 'dihitung', 'didorong', 'dipegang', 'dibantu', 'dipilih', 'ditambah', 'dipilih', 'dijalankan', 'dikhususkan', 'diketuai', 'diketuai', 'diketuai', 'dijalankan', 'diplomatik', 'dinyatakan', 'didasarkan', 'diri', 'dilakukan', 'dikeluarkan', 'dipengaruhi', 'dilindungi', 'dilakukan', 'diterapkannya', 'ditransklusi', 'dipilih', 'ditunjuk', 'digunakan', 'distrik', 'direncanakan', 'diresmikan', 'dipindahkan', 'ditawannya', 'dipegang', 'ditunda', 'diberi', 'diundangkan', 'dilakukan', 'didukung', 'diluncurkannya', 'ditambah', 'disiplin', 'disertai', 'diri', 'dikeluarkan', 'dikeluarkan', 'dikeluarkan', 'diperkirakan', 'dijumpai', 'disebabkan', 'dikeluarkannya', 'diperkirakan', 'diperkirakan', 'diatur', 'diberikan', 'diperoleh', 'dipegang', 'digunakan', 'dianggap', 'dikelompokkan', 'dikelompokkan', 'dipertuturkan', 'digunakan', 'digunakan', 'diajukan', 'ditetapkan', 'diselenggarakan', 'diajarkan', 'diperkenalkan', 'diajarkan', 'dipraktikkan', 'diajarkan', 'dipeluk', 'dipeluk', 'dinamisme', 'dipraktikkan', 'dianut', 'diperkenalkan', 'dilakukan', 'dibawa', 'dilaporkan', 'dianggap', 'dilaporkan', 'dilaporkan', 'dibandingkan', 'dipengaruhi', 'ditemukan', 'dipergunakan', 'diklaim', 'dikenali', 'dikenakan', 'dilihat', 'diadakan', 'diri', 'diri', 'ditampilkan', 'diikuti', 'diraih', 'diraih', 'dianggap', 'diraihnya', 'dikenal', 'dikenal', 'dipengaruhi', 'diklaim', 'dihidangkan', 'ditemukan', 'dimakan', 'disajikan', 'dijual', 'disajikan', 'ditemui', 'dijual', 'dikenal', 'dijual', 'dijual', 'diproduksi', 'dibuat', 'dibuat', 'diproduksi', 'diakui', 'disutradarai', 'dihasilkannya', 'dirilis', 'diangkat', 'dilaporkan', 'diperkirakan', 'diakses', 'disahkan', 'diplomatic', 'diakses', 'diakses', 'diakses', 'director', 'diarsipkan', 'diselenggarakan', 'disampaikan', 'diselenggarakan', 'diakses', 'dishes', 'digunakan', 'didirikan', 'diperkirakan', 'didirikan', 'diubah']\n"
     ]
    }
   ],
   "source": [
    "import re\n",
    "\n",
    "with open('Indonesia.txt', 'r', encoding='utf-8') as f:\n",
    "    teks = f.read()\n",
    "p = r'\\bdi\\w+'\n",
    "ans = re.findall(p, teks)\n",
    "\n",
    "print(ans)"
   ]
  }
 ],
 "metadata": {
  "kernelspec": {
   "display_name": "Python 3 (ipykernel)",
   "language": "python",
   "name": "python3"
  },
  "language_info": {
   "codemirror_mode": {
    "name": "ipython",
    "version": 3
   },
   "file_extension": ".py",
   "mimetype": "text/x-python",
   "name": "python",
   "nbconvert_exporter": "python",
   "pygments_lexer": "ipython3",
   "version": "3.11.8"
  },
  "widgets": {
   "application/vnd.jupyter.widget-state+json": {
    "state": {},
    "version_major": 2,
    "version_minor": 0
   }
  }
 },
 "nbformat": 4,
 "nbformat_minor": 5
}
