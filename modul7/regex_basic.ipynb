{
 "cells": [
  {
   "cell_type": "markdown",
   "id": "37f04831-f815-4da8-a122-004eadc862aa",
   "metadata": {},
   "source": [
    "# Regular Expression\n",
    "<p style=\"font-family:Monospace;font-size: 25px;\"\">\n",
    "<b>Baca kembali materi teori bahasa dan automata</b>\n",
    "</p>"
   ]
  },
  {
   "cell_type": "code",
   "execution_count": 1,
   "id": "c56b8e22-b76c-4ad3-86d6-007fd4de7d7f",
   "metadata": {},
   "outputs": [
    {
     "name": "stdout",
     "output_type": "stream",
     "text": [
      "menemukan ['kata:teh']\n"
     ]
    }
   ],
   "source": [
    "import re\n",
    "\n",
    "s = 'sebuah contoh kata:teh!!'\n",
    "cocok = re.findall(r'kata:\\w\\w\\w', s) \n",
    "\n",
    "# Penyataan-IF sesudah findall() akan memeriksa apakah pencarian berhasil\n",
    "if cocok:\n",
    "    print('menemukan', cocok) ## 'menemukan [kata:teh]' \n",
    "else: \n",
    "    print('tidak menemukan')"
   ]
  },
  {
   "cell_type": "code",
   "execution_count": 2,
   "id": "d37cc3be-012f-443f-9ce2-cc28de2d0147",
   "metadata": {},
   "outputs": [
    {
     "name": "stdout",
     "output_type": "stream",
     "text": [
      "menemukan ['kata:bat']\n"
     ]
    }
   ],
   "source": [
    "import re\n",
    "\n",
    "s = 'sebuah contoh kata:batagor!!'\n",
    "cocok = re.findall(r'kata:\\w\\w\\w', s) \n",
    "\n",
    "# Penyataan-IF sesudah findall() akan memeriksa apakah pencarian berhasil\n",
    "if cocok:\n",
    "    print('menemukan', cocok)  \n",
    "else: \n",
    "    print('tidak menemukan')"
   ]
  },
  {
   "cell_type": "code",
   "execution_count": 3,
   "id": "9410ffff-52f8-4c50-98cf-f5559bbd9c4b",
   "metadata": {},
   "outputs": [
    {
     "name": "stdout",
     "output_type": "stream",
     "text": [
      "tidak menemukan\n"
     ]
    }
   ],
   "source": [
    "import re\n",
    "\n",
    "s = 'sebuah contoh kata:es teh!!'\n",
    "cocok = re.findall(r'kata:\\w\\w\\w', s) \n",
    "\n",
    "# Penyataan-IF sesudah findall() akan memeriksa apakah pencarian berhasil\n",
    "if cocok:\n",
    "    print('menemukan', cocok)  \n",
    "else: \n",
    "    print('tidak menemukan')"
   ]
  },
  {
   "cell_type": "markdown",
   "id": "3438f5d6-be30-40d0-889c-bf214e75614b",
   "metadata": {},
   "source": [
    "## Contoh dasar"
   ]
  },
  {
   "cell_type": "markdown",
   "id": "db3ce7a4-4f77-4cc3-a04c-2d175713bf34",
   "metadata": {},
   "source": [
    "### Basic"
   ]
  },
  {
   "cell_type": "code",
   "execution_count": 7,
   "id": "db9a5341-4d49-4db8-967e-80e9cd278a9c",
   "metadata": {},
   "outputs": [
    {
     "name": "stdout",
     "output_type": "stream",
     "text": [
      "['eee']\n",
      "[]\n",
      "['eeh']\n",
      "['123', '201']\n",
      "['def', 'tgh']\n"
     ]
    }
   ],
   "source": [
    "import re\n",
    "\n",
    "## Dua baris ini mencari pola ’eee’ di string ’teeeh’.\n",
    "## Seluruh pola harus cocok, tapi itu bisa muncul di mana saja.\n",
    "## Jika berhasil, \\texttt{cocok} adalah daftar semua teks yang cocok.\n",
    "cocok = re.findall(r'eee', 'teeee') #=> cocok == [’eee’]\n",
    "print(cocok)\n",
    "cocok = re.findall(r'ehs', 'teeeh') #=> cocok == []\n",
    "print(cocok)\n",
    "\n",
    "## . = semua karakter kecuali \\n\n",
    "cocok = re.findall(r'..h', 'teeeh') #=> cocok == [’eeh’]\n",
    "print(cocok)\n",
    "\n",
    "## \\d = karakter angka, \\w = karakter huruf atau angka\n",
    "cocok = re.findall(r'\\d\\d\\d', 't123h di 2019 bulan 02') #=> cocok == [’123’, ’201’]\n",
    "print(cocok)\n",
    "cocok = re.findall(r'\\w\\w\\w', '@@a*bc#def*tghh!!') #=> cocok == [’def’, ’tgh’]\n",
    "print(cocok)"
   ]
  },
  {
   "cell_type": "markdown",
   "id": "a818b49f-91c2-4c4b-a0fb-8699c7a65636",
   "metadata": {},
   "source": [
    "### Pengulangan"
   ]
  },
  {
   "cell_type": "code",
   "execution_count": 1,
   "id": "261e7ad6-6abf-44ed-9761-85b552d82bdb",
   "metadata": {},
   "outputs": [
    {
     "name": "stdout",
     "output_type": "stream",
     "text": [
      "['teee']\n",
      "['ee', 'eeee']\n",
      "['1 2 3']\n",
      "['12 3']\n",
      "['123']\n",
      "[]\n",
      "['kursi tamu saya']\n"
     ]
    }
   ],
   "source": [
    "import re\n",
    "\n",
    "## e+ = satu atau lebih e, sebanyak-banyaknya.\n",
    "cocok = re.findall(r'te+', 'ghdteeeh') #=> cocok == ['teee']\n",
    "print(cocok)\n",
    "\n",
    "## Menemukan solusi yang paling kiri, dan dari situ mendorong si tanda '+' sejauh-jauhnya (ingat 'paling kiri dan paling besar').\n",
    "## Pada contoh ini, perhatikan bahwa pencarian menemukan dua pola yang tepat.\n",
    "cocok = re.findall(r'e+', 'teeheeee') #=> cocok == ['ee', 'eeee']\n",
    "print(cocok)\n",
    "\n",
    "## \\s* = nol atau lebih karakter putih (spasi, tab, dsb.)\n",
    "## Di sini mencari 3 angka, kemungkinan dipisahkan oleh spasi/tab.\n",
    "polanya = r'\\d\\s*\\d\\s*\\d'\n",
    "cocok = re.findall(polanya, 'xx1 2 3xx') #=> cocok == ['1 2 3']\n",
    "print(cocok)\n",
    "cocok = re.findall(polanya, 'xx12 3xx') #=> cocok == ['12 3']\n",
    "print(cocok)\n",
    "cocok = re.findall(polanya, 'xx123xx') #=> cocok == ['123']\n",
    "print(cocok)\n",
    "\n",
    "## ^ -> cocok dengan awal string, jadi ini tidak akan menemukan:\n",
    "cocok = re.findall(r'^k\\w+', 'mejakursi') #=> tidak ketemu, cocok == []\n",
    "print(cocok)\n",
    "## tapi tanpa ^ dia berhasil:\n",
    "cocok = re.findall(r'k[\\w\\s]+', 'mejakursi tamu saya') #=> cocok == ['kursi tamu saya']\n",
    "print(cocok)\n"
   ]
  },
  {
   "cell_type": "markdown",
   "id": "484dc45a-d8af-4647-ac3c-20d9a19d4f19",
   "metadata": {},
   "source": [
    "### Kurung siku"
   ]
  },
  {
   "cell_type": "code",
   "execution_count": 12,
   "id": "b7eb22fc-643c-4a6c-bcf2-d4e8bbcb1ecd",
   "metadata": {},
   "outputs": [
    {
     "name": "stdout",
     "output_type": "stream",
     "text": [
      "dita-b@google.com\n"
     ]
    }
   ],
   "source": [
    "import re\n",
    "\n",
    "s = 'Alamatku adalah dita-b@google.com mas'\n",
    "pola = r'[a-zA-Z0-9_.+-]+@[a-zA-Z0-9-]+\\.[a-zA-Z0-9-.]+'\n",
    "cocok = re.findall(pola, s)\n",
    "print(cocok[0]) ## => ’dita-b@google.com’\n"
   ]
  },
  {
   "cell_type": "markdown",
   "id": "421b313f-5889-4b6f-9afc-d575b90c0a01",
   "metadata": {},
   "source": [
    "### Ekstraksi secara group"
   ]
  },
  {
   "cell_type": "code",
   "execution_count": 14,
   "id": "10df500e-66ee-4376-a48a-573905f580fd",
   "metadata": {},
   "outputs": [
    {
     "name": "stdout",
     "output_type": "stream",
     "text": [
      "[('dita-b', 'google.com')]\n",
      "dita-b\n",
      "google.com\n"
     ]
    }
   ],
   "source": [
    "import re\n",
    "\n",
    "import re\n",
    "\n",
    "s = 'Alamatku adalah dita-b@google.com mas'\n",
    "cocok = re.findall(r'([\\w.-]+)@([\\w.-]+)', s) ## perhatikan posisi () di polanya\n",
    "print(cocok) ## adalah [('dita-b', 'google.com')]\n",
    "## Bisa kita pilah satu per satu seperti ini:\n",
    "print(cocok[0][0]) ## 'dita-b'\n",
    "print(cocok[0][1]) ## 'google.com'"
   ]
  },
  {
   "cell_type": "code",
   "execution_count": 15,
   "id": "bb36f3c2-2e98-460f-87e3-c4a3b33d920e",
   "metadata": {},
   "outputs": [
    {
     "name": "stdout",
     "output_type": "stream",
     "text": [
      "['sri@google.com', 'joko@abc.com', 'don@email.com']\n"
     ]
    }
   ],
   "source": [
    "import re\n",
    "\n",
    "## Kita punya banyak alamat email\n",
    "s = 'Alamatku sri@google.com serta joko@abc.com ok bro. atau don@email.com'\n",
    "\n",
    "## Di sini re.findall() mengembalikan sebuah list beranggotakan string alamat\n",
    "pola = r'[\\w\\.-]+@[\\w\\.-]+'\n",
    "e = re.findall(pola, s)\n",
    "print(e)\n"
   ]
  },
  {
   "cell_type": "code",
   "execution_count": 16,
   "id": "a3034ecd-b18c-41c2-ba37-b0bfbbf9005a",
   "metadata": {},
   "outputs": [
    {
     "name": "stdout",
     "output_type": "stream",
     "text": [
      "[('sri', 'google.com'), ('joko', 'abc.com'), ('don', 'email.com')]\n",
      "user sri dengan host: google.com\n",
      "user joko dengan host: abc.com\n",
      "user don dengan host: email.com\n"
     ]
    }
   ],
   "source": [
    "import re\n",
    "\n",
    "s = 'Alamatku sri@google.com serta joko@abc.com ok bro. atau don@email.com'\n",
    "\n",
    "pola = r'([\\w\\.-]+)@([\\w\\.-]+)'\n",
    "e = re.findall(pola, s)\n",
    "print(e) ##==> sekarang bagaimanakah hasilnya?\n",
    "\n",
    "## Atau kita cetak satu per satu:\n",
    "for tup in e:\n",
    "    print('user', tup[0], 'dengan host:', tup[1])"
   ]
  },
  {
   "cell_type": "markdown",
   "id": "751fd355-7d85-4e2d-abb3-1be959d6c54b",
   "metadata": {},
   "source": [
    "### Pencarian dalam berkas"
   ]
  },
  {
   "cell_type": "markdown",
   "id": "dee71403-fb87-4cc7-9799-83afb8233518",
   "metadata": {},
   "source": [
    "Cara yang lebih baik (daripada menggunakan instruksi looping)\n",
    "```python \n",
    "import re\n",
    "\n",
    "f = open('test.txt', 'r', encoding='latin1') ## membuka file.\n",
    "teks = f.read()\n",
    "f.close()\n",
    "p = r'sebuah pola' ## ini polanya.\n",
    "## memberikan seluruhnya ke findall()\n",
    "## dia mengembalikan list beranggotakan string yang cocok\n",
    "strings = re.findall(p, teks)\n",
    "print(strings)\n",
    "\n",
    "```"
   ]
  }
 ],
 "metadata": {
  "kernelspec": {
   "display_name": "Python 3 (ipykernel)",
   "language": "python",
   "name": "python3"
  },
  "language_info": {
   "codemirror_mode": {
    "name": "ipython",
    "version": 3
   },
   "file_extension": ".py",
   "mimetype": "text/x-python",
   "name": "python",
   "nbconvert_exporter": "python",
   "pygments_lexer": "ipython3",
   "version": "3.11.8"
  },
  "widgets": {
   "application/vnd.jupyter.widget-state+json": {
    "state": {},
    "version_major": 2,
    "version_minor": 0
   }
  }
 },
 "nbformat": 4,
 "nbformat_minor": 5
}
