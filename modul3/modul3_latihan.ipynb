{
 "cells": [
  {
   "cell_type": "code",
   "execution_count": 1,
   "id": "55aee4fc-8a48-4703-91a7-f69a3f67b231",
   "metadata": {},
   "outputs": [
    {
     "name": "stdout",
     "output_type": "stream",
     "text": [
      "Memulai skrip isi shell interaktif Python...\n",
      " \n",
      ">>> print('A = [[2,3], [5,7]]')\n",
      ">>> print('A[0][1]')\n",
      "3\n",
      ">>> print('A[1][1]')\n",
      "7\n",
      " \n",
      "Keluar dari shell interaktif Python.\n"
     ]
    }
   ],
   "source": [
    "!bash LatArr1.sh"
   ]
  },
  {
   "cell_type": "code",
   "execution_count": 2,
   "id": "323d10f0-c8ba-4bf7-a6a2-2410be228a78",
   "metadata": {},
   "outputs": [
    {
     "name": "stdout",
     "output_type": "stream",
     "text": [
      "Memulai skrip isi shell interaktif Python...\n",
      " \n",
      ">>> B = [[0 for j in range(3)] for i in range(3)]\n",
      ">>> B\n",
      "[[0, 0, 0], [0, 0, 0], [0, 0, 0]]\n",
      " \n",
      "Keluar dari shell interaktif Python.\n"
     ]
    }
   ],
   "source": [
    "!bash LatArr2.sh"
   ]
  },
  {
   "cell_type": "code",
   "execution_count": 3,
   "id": "6151cdd6-fbb3-4257-a947-b5bb77e1cd3b",
   "metadata": {},
   "outputs": [
    {
     "name": "stdout",
     "output_type": "stream",
     "text": [
      "Memulai skrip isi shell interaktif Python...\n",
      " \n",
      ">>> print([x**2 for x in range(0,7)])\n",
      "[0, 1, 4, 9, 16, 25, 36]\n",
      ">>>  \n",
      ">>> print([(x, x**2) for x in range(7)])\n",
      "[(0, 0), (1, 1), (2, 4), (3, 9), (4, 16), (5, 25), (6, 36)]\n",
      ">>>  \n",
      ">>> print([x**2 for x in range(15) if x%2==0])\n",
      "[0, 1, 4, 9, 16, 25, 36]\n",
      ">>>  \n",
      ">>> print([3 for i in range(5)])\n",
      "[0, 1, 4, 9, 16, 25, 36]\n",
      ">>>  \n",
      ">>> print([ [0 for j in range(3)] for i in range(3) ])\n",
      "[[0, 0, 0], [0, 0, 0], [0, 0, 0]]\n",
      ">>>  \n",
      ">>> print([ [ 1 if j==i else 0 for j in range(3) ] for i in range(3) ])\n",
      "[[1, 0, 0], [0, 1, 0], [0, 0, 1]]\n",
      ">>>  \n",
      ">>> print(d = 'Yogyakarta dan Surakarta')\n",
      "['o', 'a', 'a', 'a', 'a', 'u', 'a', 'a', 'a']\n",
      ">>>  \n",
      ">>> from apakahPrima.py import *\n",
      ">>> print([x for x in range(20,50) if apakahPrima(x)])\n",
      "[23, 29, 31, 37, 41, 43, 47]\n",
      " \n",
      "Keluar dari shell interaktif Python.\n"
     ]
    }
   ],
   "source": [
    "!bash LatArr22.sh"
   ]
  },
  {
   "cell_type": "code",
   "execution_count": null,
   "id": "14066dcd-b2d0-4dc4-b276-04835e8766de",
   "metadata": {},
   "outputs": [],
   "source": []
  }
 ],
 "metadata": {
  "kernelspec": {
   "display_name": "Python 3 (ipykernel)",
   "language": "python",
   "name": "python3"
  },
  "language_info": {
   "codemirror_mode": {
    "name": "ipython",
    "version": 3
   },
   "file_extension": ".py",
   "mimetype": "text/x-python",
   "name": "python",
   "nbconvert_exporter": "python",
   "pygments_lexer": "ipython3",
   "version": "3.11.8"
  },
  "widgets": {
   "application/vnd.jupyter.widget-state+json": {
    "state": {},
    "version_major": 2,
    "version_minor": 0
   }
  }
 },
 "nbformat": 4,
 "nbformat_minor": 5
}
