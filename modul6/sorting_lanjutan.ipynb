{
 "cells": [
  {
   "cell_type": "markdown",
   "id": "c5208e74-b19b-46eb-82b2-c06c3b36311f",
   "metadata": {},
   "source": [
    "# Pengurutan Lanjutan"
   ]
  },
  {
   "cell_type": "markdown",
   "id": "c9fa711a-3659-41e6-ada1-b3eb1d15a803",
   "metadata": {},
   "source": [
    "## Menggabbungkan dua list yang sudah urut"
   ]
  },
  {
   "cell_type": "code",
   "execution_count": 1,
   "id": "4a0b6814-f282-4cad-a973-0f3547493bc0",
   "metadata": {},
   "outputs": [],
   "source": [
    "def gabungkanDuaListUrut(A, B):\n",
    "    la = len(A)\n",
    "    lb = len(B)\n",
    "    C = list()  # C adalah list baru\n",
    "    i = 0\n",
    "    j = 0\n",
    "\n",
    "    # Gabungkan keduanya sampai salah satu kosong\n",
    "    while i < la and j < lb:\n",
    "        if A[i] < B[j]:\n",
    "            C.append(A[i])\n",
    "            i += 1\n",
    "        else:\n",
    "            C.append(B[j])\n",
    "            j += 1\n",
    "\n",
    "    # Jika A mempunyai sisa\n",
    "    while i < la:\n",
    "        C.append(A[i])  # tumpukkan ke list baru itu\n",
    "        i += 1  # satu demi satu\n",
    "\n",
    "    # Jika B mempunyai sisa\n",
    "    while j < lb:\n",
    "        C.append(B[j])  # tumpukkan ke list baru itu\n",
    "        j += 1  # satu demi satu\n",
    "\n",
    "    return C\n"
   ]
  },
  {
   "cell_type": "markdown",
   "id": "f579715a-2c5b-4170-b467-946215448b70",
   "metadata": {},
   "source": [
    "## Merge Sort\n"
   ]
  },
  {
   "cell_type": "code",
   "execution_count": 5,
   "id": "43845b2c-5dee-49e5-8d13-a0b80741b77c",
   "metadata": {},
   "outputs": [
    {
     "name": "stdout",
     "output_type": "stream",
     "text": [
      "Menggabungkan [54]\n",
      "Menggabungkan [26]\n",
      "Menggabungkan [26, 54]\n",
      "Menggabungkan [93]\n",
      "Menggabungkan [17]\n",
      "Menggabungkan [17, 93]\n",
      "Menggabungkan [17, 26, 54, 93]\n",
      "Menggabungkan [77]\n",
      "Menggabungkan [31]\n",
      "Menggabungkan [31, 77]\n",
      "Menggabungkan [44]\n",
      "Menggabungkan [55]\n",
      "Menggabungkan [20]\n",
      "Menggabungkan [20, 55]\n",
      "Menggabungkan [20, 44, 55]\n",
      "Menggabungkan [20, 31, 44, 55, 77]\n",
      "Menggabungkan [17, 20, 26, 31, 44, 54, 55, 77, 93]\n",
      "\n",
      "Hasil akhir:\n",
      " [17, 20, 26, 31, 44, 54, 55, 77, 93]\n"
     ]
    }
   ],
   "source": [
    "def mergeSort(A):\n",
    "    if len(A) > 1:\n",
    "        mid = len(A) // 2\n",
    "        \n",
    "        # Alih-alih slicing, gunakan indeks untuk melacak bagian kiri dan kanan\n",
    "        separuhKiri = A[:mid]\n",
    "        separuhKanan = A[mid:]\n",
    "        \n",
    "        mergeSort(separuhKiri)\n",
    "        mergeSort(separuhKanan)\n",
    "        \n",
    "        # Proses penggabungan\n",
    "        i = j = k = 0\n",
    "        \n",
    "        while i < len(separuhKiri) and j < len(separuhKanan):\n",
    "            if separuhKiri[i] < separuhKanan[j]:\n",
    "                A[k] = separuhKiri[i]\n",
    "                i += 1\n",
    "            else:\n",
    "                A[k] = separuhKanan[j]\n",
    "                j += 1\n",
    "            k += 1\n",
    "        \n",
    "        while i < len(separuhKiri):\n",
    "            A[k] = separuhKiri[i]\n",
    "            i += 1\n",
    "            k += 1\n",
    "        \n",
    "        while j < len(separuhKanan):\n",
    "            A[k] = separuhKanan[j]\n",
    "            j += 1\n",
    "            k += 1\n",
    "    print('Menggabungkan', A)\n",
    "\n",
    "if __name__ == '__main__':\n",
    "    alist = [54,26,93,17,77,31,44,55,20]\n",
    "    mergeSort(alist)\n",
    "    print('\\nHasil akhir:\\n', alist)"
   ]
  },
  {
   "cell_type": "markdown",
   "id": "84f5c230-ada0-44d2-93b7-5f4b34b705f1",
   "metadata": {},
   "source": [
    "## Quick Sort"
   ]
  },
  {
   "cell_type": "code",
   "execution_count": 8,
   "id": "344b8759-5048-45cd-9973-0e8f11a8d781",
   "metadata": {},
   "outputs": [
    {
     "name": "stdout",
     "output_type": "stream",
     "text": [
      "\n",
      "Hasil akhir:\n",
      " [17, 20, 26, 31, 44, 54, 55, 77, 93]\n"
     ]
    }
   ],
   "source": [
    "def partisi(A, awal, akhir):\n",
    "    nilaiPivot = A[awal]  # Di sini nilaiPivot kita ambil dari elemen yang paling kiri.\n",
    "\n",
    "    penandaKiri = awal + 1  # Posisi awal penandaKiri. Lihat Gambar 6.3.\n",
    "    penandaKanan = akhir  # Posisi awal penandaKanan.\n",
    "\n",
    "    selesai = False\n",
    "    while not selesai:  # loop di bawah adalah untuk mengatur ulang posisi semua elemen\n",
    "        while penandaKiri <= penandaKanan and A[penandaKiri] <= nilaiPivot:  # penandaKiri bergerak ke kanan,\n",
    "            penandaKiri += 1  # sampai ketemu suatu nilai yang lebih besar dari nilaiPivot\n",
    "\n",
    "        while penandaKanan >= penandaKiri and A[penandaKanan] >= nilaiPivot:  # penandaKanan bergerak ke kiri,\n",
    "            penandaKanan -= 1  # sampai ketemu suatu nilai yang lebih kecil dari nilaiPivot\n",
    "\n",
    "        if penandaKanan < penandaKiri:  # Kalau dua penanda sudah bersilangan,\n",
    "            selesai = True  # selesai & lanjut ke penempatan pivot\n",
    "        else:\n",
    "            temp = A[penandaKiri]  # Tapi kalau belum bersilangan,\n",
    "            A[penandaKiri] = A[penandaKanan]  # tukarlah isi yang ditunjuk oleh\n",
    "            A[penandaKanan] = temp  # penandaKiri dan penandaKanan\n",
    "\n",
    "    temp = A[awal]  # Kalau acara tukar menukar posisi sudah selesai,\n",
    "    A[awal] = A[penandaKanan]  # kita lalu menempatkan pivot pada posisi yang tepat,\n",
    "    A[penandaKanan] = temp  # yakni posisi penandaKanan. Lihat Gambar 6.3 dan 6.4.\n",
    "    # Posisi penandaKanan adalah juga titikBelah.\n",
    "    return penandaKanan  # Fungsi ini mengembalikan titikBelah ke pemanggil\n",
    "\n",
    "\n",
    "def quickSortBantu(A, awal, akhir):\n",
    "    if awal < akhir:\n",
    "        titikBelah = partisi(A, awal, akhir) # Atur elemen dan dapatkan titikBelah.\n",
    "        quickSortBantu(A, awal, titikBelah - 1) # Ini rekursi untuk belah sisi kiri\n",
    "        quickSortBantu(A, titikBelah + 1, akhir) # dan belah sisi kanan\n",
    "\n",
    "def quickSort(A):\n",
    "    quickSortBantu(A, 0, len(A) - 1 )\n",
    "\n",
    "if __name__ == '__main__':\n",
    "    alist = [54,26,93,17,77,31,44,55,20]\n",
    "    quickSort(alist)\n",
    "    print('\\nHasil akhir:\\n', alist)"
   ]
  },
  {
   "cell_type": "code",
   "execution_count": null,
   "id": "f29420e2-6ec1-45ad-9ba3-ddfa809225df",
   "metadata": {
    "editable": true,
    "slideshow": {
     "slide_type": ""
    },
    "tags": []
   },
   "outputs": [],
   "source": []
  }
 ],
 "metadata": {
  "kernelspec": {
   "display_name": "Python 3 (ipykernel)",
   "language": "python",
   "name": "python3"
  },
  "language_info": {
   "codemirror_mode": {
    "name": "ipython",
    "version": 3
   },
   "file_extension": ".py",
   "mimetype": "text/x-python",
   "name": "python",
   "nbconvert_exporter": "python",
   "pygments_lexer": "ipython3",
   "version": "3.11.8"
  },
  "widgets": {
   "application/vnd.jupyter.widget-state+json": {
    "state": {},
    "version_major": 2,
    "version_minor": 0
   }
  }
 },
 "nbformat": 4,
 "nbformat_minor": 5
}
