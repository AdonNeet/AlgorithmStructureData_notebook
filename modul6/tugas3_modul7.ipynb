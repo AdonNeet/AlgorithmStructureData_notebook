{
 "cells": [
  {
   "cell_type": "markdown",
   "id": "85268660-8271-4245-aeb6-0802ea2a5a96",
   "metadata": {},
   "source": [
    "## 3. \n",
    "Uji kecepatan. Ujilah mergeSort dan quickSort di atas (bersama metode sort yang kamu\n",
    "pelajari sebelumnya) dengan kode di bawah ini.\n"
   ]
  },
  {
   "cell_type": "code",
   "execution_count": 1,
   "id": "d273accd-7ec4-4120-b713-e7a45f8af8e3",
   "metadata": {},
   "outputs": [],
   "source": [
    "def swap(A, p, q):\n",
    "    tmp = A[p]\n",
    "    A[p] = A[q]\n",
    "    A[q] = tmp\n",
    "\n",
    "def bubbleSort(A):\n",
    "    n = len(A)\n",
    "    for i in range(n-1):        #-> Lakukan operasi gelembung sebanyak n-1\n",
    "        for j in range(n-i-1):  #-> Dorong elemen terbesar ke ujung kanan\n",
    "            if A[j] > A[j+1]:   #-> Jika di kiri lebih besar dari di kanannya,\n",
    "                swap(A,j,j+1)   #-> tukar posisi elemen ke j dengan ke j+1\n",
    "\n",
    "def cariPosisiYangTerkecil(A, dariSini, sampaiSini):\n",
    "    posisiYangTerkecil = dariSini           #-> anggap ini yang terkecil\n",
    "    for i in range(dariSini, sampaiSini):   #-> cari di sisa list\n",
    "        if A[i] < A[posisiYangTerkecil]:    #-> kalau menemukan yang lebih kecil,\n",
    "            posisiYangTerkecil = i          #-> anggapan dirubah\n",
    "    return posisiYangTerkecil\n",
    "\n",
    "def selectionSort(A):\n",
    "    n = len(A)\n",
    "    for i in range(n-1):\n",
    "        indexKecil = cariPosisiYangTerkecil(A, i, n)\n",
    "        if indexKecil != i:\n",
    "            swap(A, i, indexKecil)\n",
    "\n",
    "def insertionSort(A):\n",
    "    n = len(A)\n",
    "    for i in range(1, n):\n",
    "        nilai = A[i]\n",
    "        pos = i\n",
    "        while pos > 0 and nilai < A[pos - 1]:   # -> Cari posisi yang tepat\n",
    "            A[pos] = A[pos - 1] # dan geser ke kanan terus\n",
    "            pos = pos - 1       # nilai-nilai yang lebih besar\n",
    "        A[pos] = nilai # -> Pada posisi ini tempatkan nilai elemen ke i.\n"
   ]
  },
  {
   "cell_type": "code",
   "execution_count": 2,
   "id": "ba724e5a-68b6-4669-aabc-ae50eee97611",
   "metadata": {},
   "outputs": [],
   "source": [
    "def mergeSort(A):\n",
    "    if len(A) > 1:\n",
    "        mid = len(A) // 2\n",
    "        \n",
    "        # Alih-alih slicing, gunakan indeks untuk melacak bagian kiri dan kanan\n",
    "        separuhKiri = A[:mid]\n",
    "        separuhKanan = A[mid:]\n",
    "        \n",
    "        mergeSort(separuhKiri)\n",
    "        mergeSort(separuhKanan)\n",
    "        \n",
    "        # Proses penggabungan\n",
    "        i = j = k = 0\n",
    "        \n",
    "        while i < len(separuhKiri) and j < len(separuhKanan):\n",
    "            if separuhKiri[i] < separuhKanan[j]:\n",
    "                A[k] = separuhKiri[i]\n",
    "                i += 1\n",
    "            else:\n",
    "                A[k] = separuhKanan[j]\n",
    "                j += 1\n",
    "            k += 1\n",
    "        \n",
    "        while i < len(separuhKiri):\n",
    "            A[k] = separuhKiri[i]\n",
    "            i += 1\n",
    "            k += 1\n",
    "        \n",
    "        while j < len(separuhKanan):\n",
    "            A[k] = separuhKanan[j]\n",
    "            j += 1\n",
    "            k += 1\n"
   ]
  },
  {
   "cell_type": "code",
   "execution_count": 3,
   "id": "943071bb-a718-422a-908b-0ecf8625529c",
   "metadata": {},
   "outputs": [],
   "source": [
    "def partisi(A, awal, akhir):\n",
    "    nilaiPivot = A[awal]  # Di sini nilaiPivot kita ambil dari elemen yang paling kiri.\n",
    "\n",
    "    penandaKiri = awal + 1  # Posisi awal penandaKiri. Lihat Gambar 6.3.\n",
    "    penandaKanan = akhir  # Posisi awal penandaKanan.\n",
    "\n",
    "    selesai = False\n",
    "    while not selesai:  # loop di bawah adalah untuk mengatur ulang posisi semua elemen\n",
    "        while penandaKiri <= penandaKanan and A[penandaKiri] <= nilaiPivot:  # penandaKiri bergerak ke kanan,\n",
    "            penandaKiri += 1  # sampai ketemu suatu nilai yang lebih besar dari nilaiPivot\n",
    "\n",
    "        while penandaKanan >= penandaKiri and A[penandaKanan] >= nilaiPivot:  # penandaKanan bergerak ke kiri,\n",
    "            penandaKanan -= 1  # sampai ketemu suatu nilai yang lebih kecil dari nilaiPivot\n",
    "\n",
    "        if penandaKanan < penandaKiri:  # Kalau dua penanda sudah bersilangan,\n",
    "            selesai = True  # selesai & lanjut ke penempatan pivot\n",
    "        else:\n",
    "            temp = A[penandaKiri]  # Tapi kalau belum bersilangan,\n",
    "            A[penandaKiri] = A[penandaKanan]  # tukarlah isi yang ditunjuk oleh\n",
    "            A[penandaKanan] = temp  # penandaKiri dan penandaKanan\n",
    "\n",
    "    temp = A[awal]  # Kalau acara tukar menukar posisi sudah selesai,\n",
    "    A[awal] = A[penandaKanan]  # kita lalu menempatkan pivot pada posisi yang tepat,\n",
    "    A[penandaKanan] = temp  # yakni posisi penandaKanan. Lihat Gambar 6.3 dan 6.4.\n",
    "    # Posisi penandaKanan adalah juga titikBelah.\n",
    "    return penandaKanan  # Fungsi ini mengembalikan titikBelah ke pemanggil\n",
    "\n",
    "\n",
    "def quickSortBantu(A, awal, akhir):\n",
    "    if awal < akhir:\n",
    "        titikBelah = partisi(A, awal, akhir) # Atur elemen dan dapatkan titikBelah.\n",
    "        quickSortBantu(A, awal, titikBelah - 1) # Ini rekursi untuk belah sisi kiri\n",
    "        quickSortBantu(A, titikBelah + 1, akhir) # dan belah sisi kanan\n",
    "\n",
    "def quickSort(A):\n",
    "    quickSortBantu(A, 0, len(A) - 1 )\n"
   ]
  },
  {
   "cell_type": "code",
   "execution_count": 4,
   "id": "efb8d251-5196-4c5e-957f-9cc67d90f477",
   "metadata": {},
   "outputs": [
    {
     "name": "stdout",
     "output_type": "stream",
     "text": [
      "bubble: 3.84344 detik\n",
      "selection: 1.55162 detik\n",
      "insertion: 1.32512 detik\n",
      "merge: 0.0207133 detik\n",
      "quick: 0.0151968 detik\n"
     ]
    }
   ],
   "source": [
    "from time import time as detak\n",
    "from random import shuffle as kocok\n",
    "import time\n",
    "\n",
    "k = list(range(6000))\n",
    "kocok(k)\n",
    "u_bub = k[:] ##\n",
    "u_sel = k[:] ## Deep copy.\n",
    "u_ins = k[:] ## Jangan lupa [:]-nya!\n",
    "u_mrg = k[:] ##\n",
    "u_qck = k[:] ##\n",
    "\n",
    "aw=detak();bubbleSort(u_bub);ak=detak();print('bubble: %g detik' %(ak-aw) );\n",
    "aw=detak();selectionSort(u_sel);ak=detak();print('selection: %g detik' %(ak-aw) );\n",
    "aw=detak();insertionSort(u_ins);ak=detak();print('insertion: %g detik' %(ak-aw) );\n",
    "aw=detak();mergeSort(u_mrg);ak=detak();print('merge: %g detik' %(ak-aw) );\n",
    "aw=detak();quickSort(u_qck);ak=detak();print('quick: %g detik' %(ak-aw) );"
   ]
  }
 ],
 "metadata": {
  "kernelspec": {
   "display_name": "Python 3 (ipykernel)",
   "language": "python",
   "name": "python3"
  },
  "language_info": {
   "codemirror_mode": {
    "name": "ipython",
    "version": 3
   },
   "file_extension": ".py",
   "mimetype": "text/x-python",
   "name": "python",
   "nbconvert_exporter": "python",
   "pygments_lexer": "ipython3",
   "version": "3.11.8"
  },
  "widgets": {
   "application/vnd.jupyter.widget-state+json": {
    "state": {},
    "version_major": 2,
    "version_minor": 0
   }
  }
 },
 "nbformat": 4,
 "nbformat_minor": 5
}
